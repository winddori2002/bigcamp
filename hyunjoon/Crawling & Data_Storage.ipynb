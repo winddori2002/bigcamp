{
 "cells": [
  {
   "cell_type": "code",
   "execution_count": 1,
   "metadata": {},
   "outputs": [
    {
     "name": "stderr",
     "output_type": "stream",
     "text": [
      "C:\\ProgramData\\Anaconda3\\lib\\site-packages\\h5py\\__init__.py:36: FutureWarning: Conversion of the second argument of issubdtype from `float` to `np.floating` is deprecated. In future, it will be treated as `np.float64 == np.dtype(float).type`.\n",
      "  from ._conv import register_converters as _register_converters\n"
     ]
    }
   ],
   "source": [
    "from matplotlib import font_manager, rc  # 한글사용 matplotlib\n",
    "import pandas as pd\n",
    "import seaborn as sns\n",
    "import matplotlib.pyplot as plt\n",
    "import os\n",
    "import csv\n",
    "import codecs\n",
    "import numpy as np\n",
    "import json\n",
    "import tensorflow as tf\n",
    "import jpype\n",
    "from konlpy.tag import Okt\n",
    "from IPython.core.interactiveshell import InteractiveShell\n",
    "from pandas import DataFrame as df\n",
    "InteractiveShell.ast_node_interactivity = 'all'\n",
    "os.chdir(\"C:/Users/windd/pythondata\")\n",
    "%matplotlib inline\n",
    "font_name = font_manager.FontProperties(\n",
    "    fname=\"c:/Windows/Fonts/malgun.ttf\").get_name()\n",
    "rc('font', family=font_name)"
   ]
  },
  {
   "cell_type": "code",
   "execution_count": 2,
   "metadata": {},
   "outputs": [],
   "source": [
    "import requests\n",
    "from bs4 import BeautifulSoup\n",
    "import time\n",
    "import urllib.request #\n",
    "from selenium.webdriver import Chrome\n",
    "import re     \n",
    "from selenium.webdriver.chrome.options import Options\n",
    "from selenium.webdriver.common.keys import Keys\n",
    "import datetime as dt"
   ]
  },
  {
   "cell_type": "code",
   "execution_count": 3,
   "metadata": {},
   "outputs": [],
   "source": [
    "# 와디즈 크롤링"
   ]
  },
  {
   "cell_type": "code",
   "execution_count": 4,
   "metadata": {},
   "outputs": [],
   "source": [
    "# 크롬 설정\n",
    "# 크롬드라이버 실행\n",
    "# 크롬 드라이버의 버전을 맞춰야함\n",
    "\n",
    "delay=3\n",
    "browser = Chrome()\n",
    "browser.implicitly_wait(delay)"
   ]
  },
  {
   "cell_type": "code",
   "execution_count": 5,
   "metadata": {},
   "outputs": [],
   "source": [
    "# 접속하고싶은 홈페이지 url\n",
    "\n",
    "start_url  = 'https://www.wadiz.kr/web/main'\n",
    "browser.get(start_url)  \n",
    "browser.maximize_window() # 꼭 할필요는 없음"
   ]
  },
  {
   "cell_type": "code",
   "execution_count": 6,
   "metadata": {},
   "outputs": [],
   "source": [
    "# 와디즈 페이지에서 리워드창을 누르는 것\n",
    "# html 분석해서 들어가야함\n",
    "\n",
    "browser.find_elements_by_xpath('//*[@id=\"main-app\"]/div/div/header/div/ul')[0].click()"
   ]
  },
  {
   "cell_type": "code",
   "execution_count": 7,
   "metadata": {},
   "outputs": [],
   "source": [
    "# 현재 페이즈 전체를 크롤링\n",
    "# 나중에 위에 필요없는 부분은 제거할거임\n",
    "\n",
    "body = browser.find_element_by_tag_name('body')\n",
    "\n",
    "num_of_pagedowns = 20\n",
    "\n",
    "#10번 밑으로 내리는 것\n",
    "while num_of_pagedowns:\n",
    "    body.send_keys(Keys.PAGE_DOWN)\n",
    "    time.sleep(2)\n",
    "    num_of_pagedowns -= 1"
   ]
  },
  {
   "cell_type": "code",
   "execution_count": 12,
   "metadata": {},
   "outputs": [],
   "source": [
    "# 위의 행위로 전체 페이지를 계속 긁은 데이터를 html0에 저장\n",
    "# beautifulsoup으로 파싱해서 저장\n",
    "# bs를 보면 내가 원하는 정보 필요한 정보의 형식을 참조해서 접근가능\n",
    "\n",
    "html0 = browser.page_source\n",
    "bs = BeautifulSoup(html0,'lxml')\n",
    "\n",
    "# print(bs)\n",
    "# html 분석할때 필요"
   ]
  },
  {
   "cell_type": "code",
   "execution_count": 9,
   "metadata": {},
   "outputs": [],
   "source": [
    "# 와디즈 html 형식이 간단한 편이라 쉽게 할 수 있음\n",
    "\n",
    "title = bs.find_all('p',{'class':\"CommonProjectCard_title__28lHZ RewardProjectCard_title__RDEBu\"})\n",
    "category = bs.find_all('span',{'class':\"RewardProjectCard_category__1vo_V\"})\n",
    "maker = bs.find_all('span',{'class':\"RewardProjectCard_makerName__2sITk\"})\n",
    "percent = bs.find_all('span', {'class':\"RewardProjectCard_percent__edRT9\"})\n",
    "price = bs.find_all('span', {'class':\"RewardProjectCard_amount__2GV5X\"})\n",
    "term = bs.find_all('span', {'class':\"RewardProjectCard_remainingDay__2KYop\"}) "
   ]
  },
  {
   "cell_type": "code",
   "execution_count": 21,
   "metadata": {},
   "outputs": [
    {
     "name": "stdout",
     "output_type": "stream",
     "text": [
      "<p class=\"CommonProjectCard_title__28lHZ RewardProjectCard_title__RDEBu\"><strong>[벨러 털제거 패드] 반려견 털빠짐 걱정 마요. 저희가 쉽게 해결해줄게요</strong></p>\n",
      "<span class=\"RewardProjectCard_category__1vo_V\">반려동물</span>\n",
      "<span class=\"RewardProjectCard_makerName__2sITk\">Veller</span>\n",
      "<span class=\"RewardProjectCard_percent__edRT9\">163%</span>\n",
      "<span class=\"RewardProjectCard_amount__2GV5X\">1,632,000원</span>\n",
      "<span class=\"RewardProjectCard_remainingDay__2KYop\">24일</span>\n",
      "\n",
      "\n",
      "\n",
      "<p class=\"CommonProjectCard_title__28lHZ RewardProjectCard_title__RDEBu\"><strong>[역대급 8.8% 미백성분] 기미 * 잡티 OUT 종결템!  </strong></p>\n",
      "<span class=\"RewardProjectCard_category__1vo_V\">뷰티</span>\n",
      "<span class=\"RewardProjectCard_makerName__2sITk\">선티크</span>\n",
      "<span class=\"RewardProjectCard_percent__edRT9\">671%</span>\n",
      "<span class=\"RewardProjectCard_amount__2GV5X\">3,355,300원</span>\n",
      "<span class=\"RewardProjectCard_remainingDay__2KYop\">38일</span>\n",
      "\n",
      "\n",
      "\n"
     ]
    }
   ],
   "source": [
    "# test\n",
    "\n",
    "a = 0\n",
    "\n",
    "for i in range(1,3):\n",
    "    print(title[i])\n",
    "    print(category[i])\n",
    "    print(maker[i])\n",
    "    print(percent[i])\n",
    "    print(price[i])\n",
    "    print(term[i])\n",
    "    print('\\n\\n')"
   ]
  },
  {
   "cell_type": "code",
   "execution_count": null,
   "metadata": {},
   "outputs": [],
   "source": []
  }
 ],
 "metadata": {
  "kernelspec": {
   "display_name": "Python 3",
   "language": "python",
   "name": "python3"
  },
  "language_info": {
   "codemirror_mode": {
    "name": "ipython",
    "version": 3
   },
   "file_extension": ".py",
   "mimetype": "text/x-python",
   "name": "python",
   "nbconvert_exporter": "python",
   "pygments_lexer": "ipython3",
   "version": "3.6.5"
  }
 },
 "nbformat": 4,
 "nbformat_minor": 2
}
