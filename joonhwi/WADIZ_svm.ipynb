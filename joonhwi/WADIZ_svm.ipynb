{
 "cells": [
  {
   "cell_type": "code",
   "execution_count": 1,
   "metadata": {},
   "outputs": [],
   "source": [
    "from sklearn.svm import SVC\n",
    "from matplotlib import font_manager, rc  # 한글사용 matplotlib\n",
    "import pandas as pd\n",
    "import seaborn as sns\n",
    "import matplotlib.pyplot as plt\n",
    "import os\n",
    "import csv\n",
    "import codecs\n",
    "import datetime \n",
    "import numpy as np\n",
    "import json\n",
    "import jpype\n",
    "from konlpy.tag import Okt\n",
    "from IPython.core.interactiveshell import InteractiveShell\n",
    "from pandas import DataFrame as df\n",
    "InteractiveShell.ast_node_interactivity = 'all'\n",
    "%matplotlib inline\n",
    "font_name = font_manager.FontProperties(\n",
    "    fname=\"c:/Windows/Fonts/malgun.ttf\").get_name()\n",
    "rc('font', family=font_name)"
   ]
  },
  {
   "cell_type": "code",
   "execution_count": 2,
   "metadata": {},
   "outputs": [],
   "source": [
    "data = pd.read_excel('master_data.xlsx')\n",
    "data = pd.concat([data,pd.get_dummies(data['펀딩시작요일'])],axis=1)"
   ]
  },
  {
   "cell_type": "code",
   "execution_count": 3,
   "metadata": {},
   "outputs": [],
   "source": [
    "rdata = pd.read_excel('가독성지수3.xlsx')\n",
    "data = pd.merge(data,rdata, on='제목')"
   ]
  },
  {
   "cell_type": "code",
   "execution_count": 4,
   "metadata": {},
   "outputs": [],
   "source": [
    "data['펀딩기간'] = (data['펀딩마감날짜'] - data['펀딩시작날짜'])\n",
    "data['펀딩기간'] = data.펀딩기간.dt.days\n",
    "\n",
    "data = data[data['펀딩기간']!=0]\n",
    "\n",
    "data['일펀딩금액'] = data.목표금액/data.펀딩기간\n",
    "data['일글수'] = data.글업데이트수/data.펀딩기간\n",
    "\n",
    "data['문장당강조'] = data.Strong/data.문장수\n",
    "data['문장당밑줄']= data.Under/data.문장수\n",
    "data['문장지수'] = data.문장당강조 + data.문장당밑줄\n",
    "# 좋아요 댓글 서포터 시각화 빼기\n",
    "data['시각화지수'] = data.좋아요수 + (data.이미지수*10) + (100 - data.비디오수*10)"
   ]
  },
  {
   "cell_type": "code",
   "execution_count": 5,
   "metadata": {},
   "outputs": [],
   "source": [
    "data['과거프로젝트수'] = data.과거프로젝트수 + 1\n",
    "\n",
    "\n",
    "data = data[(data.과거성공프로젝트수/data.과거프로젝트수)<=1]\n",
    "\n",
    "data['성공비율'] = data.과거성공프로젝트수/data.과거프로젝트수"
   ]
  },
  {
   "cell_type": "code",
   "execution_count": 6,
   "metadata": {},
   "outputs": [],
   "source": [
    "data = data[data.일펀딩금액>0]\n",
    "\n",
    "# 무한대값 제거\n",
    "data = data.replace([np.inf, -np.inf], np.nan)\n",
    "data = data[~(data.가독성_제목.isnull())]"
   ]
  },
  {
   "cell_type": "code",
   "execution_count": 7,
   "metadata": {},
   "outputs": [],
   "source": [
    "data = data[data['이미지수']<=80]\n",
    "data = data[data['비디오수']<=10]\n",
    "data = data[(data.리워드종류수!=30) & (data.리워드종류수 !=26) & (data.리워드종류수 !=35) & (data.리워드종류수 !=32) & (data.리워드종류수 !=39) &\n",
    "            (data.리워드종류수 !=19) & (data.리워드종류수 !=35) & (data.리워드종류수 !=36) & (data.리워드종류수 !=24)]\n",
    "data = data[(data.마감배송차이>0) & (data.마감배송차이<300)]"
   ]
  },
  {
   "cell_type": "code",
   "execution_count": 8,
   "metadata": {},
   "outputs": [],
   "source": [
    "# 필요한 컬럼만 추출\n",
    "\n",
    "total = data[['목표금액', '리워드종류수', \n",
    "       '마감배송차이', '인스타존재여부', '인스타팔로워수', '와디즈팔로워수', '과거프로젝트수',\n",
    "       '앵콜펀딩여부', '음절수', '단어수', '문장수', 'Strong', 'Under', '가독성', '가독성2',\n",
    "       '제목단어수', '달성률', '디자인소품', '반려동물', '뷰티', '스포츠·모빌리티', '여행·레저',\n",
    "       '테크·가전', '패션·잡화', '푸드', '홈리빙', 'Fri', 'Mon', 'Sat', 'Sun', 'Thu', 'Tue', 'Wed',\n",
    "       '음절수_제목', '단어수_제목', '문장수_제목', '가독성_제목', '가독성_제목.1', '펀딩기간', '일펀딩금액',\n",
    "       '일글수', '문장당강조', '문장당밑줄', '문장지수', '성공비율','시각화지수']]\n",
    "\n",
    "\n",
    "\n",
    "\n",
    "# 일단 하면 성능좋아져서 했음\n"
   ]
  },
  {
   "cell_type": "code",
   "execution_count": 9,
   "metadata": {},
   "outputs": [
    {
     "data": {
      "text/plain": [
       "<Figure size 2880x2880 with 0 Axes>"
      ]
     },
     "execution_count": 9,
     "metadata": {},
     "output_type": "execute_result"
    },
    {
     "data": {
      "text/plain": [
       "<matplotlib.axes._subplots.AxesSubplot at 0x24320da4710>"
      ]
     },
     "execution_count": 9,
     "metadata": {},
     "output_type": "execute_result"
    },
    {
     "data": {
      "text/plain": [
       "(array([2.388e+03, 1.966e+03, 5.700e+02, 8.500e+01, 2.200e+01, 3.000e+00,\n",
       "        1.000e+00, 1.000e+00, 1.000e+00, 1.000e+00]),\n",
       " array([ 1. ,  5.4,  9.8, 14.2, 18.6, 23. , 27.4, 31.8, 36.2, 40.6, 45. ]),\n",
       " <a list of 10 Patch objects>)"
      ]
     },
     "execution_count": 9,
     "metadata": {},
     "output_type": "execute_result"
    },
    {
     "data": {
      "text/plain": [
       "Text(0.5, 0, '리워드종류수')"
      ]
     },
     "execution_count": 9,
     "metadata": {},
     "output_type": "execute_result"
    },
    {
     "data": {
      "text/plain": [
       "<matplotlib.axes._subplots.AxesSubplot at 0x24320ebe208>"
      ]
     },
     "execution_count": 9,
     "metadata": {},
     "output_type": "execute_result"
    },
    {
     "data": {
      "text/plain": [
       "(array([ 138., 1250., 1909.,  813.,  557.,  243.,   79.,   31.,   11.,\n",
       "           7.]),\n",
       " array([  5. ,  21.6,  38.2,  54.8,  71.4,  88. , 104.6, 121.2, 137.8,\n",
       "        154.4, 171. ]),\n",
       " <a list of 10 Patch objects>)"
      ]
     },
     "execution_count": 9,
     "metadata": {},
     "output_type": "execute_result"
    },
    {
     "data": {
      "text/plain": [
       "Text(0.5, 0, '마감배송차이')"
      ]
     },
     "execution_count": 9,
     "metadata": {},
     "output_type": "execute_result"
    },
    {
     "data": {
      "text/plain": [
       "<matplotlib.axes._subplots.AxesSubplot at 0x24320efd2e8>"
      ]
     },
     "execution_count": 9,
     "metadata": {},
     "output_type": "execute_result"
    },
    {
     "data": {
      "text/plain": [
       "(array([1373.,    0.,    0.,    0.,    0.,    0.,    0.,    0.,    0.,\n",
       "        3665.]),\n",
       " array([0. , 0.1, 0.2, 0.3, 0.4, 0.5, 0.6, 0.7, 0.8, 0.9, 1. ]),\n",
       " <a list of 10 Patch objects>)"
      ]
     },
     "execution_count": 9,
     "metadata": {},
     "output_type": "execute_result"
    },
    {
     "data": {
      "text/plain": [
       "Text(0.5, 0, '인스타존재여부')"
      ]
     },
     "execution_count": 9,
     "metadata": {},
     "output_type": "execute_result"
    },
    {
     "data": {
      "text/plain": [
       "<matplotlib.axes._subplots.AxesSubplot at 0x24320ef4ba8>"
      ]
     },
     "execution_count": 9,
     "metadata": {},
     "output_type": "execute_result"
    },
    {
     "data": {
      "text/plain": [
       "(array([4.802e+03, 1.730e+02, 2.900e+01, 2.100e+01, 1.000e+00, 5.000e+00,\n",
       "        2.000e+00, 0.000e+00, 2.000e+00, 3.000e+00]),\n",
       " array([    0.,  9260., 18520., 27780., 37040., 46300., 55560., 64820.,\n",
       "        74080., 83340., 92600.]),\n",
       " <a list of 10 Patch objects>)"
      ]
     },
     "execution_count": 9,
     "metadata": {},
     "output_type": "execute_result"
    },
    {
     "data": {
      "text/plain": [
       "Text(0.5, 0, '인스타팔로워수')"
      ]
     },
     "execution_count": 9,
     "metadata": {},
     "output_type": "execute_result"
    },
    {
     "data": {
      "text/plain": [
       "<matplotlib.axes._subplots.AxesSubplot at 0x24320264c88>"
      ]
     },
     "execution_count": 9,
     "metadata": {},
     "output_type": "execute_result"
    },
    {
     "data": {
      "text/plain": [
       "(array([4.638e+03, 2.080e+02, 9.300e+01, 2.100e+01, 3.400e+01, 4.100e+01,\n",
       "        0.000e+00, 2.000e+00, 0.000e+00, 1.000e+00]),\n",
       " array([  0. ,  26.4,  52.8,  79.2, 105.6, 132. , 158.4, 184.8, 211.2,\n",
       "        237.6, 264. ]),\n",
       " <a list of 10 Patch objects>)"
      ]
     },
     "execution_count": 9,
     "metadata": {},
     "output_type": "execute_result"
    },
    {
     "data": {
      "text/plain": [
       "Text(0.5, 0, '와디즈팔로워수')"
      ]
     },
     "execution_count": 9,
     "metadata": {},
     "output_type": "execute_result"
    },
    {
     "data": {
      "text/plain": [
       "<matplotlib.axes._subplots.AxesSubplot at 0x243200e6550>"
      ]
     },
     "execution_count": 9,
     "metadata": {},
     "output_type": "execute_result"
    },
    {
     "data": {
      "text/plain": [
       "(array([3843.,  649.,  212.,  162.,   49.,   65.,   15.,    0.,   19.,\n",
       "          24.]),\n",
       " array([ 1. ,  3.6,  6.2,  8.8, 11.4, 14. , 16.6, 19.2, 21.8, 24.4, 27. ]),\n",
       " <a list of 10 Patch objects>)"
      ]
     },
     "execution_count": 9,
     "metadata": {},
     "output_type": "execute_result"
    },
    {
     "data": {
      "text/plain": [
       "Text(0.5, 0, '과거프로젝트수')"
      ]
     },
     "execution_count": 9,
     "metadata": {},
     "output_type": "execute_result"
    },
    {
     "data": {
      "text/plain": [
       "<matplotlib.axes._subplots.AxesSubplot at 0x2431ffe0198>"
      ]
     },
     "execution_count": 9,
     "metadata": {},
     "output_type": "execute_result"
    },
    {
     "data": {
      "text/plain": [
       "(array([4616.,    0.,    0.,    0.,    0.,    0.,    0.,    0.,    0.,\n",
       "         422.]),\n",
       " array([0. , 0.1, 0.2, 0.3, 0.4, 0.5, 0.6, 0.7, 0.8, 0.9, 1. ]),\n",
       " <a list of 10 Patch objects>)"
      ]
     },
     "execution_count": 9,
     "metadata": {},
     "output_type": "execute_result"
    },
    {
     "data": {
      "text/plain": [
       "Text(0.5, 0, '앵콜펀딩여부')"
      ]
     },
     "execution_count": 9,
     "metadata": {},
     "output_type": "execute_result"
    },
    {
     "data": {
      "text/plain": [
       "<matplotlib.axes._subplots.AxesSubplot at 0x24320c09be0>"
      ]
     },
     "execution_count": 9,
     "metadata": {},
     "output_type": "execute_result"
    },
    {
     "data": {
      "text/plain": [
       "(array([1226., 1903., 1167.,  462.,  177.,   66.,   22.,    8.,    4.,\n",
       "           3.]),\n",
       " array([ 1006.,  2136.,  3266.,  4396.,  5526.,  6656.,  7786.,  8916.,\n",
       "        10046., 11176., 12306.]),\n",
       " <a list of 10 Patch objects>)"
      ]
     },
     "execution_count": 9,
     "metadata": {},
     "output_type": "execute_result"
    },
    {
     "data": {
      "text/plain": [
       "Text(0.5, 0, '음절수')"
      ]
     },
     "execution_count": 9,
     "metadata": {},
     "output_type": "execute_result"
    },
    {
     "data": {
      "text/plain": [
       "<matplotlib.axes._subplots.AxesSubplot at 0x24320c53358>"
      ]
     },
     "execution_count": 9,
     "metadata": {},
     "output_type": "execute_result"
    },
    {
     "data": {
      "text/plain": [
       "(array([1.177e+03, 1.951e+03, 1.183e+03, 4.600e+02, 1.760e+02, 5.500e+01,\n",
       "        2.300e+01, 9.000e+00, 1.000e+00, 3.000e+00]),\n",
       " array([ 529. , 1170.7, 1812.4, 2454.1, 3095.8, 3737.5, 4379.2, 5020.9,\n",
       "        5662.6, 6304.3, 6946. ]),\n",
       " <a list of 10 Patch objects>)"
      ]
     },
     "execution_count": 9,
     "metadata": {},
     "output_type": "execute_result"
    },
    {
     "data": {
      "text/plain": [
       "Text(0.5, 0, '단어수')"
      ]
     },
     "execution_count": 9,
     "metadata": {},
     "output_type": "execute_result"
    },
    {
     "data": {
      "image/png": "[encoded data removed]",
      "text/plain": [
       "<Figure size 2880x2880 with 9 Axes>"
      ]
     },
     "metadata": {
      "needs_background": "light"
     },
     "output_type": "display_data"
    }
   ],
   "source": [
    "plt.figure(figsize=(40,40))\n",
    "total_list = total.columns\n",
    "for i in range(1,10,1):\n",
    "    plt.subplot(330+i)\n",
    "    plt.hist(total[total_list[i]],rwidth=0.9)\n",
    "    plt.xlabel(total_list[i],fontsize=20)"
   ]
  },
  {
   "cell_type": "code",
   "execution_count": 10,
   "metadata": {},
   "outputs": [
    {
     "name": "stderr",
     "output_type": "stream",
     "text": [
      "C:\\Users\\freez\\Anaconda3\\lib\\site-packages\\ipykernel_launcher.py:19: SettingWithCopyWarning: \n",
      "A value is trying to be set on a copy of a slice from a DataFrame.\n",
      "Try using .loc[row_indexer,col_indexer] = value instead\n",
      "\n",
      "See the caveats in the documentation: http://pandas.pydata.org/pandas-docs/stable/indexing.html#indexing-view-versus-copy\n"
     ]
    },
    {
     "data": {
      "text/html": [
       "<div>\n",
       "<style scoped>\n",
       "    .dataframe tbody tr th:only-of-type {\n",
       "        vertical-align: middle;\n",
       "    }\n",
       "\n",
       "    .dataframe tbody tr th {\n",
       "        vertical-align: top;\n",
       "    }\n",
       "\n",
       "    .dataframe thead th {\n",
       "        text-align: right;\n",
       "    }\n",
       "</style>\n",
       "<table border=\"1\" class=\"dataframe\">\n",
       "  <thead>\n",
       "    <tr style=\"text-align: right;\">\n",
       "      <th></th>\n",
       "      <th>달성률</th>\n",
       "    </tr>\n",
       "    <tr>\n",
       "      <th>타겟</th>\n",
       "      <th></th>\n",
       "    </tr>\n",
       "  </thead>\n",
       "  <tbody>\n",
       "    <tr>\n",
       "      <th>0</th>\n",
       "      <td>1090</td>\n",
       "    </tr>\n",
       "    <tr>\n",
       "      <th>1</th>\n",
       "      <td>2712</td>\n",
       "    </tr>\n",
       "    <tr>\n",
       "      <th>3</th>\n",
       "      <td>1236</td>\n",
       "    </tr>\n",
       "  </tbody>\n",
       "</table>\n",
       "</div>"
      ],
      "text/plain": [
       "     달성률\n",
       "타겟      \n",
       "0   1090\n",
       "1   2712\n",
       "3   1236"
      ]
     },
     "execution_count": 10,
     "metadata": {},
     "output_type": "execute_result"
    }
   ],
   "source": [
    "# 달성률 범주생성\n",
    "# 현재 범주는 임의의 범주이며\n",
    "# 여러가지 시도하면서 정확도를 봐야할듯\n",
    "\n",
    "total.index = list(range(len(total)))\n",
    "total_target = total\n",
    "\n",
    "target_list = []\n",
    "\n",
    "for i in range(len(total_target)):\n",
    "    if total_target.달성률[i] < 100:\n",
    "        target_list.append(0)\n",
    "    elif total_target.달성률[i] < 850:\n",
    "        target_list.append(1)     \n",
    "    \n",
    "    else:\n",
    "        target_list.append(3)\n",
    "    \n",
    "total_target['타겟'] = target_list\n",
    "total_target.pivot_table(index = '타겟', aggfunc = 'count', values = '달성률')\n",
    "total_data = total_target.drop(columns = ['달성률'])"
   ]
  },
  {
   "cell_type": "code",
   "execution_count": 11,
   "metadata": {},
   "outputs": [],
   "source": [
    "from sklearn import svm\n",
    "from sklearn.model_selection import train_test_split, GridSearchCV\n",
    "X = total_data.drop(columns=['타겟'])\n",
    "y = total_data.타겟\n",
    "X_train, X_test, y_train, y_test = train_test_split(X, y, test_size = 0.3, random_state=0)"
   ]
  },
  {
   "cell_type": "code",
   "execution_count": 12,
   "metadata": {},
   "outputs": [],
   "source": [
    "## Create a linear SVM classifier \n",
    "#clf = svm.SVC(kernel='linear')\n",
    "## Train classifier \n",
    "#clf.fit(X_train, y_train)\n",
    "#clf_predictions = clf.predict(X_test)\n",
    "#print(\"Accuracy: {}%\".format(clf.score(X_test, y_test) * 100 ))"
   ]
  },
  {
   "cell_type": "code",
   "execution_count": 13,
   "metadata": {},
   "outputs": [
    {
     "name": "stderr",
     "output_type": "stream",
     "text": [
      "C:\\Users\\freez\\Anaconda3\\lib\\site-packages\\sklearn\\svm\\base.py:196: FutureWarning: The default value of gamma will change from 'auto' to 'scale' in version 0.22 to account better for unscaled features. Set gamma explicitly to 'auto' or 'scale' to avoid this warning.\n",
      "  \"avoid this warning.\", FutureWarning)\n"
     ]
    },
    {
     "data": {
      "text/plain": [
       "SVC(C=1.0, cache_size=200, class_weight=None, coef0=0.0,\n",
       "  decision_function_shape='ovr', degree=3, gamma='auto_deprecated',\n",
       "  kernel='rbf', max_iter=-1, probability=False, random_state=None,\n",
       "  shrinking=True, tol=0.001, verbose=False)"
      ]
     },
     "execution_count": 13,
     "metadata": {},
     "output_type": "execute_result"
    }
   ],
   "source": [
    "svc = SVC()\n",
    "svc.fit(X_train, y_train)"
   ]
  },
  {
   "cell_type": "code",
   "execution_count": 14,
   "metadata": {},
   "outputs": [
    {
     "name": "stdout",
     "output_type": "stream",
     "text": [
      "훈련 세트 정확도: 1.00\n",
      "테스트 세트 정확도: 0.53\n"
     ]
    }
   ],
   "source": [
    "print(\"훈련 세트 정확도: {:.2f}\".format(svc.score(X_train, y_train)))\n",
    "print(\"테스트 세트 정확도: {:.2f}\".format(svc.score(X_test, y_test)))"
   ]
  },
  {
   "cell_type": "code",
   "execution_count": 15,
   "metadata": {
    "scrolled": true
   },
   "outputs": [
    {
     "name": "stdout",
     "output_type": "stream",
     "text": [
      "특성별 최소 값\n",
      "목표금액        0.0\n",
      "리워드종류수      0.0\n",
      "마감배송차이      0.0\n",
      "인스타존재여부     0.0\n",
      "인스타팔로워수     0.0\n",
      "와디즈팔로워수     0.0\n",
      "과거프로젝트수     0.0\n",
      "앵콜펀딩여부      0.0\n",
      "음절수         0.0\n",
      "단어수         0.0\n",
      "문장수         0.0\n",
      "Strong      0.0\n",
      "Under       0.0\n",
      "가독성         0.0\n",
      "가독성2        0.0\n",
      "제목단어수       0.0\n",
      "디자인소품       0.0\n",
      "반려동물        0.0\n",
      "뷰티          0.0\n",
      "스포츠·모빌리티    0.0\n",
      "여행·레저       0.0\n",
      "테크·가전       0.0\n",
      "패션·잡화       0.0\n",
      "푸드          0.0\n",
      "홈리빙         0.0\n",
      "Fri         0.0\n",
      "Mon         0.0\n",
      "Sat         0.0\n",
      "Sun         0.0\n",
      "Thu         0.0\n",
      "Tue         0.0\n",
      "Wed         0.0\n",
      "음절수_제목      0.0\n",
      "단어수_제목      0.0\n",
      "문장수_제목      0.0\n",
      "가독성_제목      0.0\n",
      "가독성_제목.1    0.0\n",
      "펀딩기간        0.0\n",
      "일펀딩금액       0.0\n",
      "일글수         0.0\n",
      "문장당강조       0.0\n",
      "문장당밑줄       0.0\n",
      "문장지수        0.0\n",
      "성공비율        0.0\n",
      "시각화지수       0.0\n",
      "dtype: float64\n",
      "특성별 최대 값\n",
      " 목표금액        1.0\n",
      "리워드종류수      1.0\n",
      "마감배송차이      1.0\n",
      "인스타존재여부     1.0\n",
      "인스타팔로워수     1.0\n",
      "와디즈팔로워수     1.0\n",
      "과거프로젝트수     1.0\n",
      "앵콜펀딩여부      1.0\n",
      "음절수         1.0\n",
      "단어수         1.0\n",
      "문장수         1.0\n",
      "Strong      1.0\n",
      "Under       1.0\n",
      "가독성         1.0\n",
      "가독성2        1.0\n",
      "제목단어수       1.0\n",
      "디자인소품       1.0\n",
      "반려동물        1.0\n",
      "뷰티          1.0\n",
      "스포츠·모빌리티    1.0\n",
      "여행·레저       1.0\n",
      "테크·가전       1.0\n",
      "패션·잡화       1.0\n",
      "푸드          1.0\n",
      "홈리빙         1.0\n",
      "Fri         1.0\n",
      "Mon         1.0\n",
      "Sat         1.0\n",
      "Sun         1.0\n",
      "Thu         1.0\n",
      "Tue         1.0\n",
      "Wed         1.0\n",
      "음절수_제목      1.0\n",
      "단어수_제목      1.0\n",
      "문장수_제목      1.0\n",
      "가독성_제목      1.0\n",
      "가독성_제목.1    1.0\n",
      "펀딩기간        1.0\n",
      "일펀딩금액       1.0\n",
      "일글수         1.0\n",
      "문장당강조       1.0\n",
      "문장당밑줄       1.0\n",
      "문장지수        1.0\n",
      "성공비율        1.0\n",
      "시각화지수       1.0\n",
      "dtype: float64\n"
     ]
    }
   ],
   "source": [
    "# 훈련 세트에서 특성별 최솟값 계산\n",
    "min_on_training = X_train.min(axis=0)\n",
    "# 훈련 세트에서 특성별 (최댓값 - 최솟값) 범위 계산\n",
    "range_on_training = (X_train - min_on_training).max(axis=0)\n",
    "\n",
    "# 훈련 데이터에 최솟값을 빼고 범위로 나누면\n",
    "# 각 특성에 대해 최솟값은 0, 최대값은 1입니다.\n",
    "X_train_scaled = (X_train - min_on_training) / range_on_training\n",
    "print(\"특성별 최소 값\\n{}\".format(X_train_scaled.min(axis=0)))\n",
    "print(\"특성별 최대 값\\n {}\".format(X_train_scaled.max(axis=0)))"
   ]
  },
  {
   "cell_type": "code",
   "execution_count": 16,
   "metadata": {},
   "outputs": [
    {
     "data": {
      "text/plain": [
       "3526"
      ]
     },
     "execution_count": 16,
     "metadata": {},
     "output_type": "execute_result"
    }
   ],
   "source": [
    "len(X_train_scaled)"
   ]
  },
  {
   "cell_type": "code",
   "execution_count": 17,
   "metadata": {},
   "outputs": [],
   "source": [
    "# 테스트 세트에도 같은 작업을 적용하지만\n",
    "# 훈련 세트에서 계산한 최솟값과 범위를 사용합니다(자세한 내용은 3장에 있습니다).\n",
    "X_test_scaled = (X_test - min_on_training) / range_on_training"
   ]
  },
  {
   "cell_type": "code",
   "execution_count": 18,
   "metadata": {},
   "outputs": [
    {
     "data": {
      "text/plain": [
       "1512"
      ]
     },
     "execution_count": 18,
     "metadata": {},
     "output_type": "execute_result"
    }
   ],
   "source": [
    "len(X_test_scaled)"
   ]
  },
  {
   "cell_type": "code",
   "execution_count": 19,
   "metadata": {
    "scrolled": true
   },
   "outputs": [
    {
     "name": "stderr",
     "output_type": "stream",
     "text": [
      "C:\\Users\\freez\\Anaconda3\\lib\\site-packages\\sklearn\\svm\\base.py:196: FutureWarning: The default value of gamma will change from 'auto' to 'scale' in version 0.22 to account better for unscaled features. Set gamma explicitly to 'auto' or 'scale' to avoid this warning.\n",
      "  \"avoid this warning.\", FutureWarning)\n"
     ]
    },
    {
     "data": {
      "text/plain": [
       "SVC(C=1.0, cache_size=200, class_weight=None, coef0=0.0,\n",
       "  decision_function_shape='ovr', degree=3, gamma='auto_deprecated',\n",
       "  kernel='rbf', max_iter=-1, probability=False, random_state=None,\n",
       "  shrinking=True, tol=0.001, verbose=False)"
      ]
     },
     "execution_count": 19,
     "metadata": {},
     "output_type": "execute_result"
    },
    {
     "name": "stdout",
     "output_type": "stream",
     "text": [
      "훈련 세트 정확도: 0.704\n",
      "테스트 세트 정확도: 0.687\n"
     ]
    }
   ],
   "source": [
    "svc = SVC()\n",
    "svc.fit(X_train_scaled, y_train)\n",
    "\n",
    "print(\"훈련 세트 정확도: {:.3f}\".format(\n",
    "    svc.score(X_train_scaled, y_train)))\n",
    "print(\"테스트 세트 정확도: {:.3f}\".format(svc.score(X_test_scaled, y_test)))"
   ]
  },
  {
   "cell_type": "code",
   "execution_count": 20,
   "metadata": {},
   "outputs": [
    {
     "name": "stderr",
     "output_type": "stream",
     "text": [
      "C:\\Users\\freez\\Anaconda3\\lib\\site-packages\\sklearn\\svm\\base.py:196: FutureWarning: The default value of gamma will change from 'auto' to 'scale' in version 0.22 to account better for unscaled features. Set gamma explicitly to 'auto' or 'scale' to avoid this warning.\n",
      "  \"avoid this warning.\", FutureWarning)\n"
     ]
    },
    {
     "data": {
      "text/plain": [
       "SVC(C=770, cache_size=200, class_weight=None, coef0=0.0,\n",
       "  decision_function_shape='ovr', degree=3, gamma='auto_deprecated',\n",
       "  kernel='rbf', max_iter=-1, probability=False, random_state=None,\n",
       "  shrinking=True, tol=0.001, verbose=False)"
      ]
     },
     "execution_count": 20,
     "metadata": {},
     "output_type": "execute_result"
    },
    {
     "name": "stdout",
     "output_type": "stream",
     "text": [
      "훈련 세트 정확도: 0.886\n",
      "테스트 세트 정확도: 0.817\n"
     ]
    }
   ],
   "source": [
    "svc = SVC(C=770)\n",
    "svc.fit(X_train_scaled, y_train)\n",
    "\n",
    "print(\"훈련 세트 정확도: {:.3f}\".format(svc.score(X_train_scaled, y_train)))\n",
    "print(\"테스트 세트 정확도: {:.3f}\".format(svc.score(X_test_scaled, y_test)))"
   ]
  },
  {
   "cell_type": "code",
   "execution_count": 21,
   "metadata": {},
   "outputs": [],
   "source": [
    "# 시각화지수 없을때 77.6 , 77.7퍼\n",
    "# 시각화지수 있을떄 C = 800 : 81.7퍼"
   ]
  },
  {
   "cell_type": "code",
   "execution_count": 22,
   "metadata": {},
   "outputs": [],
   "source": [
    "# https://tensorflow.blog/%ED%8C%8C%EC%9D%B4%EC%8D%AC-%EB%A8%B8%EC%8B%A0%EB%9F%AC%EB%8B%9D/2-3-7-%EC%BB%A4%EB%84%90-%EC%84%9C%ED%8F%AC%ED%8A%B8-%EB%B2%A1%ED%84%B0-%EB%A8%B8%EC%8B%A0/"
   ]
  },
  {
   "cell_type": "code",
   "execution_count": 23,
   "metadata": {},
   "outputs": [],
   "source": [
    "# https://www.learnopencv.com/svm-using-scikit-learn-in-python/"
   ]
  },
  {
   "cell_type": "code",
   "execution_count": 24,
   "metadata": {},
   "outputs": [],
   "source": [
    "# https://stackoverflow.com/questions/41592661/determining-the-most-contributing-features-for-svm-classifier-in-sklearn"
   ]
  },
  {
   "cell_type": "code",
   "execution_count": null,
   "metadata": {},
   "outputs": [],
   "source": []
  }
 ],
 "metadata": {
  "kernelspec": {
   "display_name": "Python 3",
   "language": "python",
   "name": "python3"
  },
  "language_info": {
   "codemirror_mode": {
    "name": "ipython",
    "version": 3
   },
   "file_extension": ".py",
   "mimetype": "text/x-python",
   "name": "python",
   "nbconvert_exporter": "python",
   "pygments_lexer": "ipython3",
   "version": "3.7.3"
  }
 },
 "nbformat": 4,
 "nbformat_minor": 2
}
