{
 "cells": [
  {
   "cell_type": "code",
   "execution_count": 37,
   "metadata": {},
   "outputs": [],
   "source": [
    "import pandas as pd\n",
    "from pandas import Series, DataFrame\n",
    "import numpy as np\n",
    "import datetime\n",
    "import openpyxl"
   ]
  },
  {
   "cell_type": "code",
   "execution_count": 38,
   "metadata": {
    "scrolled": true
   },
   "outputs": [],
   "source": [
    "# 엑셀 파일 불러오기\n",
    "filename = 'Wadiz_Pet0.xlsx'\n",
    "data = pd.read_excel(filename)"
   ]
  },
  {
   "cell_type": "code",
   "execution_count": 39,
   "metadata": {},
   "outputs": [],
   "source": [
    "# 1. 목표금액과기간에서 목표금액과 펀딩시작날짜, 펀딩마감날짜 추가\n",
    "# 2. 펀딩마감날짜부터 배송까지 기간 (마감배송차이) 추가\n",
    "# 3. 펀딩 시작 요일 추가\n",
    "\n",
    "\n",
    "목표금액 = []\n",
    "펀딩시작날짜 = []\n",
    "펀딩마감날짜 = []\n",
    "배송시작날짜 = []\n",
    "마감배송차이 = []\n",
    "\n",
    "for _ in range(0,len(data)):\n",
    "    split_data = data.loc[_][['목표금액과기간']].str.split(' ')\n",
    "    ls = split_data['목표금액과기간']\n",
    "    \n",
    "    # 목표금액 추출\n",
    "    price = ls[2].replace(\",\",\"\").replace(\"원\",\"\")\n",
    "    목표금액.append(int(price))\n",
    "\n",
    "    # 펀딩 시작, 마감 날짜 추출\n",
    "    start_date, end_date = ls[8].split('-')\n",
    "    펀딩시작날짜.append(start_date)\n",
    "    펀딩마감날짜.append(end_date)\n",
    "    \n",
    "    # 첫 배송날짜 추출\n",
    "    deliver_date = data.loc[_][['배송시작날짜']].str.split('/')\n",
    "    배송시작날짜.append(deliver_date[0][0].replace(\" \",\"\"))\n",
    "    \n",
    "    # 첫 배송날짜와 펀딩마감 날짜의 차이 일수 계산\n",
    "    oneDatetime = datetime.datetime.strptime(펀딩마감날짜[_], '%Y.%m.%d')\n",
    "    twoDatetime = datetime.datetime.strptime(배송시작날짜[_], '%Y.%m.%d')\n",
    "    result = twoDatetime - oneDatetime\n",
    "    마감배송차이.append(result.days)\n",
    "    \n",
    "    \n",
    "# dataframe에 추가 \n",
    "data['목표금액'] = 목표금액\n",
    "#ata['펀딩시작날짜'] = pd.to_datetime(펀딩시작날짜)\n",
    "#ata['펀딩마감날짜'] = pd.to_datetime(펀딩마감날짜)\n",
    "data['펀딩시작날짜'] = 펀딩시작날짜\n",
    "data['펀딩마감날짜'] = 펀딩마감날짜\n",
    "data['마감배송차이'] = 마감배송차이\n",
    "\n",
    "\n",
    "# 펀딩 시작 요일 추가\n",
    "펀딩시작날짜 = pd.to_datetime(펀딩시작날짜)\n",
    "data['펀딩시작요일'] = 펀딩시작날짜.strftime('%a')\n",
    "\n",
    "# 펀딩 성공 여부 ( '성공' vs '실패')\n",
    "data['펀딩성공여부'] = data['달성률'].apply(lambda x: '성공' if x>99 else '실패')\n",
    "\n",
    "# 앵콜펀딩 여부 ('앵콜' vs '최초')\n",
    "data['앵콜펀딩여부'] = data['제목'].apply(lambda x: '앵콜' if  '앵콜' in x else '최초')"
   ]
  },
  {
   "cell_type": "code",
   "execution_count": 40,
   "metadata": {
    "scrolled": true
   },
   "outputs": [],
   "source": [
    "filename = filename.replace(\".xlsx\",\"_전처리.xlsx\")\n",
    "data.to_excel(filename)"
   ]
  }
 ],
 "metadata": {
  "kernelspec": {
   "display_name": "Python 3",
   "language": "python",
   "name": "python3"
  },
  "language_info": {
   "codemirror_mode": {
    "name": "ipython",
    "version": 3
   },
   "file_extension": ".py",
   "mimetype": "text/x-python",
   "name": "python",
   "nbconvert_exporter": "python",
   "pygments_lexer": "ipython3",
   "version": "3.7.3"
  }
 },
 "nbformat": 4,
 "nbformat_minor": 2
}
