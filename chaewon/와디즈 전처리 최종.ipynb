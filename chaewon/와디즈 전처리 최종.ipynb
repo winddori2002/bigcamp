{
 "cells": [
  {
   "cell_type": "code",
   "execution_count": null,
   "metadata": {},
   "outputs": [],
   "source": [
    "import pandas as pd\n",
    "from pandas import Series, DataFrame\n",
    "import numpy as np\n",
    "import datetime\n",
    "import openpyxl"
   ]
  },
  {
   "cell_type": "code",
   "execution_count": null,
   "metadata": {},
   "outputs": [],
   "source": [
    "# 엑셀 파일 불러오기\n",
    "filename = 'Wadiz_Sport_Mobility.xlsx'\n",
    "data = pd.read_excel(filename)"
   ]
  },
  {
   "cell_type": "code",
   "execution_count": null,
   "metadata": {},
   "outputs": [],
   "source": [
    "# 컬럼 추가 및 정리\n",
    "\n",
    "# 1. 목표금액과기간에서 목표금액과 펀딩시작날짜, 펀딩마감날짜 추가 + 펀딩마감날짜부터 배송까지 기간 (마감배송차이) 추가\n",
    "목표금액 = []\n",
    "펀딩시작날짜 = []\n",
    "펀딩마감날짜 = []\n",
    "배송시작날짜 = []\n",
    "마감배송차이 = []\n",
    "\n",
    "for _ in range(0,len(data)):\n",
    "    split_data = data.loc[_][['목표금액과기간']].str.split(' ')\n",
    "    ls = split_data['목표금액과기간']\n",
    "    \n",
    "    # 목표금액 추출\n",
    "    price = ls[2].replace(\",\",\"\").replace(\"원\",\"\")\n",
    "    목표금액.append(int(price))\n",
    "\n",
    "    # 펀딩 시작, 마감 날짜 추출\n",
    "    start_date, end_date = ls[8].split('-')\n",
    "    펀딩시작날짜.append(start_date)\n",
    "    펀딩마감날짜.append(end_date)\n",
    "    \n",
    "    # 첫 배송날짜 추출\n",
    "    deliver_date = data.loc[_][['배송시작날짜']].str.split('/')\n",
    "    배송시작날짜.append(deliver_date[0][0].replace(\" \",\"\"))\n",
    "    \n",
    "    # 첫 배송날짜와 펀딩마감 날짜의 차이 일수 계산\n",
    "    oneDatetime = datetime.datetime.strptime(펀딩마감날짜[_], '%Y.%m.%d')\n",
    "    twoDatetime = datetime.datetime.strptime(배송시작날짜[_], '%Y.%m.%d')\n",
    "    result = twoDatetime - oneDatetime\n",
    "    마감배송차이.append(result.days)\n",
    "    \n",
    "# dataframe에 추가 \n",
    "data['목표금액'] = 목표금액\n",
    "data['펀딩시작날짜'] = 펀딩시작날짜\n",
    "data['펀딩마감날짜'] = 펀딩마감날짜\n",
    "data['마감배송차이'] = 마감배송차이\n",
    "\n",
    "# 목표금액과기간 컬럼 지우기\n",
    "data.drop('목표금액과기간', axis=1, inplace=True)\n",
    "\n",
    "\n",
    "# 2. 펀딩 시작 요일 추가\n",
    "펀딩시작날짜 = pd.to_datetime(펀딩시작날짜)\n",
    "data['펀딩시작요일'] = 펀딩시작날짜.strftime('%a')\n",
    "\n",
    "\n",
    "# 3. 펀딩 성공 여부 ( '성공' vs '실패')\n",
    "data['펀딩성공여부'] = data['달성률'].apply(lambda x: 1 if x>99 else 0)\n",
    "\n",
    "\n",
    "# 4. 앵콜펀딩 여부 ('앵콜' vs '최초')\n",
    "data['앵콜펀딩여부'] = data['제목'].apply(lambda x: 1 if  '앵콜' in x else 0)\n",
    "\n",
    "\n",
    "# 5. 과거 프로젝트 수 컬럼에서 -1값들을 0으로 바꾸기\n",
    "data['과거프로젝트수'] = data['과거프로젝트수'].apply(lambda x: 0 if x == -1 else x)\n",
    "\n",
    "\n",
    "# 6. 과거 프로젝트 성공 개수 처리 (성공한 프로젝트일 경우 과거 프로젝트 성공 개수에서 1 빼기)\n",
    "for index, row in data.iterrows():\n",
    "    if row['펀딩성공여부'] == '성공':\n",
    "        data.at[index,'과거성공프로젝트수'] = data.iloc[index]['과거성공프로젝트수']-1\n",
    "        \n",
    "# 6번의 과정에서 -1이 되어버린 값들을 0으로 바꾸기\n",
    "data['과거성공프로젝트수'] = data['과거성공프로젝트수'].apply(lambda x: 0 if x == -1 else x)\n",
    "\n",
    "        \n",
    "# 7. 인스타 여부 컬럼추가\n",
    "data['인스타존재여부'] = data['인스타팔로워수'].apply(lambda x: 1 if x in ['no account', 'link error'] else 0)\n",
    "\n",
    "\n",
    "# 8. 인스타그램 no account와 link error값들을 0으로 바꾸기\n",
    "data['인스타팔로워수'] = data['인스타팔로워수'].apply(lambda x: 0 if x in ['no account', 'link error'] else x)"
   ]
  },
  {
   "cell_type": "code",
   "execution_count": null,
   "metadata": {},
   "outputs": [],
   "source": [
    "# 데이터 타입 변환\n",
    "\n",
    "# 1. 날짜 데이터들 datatime 데이터로 변환\n",
    "data['펀딩시작날짜'] = pd.to_datetime(펀딩시작날짜)\n",
    "data['펀딩마감날짜'] = pd.to_datetime(펀딩마감날짜)\n",
    "data['배송시작날짜'] = pd.to_datetime(배송시작날짜)\n",
    "\n",
    "# 2. str 타입 숫자 타입으로 변환\n",
    "data['달성액'] = data['달성액'].apply(lambda x: int(x.replace('원', '')))\n",
    "data['서포터수'] = data['서포터수'].apply(lambda x: int(x.replace(',', '')))"
   ]
  },
  {
   "cell_type": "code",
   "execution_count": null,
   "metadata": {},
   "outputs": [],
   "source": [
    "# 파일 저장\n",
    "filename = filename.replace(\".xlsx\",\"_전처리.xlsx\")\n",
    "data.to_excel(filename)"
   ]
  },
  {
   "cell_type": "code",
   "execution_count": null,
   "metadata": {},
   "outputs": [],
   "source": []
  }
 ],
 "metadata": {
  "kernelspec": {
   "display_name": "Python 3",
   "language": "python",
   "name": "python3"
  },
  "language_info": {
   "codemirror_mode": {
    "name": "ipython",
    "version": 3
   },
   "file_extension": ".py",
   "mimetype": "text/x-python",
   "name": "python",
   "nbconvert_exporter": "python",
   "pygments_lexer": "ipython3",
   "version": "3.7.3"
  }
 },
 "nbformat": 4,
 "nbformat_minor": 2
}
