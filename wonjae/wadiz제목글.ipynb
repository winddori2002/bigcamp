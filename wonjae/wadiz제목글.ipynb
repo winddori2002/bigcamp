{
 "cells": [
  {
   "cell_type": "code",
   "execution_count": null,
   "metadata": {},
   "outputs": [],
   "source": [
    "# 참고 자료\n",
    "# https://coschedule.com/blog/best-headline-length/\n",
    "# => 16~18 단어\n",
    "# https://www.fastcompany.com/3028656/the-proven-ideal-length-of-every-tweet-facebook-post-and-headline-online\n",
    "# => 6단어 \n",
    "\n",
    "# 단어수나 음절대로 나눠본뒤 계층구분후 제일 상관성이 있는걸 보거나\n",
    "# 전체데이터의 제목 길이의 평균을 구한뒤 평균이상/이하 카테고리를 만들던지 상의 필요"
   ]
  },
  {
   "cell_type": "code",
   "execution_count": 9,
   "metadata": {},
   "outputs": [],
   "source": [
    "import pandas as pd\n",
    "from pandas import Series, DataFrame\n",
    "import numpy as np\n",
    "import datetime\n",
    "import openpyxl\n",
    "import re\n",
    "import konlpy.tag"
   ]
  },
  {
   "cell_type": "code",
   "execution_count": 2,
   "metadata": {},
   "outputs": [],
   "source": [
    "# 엑셀 파일 불러오기\n",
    "filename = 'Wadiz_Tech_Elec_전처리.xlsx'\n",
    "data = pd.read_excel(filename)"
   ]
  },
  {
   "cell_type": "code",
   "execution_count": 5,
   "metadata": {},
   "outputs": [
    {
     "data": {
      "text/plain": [
       "0         ★독일에서 국내 상륙!★ 5개의 케이블을 하나로! <하이파이브>\n",
       "1                      당신의 힐링 파트너, 셀라랩 EMS 케어\n",
       "2       머무르고 싶은 공간, 아뜰리에드원 / 피아노책상&미디책상&컴퓨터책상\n",
       "3    초미세먼지까지걸러내는 울파필터 장착한 우리집히어로 '에어셰프' 공기청정기\n",
       "4     [특급가성비/5가지 특별한 기능] 효율적인 청소의 끝판왕 벤투스9200\n",
       "Name: 제목, dtype: object"
      ]
     },
     "execution_count": 5,
     "metadata": {},
     "output_type": "execute_result"
    }
   ],
   "source": [
    "data.제목.head()"
   ]
  },
  {
   "cell_type": "code",
   "execution_count": 41,
   "metadata": {
    "scrolled": true
   },
   "outputs": [
    {
     "data": {
      "text/plain": [
       "0         ★독일에서 국내 상륙!★ 5개의 케이블을 하나로! <하이파이브>\n",
       "1                      당신의 힐링 파트너, 셀라랩 EMS 케어\n",
       "2       머무르고 싶은 공간, 아뜰리에드원 / 피아노책상&미디책상&컴퓨터책상\n",
       "3    초미세먼지까지걸러내는 울파필터 장착한 우리집히어로 '에어셰프' 공기청정기\n",
       "4     [특급가성비/5가지 특별한 기능] 효율적인 청소의 끝판왕 벤투스9200\n",
       "Name: 제목, dtype: object"
      ]
     },
     "execution_count": 41,
     "metadata": {},
     "output_type": "execute_result"
    }
   ],
   "source": [
    "title= data['제목'][:]\n",
    "title.head()"
   ]
  },
  {
   "cell_type": "code",
   "execution_count": 44,
   "metadata": {},
   "outputs": [
    {
     "data": {
      "text/plain": [
       "587"
      ]
     },
     "execution_count": 44,
     "metadata": {},
     "output_type": "execute_result"
    }
   ],
   "source": [
    "len(title)"
   ]
  },
  {
   "cell_type": "code",
   "execution_count": 76,
   "metadata": {},
   "outputs": [],
   "source": [
    "# 특수문자등 제거\n",
    "# 한국어든 영어든 띄어쓰기/단어 단위로 보는게 맞을거 같아서 처리함\n",
    "def wordcounter(title):\n",
    "    title_word_count = []\n",
    "    for i in range(len(title)):\n",
    "        titlecl = re.sub(r'([^\\s\\d\\w])','',title[i]) #특수문자등제거\n",
    "        #print(titlecl) - 제대로 됬는지 확인용\n",
    "        title_word = titlecl.split()\n",
    "        title_len =len(title_word)\n",
    "        #print(title_len) - 제대로 됬는지 확인용\n",
    "        title_word_count.append(title_len)\n",
    "    return title_word_count\n",
    "    "
   ]
  },
  {
   "cell_type": "code",
   "execution_count": 77,
   "metadata": {},
   "outputs": [],
   "source": [
    "data[\"제목단어수\"] = wordcounter(title)"
   ]
  },
  {
   "cell_type": "code",
   "execution_count": 78,
   "metadata": {},
   "outputs": [
    {
     "data": {
      "text/plain": [
       "0       7\n",
       "1       6\n",
       "2       5\n",
       "3       6\n",
       "4       7\n",
       "5      10\n",
       "6       7\n",
       "7       9\n",
       "8       4\n",
       "9       9\n",
       "10      7\n",
       "11      7\n",
       "12      8\n",
       "13      4\n",
       "14      8\n",
       "15      9\n",
       "16      7\n",
       "17      6\n",
       "18      8\n",
       "19     10\n",
       "20      8\n",
       "21      8\n",
       "22      8\n",
       "23      7\n",
       "24      8\n",
       "25      7\n",
       "26      9\n",
       "27      5\n",
       "28      9\n",
       "29      8\n",
       "       ..\n",
       "557     6\n",
       "558     7\n",
       "559     4\n",
       "560     6\n",
       "561     8\n",
       "562     5\n",
       "563     6\n",
       "564     5\n",
       "565     6\n",
       "566     7\n",
       "567     4\n",
       "568     8\n",
       "569    10\n",
       "570     7\n",
       "571     6\n",
       "572     4\n",
       "573     8\n",
       "574     5\n",
       "575     7\n",
       "576     8\n",
       "577     7\n",
       "578     8\n",
       "579     7\n",
       "580     7\n",
       "581     6\n",
       "582     5\n",
       "583     9\n",
       "584     4\n",
       "585     9\n",
       "586     4\n",
       "Name: 제목단어수, Length: 587, dtype: int64"
      ]
     },
     "execution_count": 78,
     "metadata": {},
     "output_type": "execute_result"
    }
   ],
   "source": [
    "data[\"제목단어수\"]"
   ]
  },
  {
   "cell_type": "code",
   "execution_count": null,
   "metadata": {},
   "outputs": [],
   "source": []
  }
 ],
 "metadata": {
  "kernelspec": {
   "display_name": "Python 3",
   "language": "python",
   "name": "python3"
  },
  "language_info": {
   "codemirror_mode": {
    "name": "ipython",
    "version": 3
   },
   "file_extension": ".py",
   "mimetype": "text/x-python",
   "name": "python",
   "nbconvert_exporter": "python",
   "pygments_lexer": "ipython3",
   "version": "3.7.3"
  }
 },
 "nbformat": 4,
 "nbformat_minor": 2
}
