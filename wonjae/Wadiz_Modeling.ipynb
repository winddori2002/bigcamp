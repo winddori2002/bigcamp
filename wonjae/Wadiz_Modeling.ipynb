{
 "cells": [
  {
   "cell_type": "code",
   "execution_count": 6,
   "metadata": {},
   "outputs": [],
   "source": [
    "#필요한 라이브러리 호출\n",
    "import numpy as np\n",
    "import pandas as pd\n",
    "import datetime as dt\n",
    "import matplotlib.pyplot as plt\n",
    "from matplotlib import rc\n",
    "rc('font', family='AppleGothic')\n",
    "%matplotlib inline\n",
    "import seaborn as sns\n",
    "import pandas_profiling as pp"
   ]
  },
  {
   "cell_type": "code",
   "execution_count": 20,
   "metadata": {},
   "outputs": [],
   "source": [
    "# 엑셀 파일 불러오기\n",
    "# 채원이가 고친 마지막 파이널데이터로 함\n",
    "filename = 'master_data_final.xlsx'\n",
    "data = pd.read_excel(filename)"
   ]
  },
  {
   "cell_type": "code",
   "execution_count": 8,
   "metadata": {},
   "outputs": [],
   "source": [
    "# 데이터 쭉 보고 싶으면 호출\n",
    "#pd.set_option('display.max_rows', 500)\n",
    "pd.set_option('display.max_columns', 500)\n",
    "#pd.set_option('display.width', 1000)"
   ]
  },
  {
   "cell_type": "markdown",
   "metadata": {},
   "source": [
    "## Feature engineering"
   ]
  },
  {
   "cell_type": "code",
   "execution_count": 21,
   "metadata": {},
   "outputs": [],
   "source": [
    "# 펀딩시작요일 원핫인코딩\n",
    "# 라벨인코딩후 카테고리타입으로 변환하나 원핫인코딩하나 별반 차이 없어서 원핫인코딩으로감\n",
    "data = pd.concat([data,pd.get_dummies(data['펀딩시작요일'])],axis=1)"
   ]
  },
  {
   "cell_type": "code",
   "execution_count": 5,
   "metadata": {
    "scrolled": true
   },
   "outputs": [
    {
     "data": {
      "text/plain": [
       "<matplotlib.collections.PathCollection at 0x1a169ec7b8>"
      ]
     },
     "execution_count": 5,
     "metadata": {},
     "output_type": "execute_result"
    },
    {
     "data": {
      "image/png": "[encoded data removed]",
      "text/plain": [
       "<Figure size 432x288 with 1 Axes>"
      ]
     },
     "metadata": {
      "needs_background": "light"
     },
     "output_type": "display_data"
    }
   ],
   "source": [
    "plt.scatter(data.과거성공프로젝트수/data.과거프로젝트수, data.달성률)"
   ]
  },
  {
   "cell_type": "code",
   "execution_count": null,
   "metadata": {},
   "outputs": [],
   "source": [
    "#파생변수- 성공비율 0/0 nan값 처리?\n",
    "data['성공비율'] = data.과거성공프로젝트수/data.과거프로젝트수"
   ]
  },
  {
   "cell_type": "code",
   "execution_count": 10,
   "metadata": {
    "scrolled": true
   },
   "outputs": [
    {
     "data": {
      "image/png": "[encoded data removed]",
      "text/plain": [
       "<Figure size 432x288 with 1 Axes>"
      ]
     },
     "metadata": {
      "needs_background": "light"
     },
     "output_type": "display_data"
    }
   ],
   "source": [
    "# 이렇게 하는게 더 값이 잘나와서 그냥 이렇게 하자\n",
    "# 다른 방법있으면 적용해봐도 될듯\n",
    "data = data[(data.과거성공프로젝트수/data.과거프로젝트수)<=1]  # 새로펀딩한 0/0 인 애들 빼자는 거지?\n",
    "\n",
    "plt.scatter(data.과거성공프로젝트수/data.과거프로젝트수, data.달성률)\n",
    "data['성공비율'] = data.과거성공프로젝트수/data.과거프로젝트수"
   ]
  },
  {
   "cell_type": "code",
   "execution_count": 22,
   "metadata": {},
   "outputs": [],
   "source": [
    "# 펀딩기간 형성 및 정수로 변환\n",
    "\n",
    "data['펀딩기간'] = (data['펀딩마감날짜'] - data['펀딩시작날짜'])\n",
    "data['펀딩기간'] = data.펀딩기간.dt.days\n",
    "\n",
    "# 사용한 날짜 변수 다시 제거\n",
    "\n",
    "#data = data.drop(columns = ['펀딩시작날짜','펀딩마감날짜'])\n",
    "# 펀딩기간 0인거 제거\n",
    "\n",
    "data = data[data['펀딩기간']!=0]\n",
    "\n",
    "# 일단 하면 성능좋아져서 했음\n"
   ]
  },
  {
   "cell_type": "code",
   "execution_count": 23,
   "metadata": {},
   "outputs": [],
   "source": [
    "# 일펀딩금액과 일글수 파생변수 생성\n",
    "\n",
    "data['일펀딩금액'] = data.목표금액/data.펀딩기간\n",
    "data['일글수'] = data.글업데이트수/data.펀딩기간"
   ]
  },
  {
   "cell_type": "code",
   "execution_count": null,
   "metadata": {},
   "outputs": [],
   "source": [
    "# 일평균 글업데이트수와 중복되는 컬럼이기 때문에 제거 or 지켜보자\n",
    "#['글업데이트수','과거성공프로젝트수','목표금액'])"
   ]
  },
  {
   "cell_type": "code",
   "execution_count": 24,
   "metadata": {},
   "outputs": [],
   "source": [
    "# 파생변수\n",
    "\n",
    "data['문장당강조'] = data.Strong/data.문장수\n",
    "data['문장당밑줄']= data.Under/data.문장수"
   ]
  },
  {
   "cell_type": "code",
   "execution_count": null,
   "metadata": {
    "scrolled": false
   },
   "outputs": [],
   "source": [
    "data.columns"
   ]
  },
  {
   "cell_type": "code",
   "execution_count": null,
   "metadata": {
    "scrolled": true
   },
   "outputs": [],
   "source": [
    "data.head(1)"
   ]
  },
  {
   "cell_type": "markdown",
   "metadata": {},
   "source": [
    "## Feature Selection"
   ]
  },
  {
   "cell_type": "code",
   "execution_count": 25,
   "metadata": {},
   "outputs": [],
   "source": [
    "# 필요한 컬럼만 추출\n",
    "#좋아요/서포터/글업데이트/댓글수x\n",
    "#와디즈,크라우드펀딩기사개수/경제지표x\n",
    "#인스타존재여부/인스타팔로워수x\n",
    "feature_names=['달성률',#정답값\n",
    "               '목표금액', \n",
    "               '리워드종류수',\n",
    "               '이미지수',\n",
    "               '비디오수',\n",
    "               '마감배송차이',\n",
    "               '와디즈팔로워수',\n",
    "               '과거프로젝트수',\n",
    "               '과거성공프로젝트수',\n",
    "               '앵콜펀딩여부',\n",
    "               '음절수',\n",
    "               '단어수',\n",
    "               '문장수',\n",
    "               'Strong',\n",
    "               'Under',\n",
    "               '가독성',\n",
    "               '가독성2', \n",
    "              '제목단어수', \n",
    "               '디자인소품',\n",
    "               '반려동물',\n",
    "               '뷰티',\n",
    "               '스포츠·모빌리티',\n",
    "              '여행·레저',\n",
    "               '테크·가전',\n",
    "               '패션·잡화',\n",
    "               '푸드', \n",
    "               '홈리빙',\n",
    "               'Fri',\n",
    "               'Mon',\n",
    "               'Sat',\n",
    "               'Sun',\n",
    "               'Thu',\n",
    "               'Tue',\n",
    "               'Wed',\n",
    "               #'성공비율',\n",
    "               '펀딩기간',\n",
    "               '일펀딩금액',\n",
    "               '일글수',\n",
    "              '문장당강조',\n",
    "               '문장당밑줄']\n",
    "total = data[feature_names]"
   ]
  },
  {
   "cell_type": "code",
   "execution_count": null,
   "metadata": {},
   "outputs": [],
   "source": [
    "# 달성률을 너무 계속 자르면 좋진 않을거 같고 3만정도 자르면 일단\n",
    "# 70 -> 72%로 정확도 향상됐음\n",
    "\n",
    "#total = total[total['달성률']<30000]"
   ]
  },
  {
   "cell_type": "code",
   "execution_count": 15,
   "metadata": {},
   "outputs": [
    {
     "data": {
      "text/plain": [
       "<matplotlib.collections.PathCollection at 0x1a15518c88>"
      ]
     },
     "execution_count": 15,
     "metadata": {},
     "output_type": "execute_result"
    },
    {
     "data": {
      "image/png": "[encoded data removed]",
      "text/plain": [
       "<Figure size 432x288 with 1 Axes>"
      ]
     },
     "metadata": {
      "needs_background": "light"
     },
     "output_type": "display_data"
    }
   ],
   "source": [
    "plt.scatter(total.와디즈팔로워수,total.달성률)"
   ]
  },
  {
   "cell_type": "code",
   "execution_count": null,
   "metadata": {},
   "outputs": [],
   "source": []
  },
  {
   "cell_type": "code",
   "execution_count": null,
   "metadata": {},
   "outputs": [],
   "source": []
  },
  {
   "cell_type": "code",
   "execution_count": 26,
   "metadata": {},
   "outputs": [],
   "source": [
    "total.index = list(range(len(total))) #어디에 쓰려고?"
   ]
  },
  {
   "cell_type": "code",
   "execution_count": 27,
   "metadata": {},
   "outputs": [
    {
     "name": "stderr",
     "output_type": "stream",
     "text": [
      "/anaconda3/lib/python3.7/site-packages/ipykernel_launcher.py:21: SettingWithCopyWarning: \n",
      "A value is trying to be set on a copy of a slice from a DataFrame.\n",
      "Try using .loc[row_indexer,col_indexer] = value instead\n",
      "\n",
      "See the caveats in the documentation: http://pandas.pydata.org/pandas-docs/stable/indexing.html#indexing-view-versus-copy\n"
     ]
    },
    {
     "data": {
      "text/html": [
       "<div>\n",
       "<style scoped>\n",
       "    .dataframe tbody tr th:only-of-type {\n",
       "        vertical-align: middle;\n",
       "    }\n",
       "\n",
       "    .dataframe tbody tr th {\n",
       "        vertical-align: top;\n",
       "    }\n",
       "\n",
       "    .dataframe thead th {\n",
       "        text-align: right;\n",
       "    }\n",
       "</style>\n",
       "<table border=\"1\" class=\"dataframe\">\n",
       "  <thead>\n",
       "    <tr style=\"text-align: right;\">\n",
       "      <th></th>\n",
       "      <th>달성률</th>\n",
       "    </tr>\n",
       "    <tr>\n",
       "      <th>타겟</th>\n",
       "      <th></th>\n",
       "    </tr>\n",
       "  </thead>\n",
       "  <tbody>\n",
       "    <tr>\n",
       "      <th>0</th>\n",
       "      <td>1115</td>\n",
       "    </tr>\n",
       "    <tr>\n",
       "      <th>1</th>\n",
       "      <td>2590</td>\n",
       "    </tr>\n",
       "    <tr>\n",
       "      <th>2</th>\n",
       "      <td>957</td>\n",
       "    </tr>\n",
       "    <tr>\n",
       "      <th>3</th>\n",
       "      <td>433</td>\n",
       "    </tr>\n",
       "    <tr>\n",
       "      <th>4</th>\n",
       "      <td>187</td>\n",
       "    </tr>\n",
       "  </tbody>\n",
       "</table>\n",
       "</div>"
      ],
      "text/plain": [
       "     달성률\n",
       "타겟      \n",
       "0   1115\n",
       "1   2590\n",
       "2    957\n",
       "3    433\n",
       "4    187"
      ]
     },
     "execution_count": 27,
     "metadata": {},
     "output_type": "execute_result"
    }
   ],
   "source": [
    "# 달성률 범주생성\n",
    "# 현재 범주는 임의의 범주이며\n",
    "# 여러가지 시도하면서 정확도를 봐야할듯\n",
    "\n",
    "total_target = total\n",
    "\n",
    "target_list = []\n",
    "\n",
    "for i in range(len(total_target)):\n",
    "    if total_target.달성률[i] < 100:\n",
    "        target_list.append(0)\n",
    "    elif total_target.달성률[i] < 700:\n",
    "        target_list.append(1)\n",
    "    elif total_target.달성률[i] < 2000:\n",
    "        target_list.append(2)\n",
    "    elif total_target.달성률[i] < 5000:\n",
    "        target_list.append(3)\n",
    "    else:\n",
    "        target_list.append(4)\n",
    "    \n",
    "total_target['타겟'] = target_list\n",
    "total_data = total_target.drop(columns = ['달성률'])\n",
    "total_target.pivot_table(index = '타겟', aggfunc = 'count', values = '달성률')"
   ]
  },
  {
   "cell_type": "markdown",
   "metadata": {},
   "source": [
    "학습용 데이터 준비"
   ]
  },
  {
   "cell_type": "code",
   "execution_count": null,
   "metadata": {},
   "outputs": [],
   "source": [
    "X = total_data.drop(columns=['타겟'])\n",
    "y = total_data.타겟\n",
    "\n",
    "# 학습용/테스트용 데이터 분리\n",
    "\n",
    "from sklearn.model_selection import train_test_split\n",
    "\n",
    "X_train, X_test, y_train, y_test = train_test_split(X, y, test_size=0.3, random_state=100)"
   ]
  },
  {
   "cell_type": "markdown",
   "metadata": {},
   "source": [
    "## Model Selection and evaluation"
   ]
  },
  {
   "cell_type": "code",
   "execution_count": 28,
   "metadata": {
    "scrolled": true
   },
   "outputs": [
    {
     "name": "stdout",
     "output_type": "stream",
     "text": [
      "1.0\n",
      "0.6403785488958991\n",
      "0.6403785488958991\n",
      "[[247  62   2   0   0]\n",
      " [ 81 686 203  76  23]\n",
      " [  2  32  66  50  17]\n",
      " [  0   1   6  10  12]\n",
      " [  0   1   1   1   6]]\n"
     ]
    },
    {
     "data": {
      "text/html": [
       "<div>\n",
       "<style scoped>\n",
       "    .dataframe tbody tr th:only-of-type {\n",
       "        vertical-align: middle;\n",
       "    }\n",
       "\n",
       "    .dataframe tbody tr th {\n",
       "        vertical-align: top;\n",
       "    }\n",
       "\n",
       "    .dataframe thead th {\n",
       "        text-align: right;\n",
       "    }\n",
       "</style>\n",
       "<table border=\"1\" class=\"dataframe\">\n",
       "  <thead>\n",
       "    <tr style=\"text-align: right;\">\n",
       "      <th></th>\n",
       "      <th>속성명</th>\n",
       "      <th>중요도</th>\n",
       "    </tr>\n",
       "  </thead>\n",
       "  <tbody>\n",
       "    <tr>\n",
       "      <th>35</th>\n",
       "      <td>일글수</td>\n",
       "      <td>0.185486</td>\n",
       "    </tr>\n",
       "    <tr>\n",
       "      <th>5</th>\n",
       "      <td>와디즈팔로워수</td>\n",
       "      <td>0.061415</td>\n",
       "    </tr>\n",
       "    <tr>\n",
       "      <th>34</th>\n",
       "      <td>일펀딩금액</td>\n",
       "      <td>0.053866</td>\n",
       "    </tr>\n",
       "    <tr>\n",
       "      <th>2</th>\n",
       "      <td>이미지수</td>\n",
       "      <td>0.050695</td>\n",
       "    </tr>\n",
       "    <tr>\n",
       "      <th>4</th>\n",
       "      <td>마감배송차이</td>\n",
       "      <td>0.043102</td>\n",
       "    </tr>\n",
       "    <tr>\n",
       "      <th>10</th>\n",
       "      <td>단어수</td>\n",
       "      <td>0.040932</td>\n",
       "    </tr>\n",
       "    <tr>\n",
       "      <th>9</th>\n",
       "      <td>음절수</td>\n",
       "      <td>0.040891</td>\n",
       "    </tr>\n",
       "    <tr>\n",
       "      <th>14</th>\n",
       "      <td>가독성</td>\n",
       "      <td>0.040866</td>\n",
       "    </tr>\n",
       "    <tr>\n",
       "      <th>11</th>\n",
       "      <td>문장수</td>\n",
       "      <td>0.040355</td>\n",
       "    </tr>\n",
       "    <tr>\n",
       "      <th>36</th>\n",
       "      <td>문장당강조</td>\n",
       "      <td>0.040019</td>\n",
       "    </tr>\n",
       "    <tr>\n",
       "      <th>15</th>\n",
       "      <td>가독성2</td>\n",
       "      <td>0.039764</td>\n",
       "    </tr>\n",
       "    <tr>\n",
       "      <th>12</th>\n",
       "      <td>Strong</td>\n",
       "      <td>0.037902</td>\n",
       "    </tr>\n",
       "    <tr>\n",
       "      <th>37</th>\n",
       "      <td>문장당밑줄</td>\n",
       "      <td>0.037752</td>\n",
       "    </tr>\n",
       "    <tr>\n",
       "      <th>33</th>\n",
       "      <td>펀딩기간</td>\n",
       "      <td>0.036866</td>\n",
       "    </tr>\n",
       "    <tr>\n",
       "      <th>13</th>\n",
       "      <td>Under</td>\n",
       "      <td>0.034229</td>\n",
       "    </tr>\n",
       "    <tr>\n",
       "      <th>1</th>\n",
       "      <td>리워드종류수</td>\n",
       "      <td>0.031717</td>\n",
       "    </tr>\n",
       "    <tr>\n",
       "      <th>0</th>\n",
       "      <td>목표금액</td>\n",
       "      <td>0.027164</td>\n",
       "    </tr>\n",
       "    <tr>\n",
       "      <th>16</th>\n",
       "      <td>제목단어수</td>\n",
       "      <td>0.024927</td>\n",
       "    </tr>\n",
       "    <tr>\n",
       "      <th>7</th>\n",
       "      <td>과거성공프로젝트수</td>\n",
       "      <td>0.019599</td>\n",
       "    </tr>\n",
       "    <tr>\n",
       "      <th>6</th>\n",
       "      <td>과거프로젝트수</td>\n",
       "      <td>0.018748</td>\n",
       "    </tr>\n",
       "    <tr>\n",
       "      <th>3</th>\n",
       "      <td>비디오수</td>\n",
       "      <td>0.015466</td>\n",
       "    </tr>\n",
       "    <tr>\n",
       "      <th>23</th>\n",
       "      <td>패션·잡화</td>\n",
       "      <td>0.008035</td>\n",
       "    </tr>\n",
       "    <tr>\n",
       "      <th>24</th>\n",
       "      <td>푸드</td>\n",
       "      <td>0.006421</td>\n",
       "    </tr>\n",
       "    <tr>\n",
       "      <th>32</th>\n",
       "      <td>Wed</td>\n",
       "      <td>0.006377</td>\n",
       "    </tr>\n",
       "    <tr>\n",
       "      <th>30</th>\n",
       "      <td>Thu</td>\n",
       "      <td>0.006124</td>\n",
       "    </tr>\n",
       "    <tr>\n",
       "      <th>22</th>\n",
       "      <td>테크·가전</td>\n",
       "      <td>0.006053</td>\n",
       "    </tr>\n",
       "    <tr>\n",
       "      <th>26</th>\n",
       "      <td>Fri</td>\n",
       "      <td>0.006049</td>\n",
       "    </tr>\n",
       "    <tr>\n",
       "      <th>27</th>\n",
       "      <td>Mon</td>\n",
       "      <td>0.005776</td>\n",
       "    </tr>\n",
       "    <tr>\n",
       "      <th>8</th>\n",
       "      <td>앵콜펀딩여부</td>\n",
       "      <td>0.005448</td>\n",
       "    </tr>\n",
       "    <tr>\n",
       "      <th>31</th>\n",
       "      <td>Tue</td>\n",
       "      <td>0.005419</td>\n",
       "    </tr>\n",
       "    <tr>\n",
       "      <th>25</th>\n",
       "      <td>홈리빙</td>\n",
       "      <td>0.005221</td>\n",
       "    </tr>\n",
       "    <tr>\n",
       "      <th>19</th>\n",
       "      <td>뷰티</td>\n",
       "      <td>0.004832</td>\n",
       "    </tr>\n",
       "    <tr>\n",
       "      <th>17</th>\n",
       "      <td>디자인소품</td>\n",
       "      <td>0.004156</td>\n",
       "    </tr>\n",
       "    <tr>\n",
       "      <th>18</th>\n",
       "      <td>반려동물</td>\n",
       "      <td>0.003926</td>\n",
       "    </tr>\n",
       "    <tr>\n",
       "      <th>21</th>\n",
       "      <td>여행·레저</td>\n",
       "      <td>0.002121</td>\n",
       "    </tr>\n",
       "    <tr>\n",
       "      <th>20</th>\n",
       "      <td>스포츠·모빌리티</td>\n",
       "      <td>0.001801</td>\n",
       "    </tr>\n",
       "    <tr>\n",
       "      <th>28</th>\n",
       "      <td>Sat</td>\n",
       "      <td>0.000348</td>\n",
       "    </tr>\n",
       "    <tr>\n",
       "      <th>29</th>\n",
       "      <td>Sun</td>\n",
       "      <td>0.000133</td>\n",
       "    </tr>\n",
       "  </tbody>\n",
       "</table>\n",
       "</div>"
      ],
      "text/plain": [
       "          속성명       중요도\n",
       "35        일글수  0.185486\n",
       "5     와디즈팔로워수  0.061415\n",
       "34      일펀딩금액  0.053866\n",
       "2        이미지수  0.050695\n",
       "4      마감배송차이  0.043102\n",
       "10        단어수  0.040932\n",
       "9         음절수  0.040891\n",
       "14        가독성  0.040866\n",
       "11        문장수  0.040355\n",
       "36      문장당강조  0.040019\n",
       "15       가독성2  0.039764\n",
       "12     Strong  0.037902\n",
       "37      문장당밑줄  0.037752\n",
       "33       펀딩기간  0.036866\n",
       "13      Under  0.034229\n",
       "1      리워드종류수  0.031717\n",
       "0        목표금액  0.027164\n",
       "16      제목단어수  0.024927\n",
       "7   과거성공프로젝트수  0.019599\n",
       "6     과거프로젝트수  0.018748\n",
       "3        비디오수  0.015466\n",
       "23      패션·잡화  0.008035\n",
       "24         푸드  0.006421\n",
       "32        Wed  0.006377\n",
       "30        Thu  0.006124\n",
       "22      테크·가전  0.006053\n",
       "26        Fri  0.006049\n",
       "27        Mon  0.005776\n",
       "8      앵콜펀딩여부  0.005448\n",
       "31        Tue  0.005419\n",
       "25        홈리빙  0.005221\n",
       "19         뷰티  0.004832\n",
       "17      디자인소품  0.004156\n",
       "18       반려동물  0.003926\n",
       "21      여행·레저  0.002121\n",
       "20   스포츠·모빌리티  0.001801\n",
       "28        Sat  0.000348\n",
       "29        Sun  0.000133"
      ]
     },
     "execution_count": 28,
     "metadata": {},
     "output_type": "execute_result"
    }
   ],
   "source": [
    "from sklearn.ensemble import RandomForestClassifier\n",
    "\n",
    "rf = RandomForestClassifier(n_estimators = 1000)\n",
    "\n",
    "rf.fit(X_train, y_train)\n",
    "\n",
    "print(rf.score(X_train, y_train))\n",
    "print(rf.score(X_test, y_test))\n",
    "\n",
    "y_pred = rf.predict(X_test)\n",
    "\n",
    "import sklearn.metrics as mt\n",
    "\n",
    "print(mt.accuracy_score( y_pred, y_test))\n",
    "print(mt.confusion_matrix(y_pred, y_test))\n",
    "\n",
    "pd.DataFrame({'속성명':total_data.columns[:-1], '중요도':rf.feature_importances_}).sort_values('중요도',ascending=False)"
   ]
  },
  {
   "cell_type": "code",
   "execution_count": 29,
   "metadata": {},
   "outputs": [
    {
     "data": {
      "text/plain": [
       "0.6473186119873817"
      ]
     },
     "execution_count": 29,
     "metadata": {},
     "output_type": "execute_result"
    }
   ],
   "source": [
    "import xgboost\n",
    "from xgboost import XGBClassifier\n",
    "\n",
    "xgb_clf = XGBClassifier()\n",
    "xgb_clf.fit(X_train, y_train)\n",
    "\n",
    "xgb_clf.score(X_test, y_test)"
   ]
  },
  {
   "cell_type": "code",
   "execution_count": null,
   "metadata": {},
   "outputs": [],
   "source": [
    "# gridsearch\n",
    "\n",
    "from sklearn.model_selection import GridSearchCV\n",
    "\n",
    "xgb_params = {'n_estimators':[100,200],\n",
    "             'learning_rate':[0.1,0.2]}\n",
    "\n",
    "grid_xgb = GridSearchCV(xgb_clf, param_grid = xgb_params,\n",
    "               cv= 5, n_jobs=-1)\n",
    "grid_xgb.fit(X_train, y_train)\n",
    "\n",
    "grid_xgb.score(X_test,y_test)\n",
    "grid_xgb.best_params_"
   ]
  }
 ],
 "metadata": {
  "kernelspec": {
   "display_name": "Python 3",
   "language": "python",
   "name": "python3"
  },
  "language_info": {
   "codemirror_mode": {
    "name": "ipython",
    "version": 3
   },
   "file_extension": ".py",
   "mimetype": "text/x-python",
   "name": "python",
   "nbconvert_exporter": "python",
   "pygments_lexer": "ipython3",
   "version": "3.7.3"
  }
 },
 "nbformat": 4,
 "nbformat_minor": 2
}
