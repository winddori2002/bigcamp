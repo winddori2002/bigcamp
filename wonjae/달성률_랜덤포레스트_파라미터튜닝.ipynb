{
 "cells": [
  {
   "cell_type": "code",
   "execution_count": 37,
   "metadata": {},
   "outputs": [],
   "source": [
    "import numpy as np\n",
    "import pandas as pd\n",
    "import matplotlib.pyplot as plt\n",
    "from matplotlib import rc\n",
    "rc('font', family='AppleGothic')\n",
    "%matplotlib inline\n",
    "import seaborn as sns\n",
    "import pandas_profiling as pp"
   ]
  },
  {
   "cell_type": "code",
   "execution_count": 38,
   "metadata": {},
   "outputs": [],
   "source": [
    "# 엑셀 파일 불러오기\n",
    "filename = 'WadizTotal2_FSadded.xlsx'\n",
    "data = pd.read_excel(filename)"
   ]
  },
  {
   "cell_type": "code",
   "execution_count": 39,
   "metadata": {},
   "outputs": [],
   "source": [
    "# 데이터 쭉 보고 싶으면 호출\n",
    "#pd.set_option('display.max_rows', 500)\n",
    "pd.set_option('display.max_columns', 500)\n",
    "#pd.set_option('display.width', 1000)"
   ]
  },
  {
   "cell_type": "code",
   "execution_count": 40,
   "metadata": {
    "scrolled": false
   },
   "outputs": [
    {
     "data": {
      "text/html": [
       "<div>\n",
       "<style scoped>\n",
       "    .dataframe tbody tr th:only-of-type {\n",
       "        vertical-align: middle;\n",
       "    }\n",
       "\n",
       "    .dataframe tbody tr th {\n",
       "        vertical-align: top;\n",
       "    }\n",
       "\n",
       "    .dataframe thead th {\n",
       "        text-align: right;\n",
       "    }\n",
       "</style>\n",
       "<table border=\"1\" class=\"dataframe\">\n",
       "  <thead>\n",
       "    <tr style=\"text-align: right;\">\n",
       "      <th></th>\n",
       "      <th>url</th>\n",
       "      <th>제목</th>\n",
       "      <th>메이커</th>\n",
       "      <th>펀딩시작날짜</th>\n",
       "      <th>펀딩마감날짜</th>\n",
       "      <th>펀딩시작요일</th>\n",
       "      <th>목표금액</th>\n",
       "      <th>달성액</th>\n",
       "      <th>달성률</th>\n",
       "      <th>서포터수</th>\n",
       "      <th>좋아요수</th>\n",
       "      <th>요약글</th>\n",
       "      <th>글업데이트수</th>\n",
       "      <th>댓글수</th>\n",
       "      <th>리워드종류수</th>\n",
       "      <th>이미지수</th>\n",
       "      <th>비디오수</th>\n",
       "      <th>배송시작날짜</th>\n",
       "      <th>마감배송차이</th>\n",
       "      <th>인스타존재여부</th>\n",
       "      <th>인스타팔로워수</th>\n",
       "      <th>와디즈팔로워수</th>\n",
       "      <th>과거프로젝트수</th>\n",
       "      <th>과거성공프로젝트수</th>\n",
       "      <th>앵콜펀딩여부</th>\n",
       "      <th>카테고리</th>\n",
       "      <th>디자인소품</th>\n",
       "      <th>반려동물</th>\n",
       "      <th>뷰티</th>\n",
       "      <th>스포츠·모빌리티</th>\n",
       "      <th>여행·레저</th>\n",
       "      <th>테크·가전</th>\n",
       "      <th>패션·잡화</th>\n",
       "      <th>푸드</th>\n",
       "      <th>홈리빙</th>\n",
       "      <th>음절수</th>\n",
       "      <th>단어수</th>\n",
       "      <th>문장수</th>\n",
       "      <th>Strong</th>\n",
       "      <th>Under</th>\n",
       "      <th>가독성</th>\n",
       "      <th>가독성2</th>\n",
       "      <th>제목단어수</th>\n",
       "      <th>펀딩성공여부</th>\n",
       "      <th>분기</th>\n",
       "      <th>PER증감</th>\n",
       "      <th>PBR증감</th>\n",
       "      <th>ROE증감</th>\n",
       "      <th>EBIT증감</th>\n",
       "    </tr>\n",
       "  </thead>\n",
       "  <tbody>\n",
       "    <tr>\n",
       "      <th>0</th>\n",
       "      <td>https://www.wadiz.kr/web/campaign/detail/40364</td>\n",
       "      <td>직접기른 비트와 당근으로 만들어 먹기편한 레드비트즙</td>\n",
       "      <td>오케이네이쳐</td>\n",
       "      <td>2019-08-01</td>\n",
       "      <td>2019-08-11</td>\n",
       "      <td>Thu</td>\n",
       "      <td>500000</td>\n",
       "      <td>803000</td>\n",
       "      <td>160</td>\n",
       "      <td>33</td>\n",
       "      <td>16</td>\n",
       "      <td>공기좋은 영암에서 정성껏 키워 수확 후 저장하지 않고 바로 만든 비트즙입니다 당근이...</td>\n",
       "      <td>0</td>\n",
       "      <td>2</td>\n",
       "      <td>4.0</td>\n",
       "      <td>15.0</td>\n",
       "      <td>0.0</td>\n",
       "      <td>2019-09-19</td>\n",
       "      <td>39</td>\n",
       "      <td>1</td>\n",
       "      <td>0</td>\n",
       "      <td>0</td>\n",
       "      <td>0.0</td>\n",
       "      <td>1.0</td>\n",
       "      <td>0</td>\n",
       "      <td>푸드</td>\n",
       "      <td>0</td>\n",
       "      <td>0</td>\n",
       "      <td>0</td>\n",
       "      <td>0</td>\n",
       "      <td>0</td>\n",
       "      <td>0</td>\n",
       "      <td>0</td>\n",
       "      <td>1</td>\n",
       "      <td>0</td>\n",
       "      <td>1269</td>\n",
       "      <td>707</td>\n",
       "      <td>41</td>\n",
       "      <td>12</td>\n",
       "      <td>1</td>\n",
       "      <td>37.483217</td>\n",
       "      <td>12.315037</td>\n",
       "      <td>6</td>\n",
       "      <td>1</td>\n",
       "      <td>19Q1적용</td>\n",
       "      <td>6.834688</td>\n",
       "      <td>0.084375</td>\n",
       "      <td>-0.600938</td>\n",
       "      <td>317.081549</td>\n",
       "    </tr>\n",
       "  </tbody>\n",
       "</table>\n",
       "</div>"
      ],
      "text/plain": [
       "                                              url  \\\n",
       "0  https://www.wadiz.kr/web/campaign/detail/40364   \n",
       "\n",
       "                             제목     메이커     펀딩시작날짜     펀딩마감날짜 펀딩시작요일    목표금액  \\\n",
       "0  직접기른 비트와 당근으로 만들어 먹기편한 레드비트즙  오케이네이쳐 2019-08-01 2019-08-11    Thu  500000   \n",
       "\n",
       "      달성액  달성률  서포터수  좋아요수                                                요약글  \\\n",
       "0  803000  160    33    16  공기좋은 영암에서 정성껏 키워 수확 후 저장하지 않고 바로 만든 비트즙입니다 당근이...   \n",
       "\n",
       "   글업데이트수  댓글수  리워드종류수  이미지수  비디오수     배송시작날짜  마감배송차이  인스타존재여부  인스타팔로워수  \\\n",
       "0       0    2     4.0  15.0   0.0 2019-09-19      39        1        0   \n",
       "\n",
       "   와디즈팔로워수  과거프로젝트수  과거성공프로젝트수  앵콜펀딩여부 카테고리  디자인소품  반려동물  뷰티  스포츠·모빌리티  여행·레저  \\\n",
       "0        0      0.0        1.0       0   푸드      0     0   0         0      0   \n",
       "\n",
       "   테크·가전  패션·잡화  푸드  홈리빙   음절수  단어수  문장수  Strong  Under        가독성       가독성2  \\\n",
       "0      0      0   1    0  1269  707   41      12      1  37.483217  12.315037   \n",
       "\n",
       "   제목단어수  펀딩성공여부      분기     PER증감     PBR증감     ROE증감      EBIT증감  \n",
       "0      6       1  19Q1적용  6.834688  0.084375 -0.600938  317.081549  "
      ]
     },
     "execution_count": 40,
     "metadata": {},
     "output_type": "execute_result"
    }
   ],
   "source": [
    "data.drop(columns=['Unnamed: 0','Unnamed: 0.1'], inplace = True)\n",
    "data.head(1)"
   ]
  },
  {
   "cell_type": "code",
   "execution_count": 5,
   "metadata": {},
   "outputs": [
    {
     "data": {
      "text/plain": [
       "array(['Fri', 'Mon', 'Sat', 'Sun', 'Thu', 'Tue', 'Wed'], dtype=object)"
      ]
     },
     "execution_count": 5,
     "metadata": {},
     "output_type": "execute_result"
    }
   ],
   "source": [
    "# 펀딩시작요일- LabelEncoder으로 숫자 타입으로 변환\n",
    "from sklearn.preprocessing import LabelEncoder\n",
    "le= LabelEncoder()\n",
    "data.펀딩시작요일= le.fit_transform(data.펀딩시작요일)\n",
    "le.classes_\n",
    "#0:Fri\n",
    "#1:Mon\n",
    "#2:Sat\n",
    "#3:Sun\n",
    "#4:Thu\n",
    "#5:Tue\n",
    "#6:Wed"
   ]
  },
  {
   "cell_type": "code",
   "execution_count": 6,
   "metadata": {},
   "outputs": [
    {
     "data": {
      "text/html": [
       "<div>\n",
       "<style scoped>\n",
       "    .dataframe tbody tr th:only-of-type {\n",
       "        vertical-align: middle;\n",
       "    }\n",
       "\n",
       "    .dataframe tbody tr th {\n",
       "        vertical-align: top;\n",
       "    }\n",
       "\n",
       "    .dataframe thead th {\n",
       "        text-align: right;\n",
       "    }\n",
       "</style>\n",
       "<table border=\"1\" class=\"dataframe\">\n",
       "  <thead>\n",
       "    <tr style=\"text-align: right;\">\n",
       "      <th></th>\n",
       "      <th>펀딩시작요일</th>\n",
       "      <th>달성률</th>\n",
       "      <th>글업데이트수</th>\n",
       "      <th>리워드종류수</th>\n",
       "      <th>이미지수</th>\n",
       "      <th>비디오수</th>\n",
       "      <th>마감배송차이</th>\n",
       "      <th>인스타존재여부</th>\n",
       "      <th>인스타팔로워수</th>\n",
       "      <th>와디즈팔로워수</th>\n",
       "      <th>과거성공프로젝트수</th>\n",
       "      <th>앵콜펀딩여부</th>\n",
       "      <th>디자인소품</th>\n",
       "      <th>반려동물</th>\n",
       "      <th>뷰티</th>\n",
       "      <th>스포츠·모빌리티</th>\n",
       "      <th>여행·레저</th>\n",
       "      <th>테크·가전</th>\n",
       "      <th>패션·잡화</th>\n",
       "      <th>푸드</th>\n",
       "      <th>홈리빙</th>\n",
       "      <th>문장수</th>\n",
       "      <th>Strong</th>\n",
       "      <th>Under</th>\n",
       "      <th>제목단어수</th>\n",
       "    </tr>\n",
       "  </thead>\n",
       "  <tbody>\n",
       "    <tr>\n",
       "      <th>0</th>\n",
       "      <td>4</td>\n",
       "      <td>160</td>\n",
       "      <td>0</td>\n",
       "      <td>4.0</td>\n",
       "      <td>15.0</td>\n",
       "      <td>0.0</td>\n",
       "      <td>39</td>\n",
       "      <td>1</td>\n",
       "      <td>0</td>\n",
       "      <td>0</td>\n",
       "      <td>1.0</td>\n",
       "      <td>0</td>\n",
       "      <td>0</td>\n",
       "      <td>0</td>\n",
       "      <td>0</td>\n",
       "      <td>0</td>\n",
       "      <td>0</td>\n",
       "      <td>0</td>\n",
       "      <td>0</td>\n",
       "      <td>1</td>\n",
       "      <td>0</td>\n",
       "      <td>41</td>\n",
       "      <td>12</td>\n",
       "      <td>1</td>\n",
       "      <td>6</td>\n",
       "    </tr>\n",
       "  </tbody>\n",
       "</table>\n",
       "</div>"
      ],
      "text/plain": [
       "   펀딩시작요일  달성률  글업데이트수  리워드종류수  이미지수  비디오수  마감배송차이  인스타존재여부  인스타팔로워수  와디즈팔로워수  \\\n",
       "0       4  160       0     4.0  15.0   0.0      39        1        0        0   \n",
       "\n",
       "   과거성공프로젝트수  앵콜펀딩여부  디자인소품  반려동물  뷰티  스포츠·모빌리티  여행·레저  테크·가전  패션·잡화  푸드  홈리빙  \\\n",
       "0        1.0       0      0     0   0         0      0      0      0   1    0   \n",
       "\n",
       "   문장수  Strong  Under  제목단어수  \n",
       "0   41      12      1      6  "
      ]
     },
     "execution_count": 6,
     "metadata": {},
     "output_type": "execute_result"
    }
   ],
   "source": [
    "# 회귀 모델링을 위한 테스트데이터만들기\n",
    "data.drop(columns=['url','제목','메이커','펀딩시작날짜','펀딩마감날짜','목표금액',\n",
    "                   '달성액','요약글','배송시작날짜','과거프로젝트수','카테고리','분기',\n",
    "                  '펀딩성공여부','PER증감','PBR증감','ROE증감','EBIT증감','가독성','가독성2',\n",
    "                   '음절수','단어수','좋아요수','서포터수','댓글수'], inplace = True)\n",
    "data.head(1)"
   ]
  },
  {
   "cell_type": "code",
   "execution_count": 7,
   "metadata": {},
   "outputs": [
    {
     "data": {
      "text/plain": [
       "0    160\n",
       "Name: 달성률, dtype: int64"
      ]
     },
     "execution_count": 7,
     "metadata": {},
     "output_type": "execute_result"
    }
   ],
   "source": [
    "target= data.달성률\n",
    "target.head(1)"
   ]
  },
  {
   "cell_type": "code",
   "execution_count": 8,
   "metadata": {},
   "outputs": [
    {
     "data": {
      "text/html": [
       "<div>\n",
       "<style scoped>\n",
       "    .dataframe tbody tr th:only-of-type {\n",
       "        vertical-align: middle;\n",
       "    }\n",
       "\n",
       "    .dataframe tbody tr th {\n",
       "        vertical-align: top;\n",
       "    }\n",
       "\n",
       "    .dataframe thead th {\n",
       "        text-align: right;\n",
       "    }\n",
       "</style>\n",
       "<table border=\"1\" class=\"dataframe\">\n",
       "  <thead>\n",
       "    <tr style=\"text-align: right;\">\n",
       "      <th></th>\n",
       "      <th>펀딩시작요일</th>\n",
       "      <th>글업데이트수</th>\n",
       "      <th>리워드종류수</th>\n",
       "      <th>이미지수</th>\n",
       "      <th>비디오수</th>\n",
       "      <th>마감배송차이</th>\n",
       "      <th>인스타존재여부</th>\n",
       "      <th>인스타팔로워수</th>\n",
       "      <th>와디즈팔로워수</th>\n",
       "      <th>과거성공프로젝트수</th>\n",
       "      <th>앵콜펀딩여부</th>\n",
       "      <th>디자인소품</th>\n",
       "      <th>반려동물</th>\n",
       "      <th>뷰티</th>\n",
       "      <th>스포츠·모빌리티</th>\n",
       "      <th>여행·레저</th>\n",
       "      <th>테크·가전</th>\n",
       "      <th>패션·잡화</th>\n",
       "      <th>푸드</th>\n",
       "      <th>홈리빙</th>\n",
       "      <th>문장수</th>\n",
       "      <th>Strong</th>\n",
       "      <th>Under</th>\n",
       "      <th>제목단어수</th>\n",
       "    </tr>\n",
       "  </thead>\n",
       "  <tbody>\n",
       "    <tr>\n",
       "      <th>0</th>\n",
       "      <td>4</td>\n",
       "      <td>0</td>\n",
       "      <td>4.0</td>\n",
       "      <td>15.0</td>\n",
       "      <td>0.0</td>\n",
       "      <td>39</td>\n",
       "      <td>1</td>\n",
       "      <td>0</td>\n",
       "      <td>0</td>\n",
       "      <td>1.0</td>\n",
       "      <td>0</td>\n",
       "      <td>0</td>\n",
       "      <td>0</td>\n",
       "      <td>0</td>\n",
       "      <td>0</td>\n",
       "      <td>0</td>\n",
       "      <td>0</td>\n",
       "      <td>0</td>\n",
       "      <td>1</td>\n",
       "      <td>0</td>\n",
       "      <td>41</td>\n",
       "      <td>12</td>\n",
       "      <td>1</td>\n",
       "      <td>6</td>\n",
       "    </tr>\n",
       "  </tbody>\n",
       "</table>\n",
       "</div>"
      ],
      "text/plain": [
       "   펀딩시작요일  글업데이트수  리워드종류수  이미지수  비디오수  마감배송차이  인스타존재여부  인스타팔로워수  와디즈팔로워수  \\\n",
       "0       4       0     4.0  15.0   0.0      39        1        0        0   \n",
       "\n",
       "   과거성공프로젝트수  앵콜펀딩여부  디자인소품  반려동물  뷰티  스포츠·모빌리티  여행·레저  테크·가전  패션·잡화  푸드  홈리빙  \\\n",
       "0        1.0       0      0     0   0         0      0      0      0   1    0   \n",
       "\n",
       "   문장수  Strong  Under  제목단어수  \n",
       "0   41      12      1      6  "
      ]
     },
     "execution_count": 8,
     "metadata": {},
     "output_type": "execute_result"
    }
   ],
   "source": [
    "wadizdata= data.drop(columns=[\"달성률\"])\n",
    "wadizdata.head(1)"
   ]
  },
  {
   "cell_type": "code",
   "execution_count": 9,
   "metadata": {},
   "outputs": [],
   "source": [
    "# 학습용/테스트용 데이터 분리\n",
    "from sklearn.model_selection import train_test_split\n",
    "X_train, X_test, y_train, y_test = train_test_split(wadizdata,\n",
    "                                                    target,\n",
    "                                                    test_size=0.3,\n",
    "                                                    random_state=100)"
   ]
  },
  {
   "cell_type": "code",
   "execution_count": 14,
   "metadata": {},
   "outputs": [
    {
     "data": {
      "text/plain": [
       "make_scorer(rmse)"
      ]
     },
     "execution_count": 14,
     "metadata": {},
     "output_type": "execute_result"
    }
   ],
   "source": [
    "#하이퍼 파라미터 튜닝\n",
    "\n",
    "#rmse\n",
    "from sklearn.metrics import make_scorer\n",
    "\n",
    "#예측값(predict)정답(actual)\n",
    "def rmse(predict, actual):\n",
    "    \n",
    "    predict = np.array(predict)\n",
    "    actual = np.array(actual)\n",
    "\n",
    "    distance = predict - actual\n",
    "    \n",
    "    square_distance = distance ** 2\n",
    "    \n",
    "    mean_square_distance = square_distance.mean()\n",
    "    \n",
    "    score = np.sqrt(mean_square_distance)\n",
    "    \n",
    "    return score\n",
    "\n",
    "rmse_score = make_scorer(rmse)\n",
    "rmse_score"
   ]
  },
  {
   "cell_type": "code",
   "execution_count": 16,
   "metadata": {
    "scrolled": true
   },
   "outputs": [
    {
     "name": "stdout",
     "output_type": "stream",
     "text": [
      " 0 n_estimators = 5, max_depth = 43, max_features = 0.455379, Score = 1949.49415\n",
      " 1 n_estimators = 5, max_depth =  9, max_features = 0.800802, Score = 1892.12706\n",
      " 2 n_estimators = 5, max_depth = 64, max_features = 0.579597, Score = 1958.87356\n",
      " 3 n_estimators = 5, max_depth = 29, max_features = 0.178949, Score = 1930.55685\n",
      " 4 n_estimators = 5, max_depth = 81, max_features = 0.647808, Score = 1956.99089\n",
      "(5, 5)\n"
     ]
    },
    {
     "data": {
      "text/html": [
       "<div>\n",
       "<style scoped>\n",
       "    .dataframe tbody tr th:only-of-type {\n",
       "        vertical-align: middle;\n",
       "    }\n",
       "\n",
       "    .dataframe tbody tr th {\n",
       "        vertical-align: top;\n",
       "    }\n",
       "\n",
       "    .dataframe thead th {\n",
       "        text-align: right;\n",
       "    }\n",
       "</style>\n",
       "<table border=\"1\" class=\"dataframe\">\n",
       "  <thead>\n",
       "    <tr style=\"text-align: right;\">\n",
       "      <th></th>\n",
       "      <th>epoch</th>\n",
       "      <th>max_depth</th>\n",
       "      <th>max_features</th>\n",
       "      <th>n_estimators</th>\n",
       "      <th>score</th>\n",
       "    </tr>\n",
       "  </thead>\n",
       "  <tbody>\n",
       "    <tr>\n",
       "      <th>1</th>\n",
       "      <td>1</td>\n",
       "      <td>9</td>\n",
       "      <td>0.800802</td>\n",
       "      <td>5</td>\n",
       "      <td>1892.127059</td>\n",
       "    </tr>\n",
       "    <tr>\n",
       "      <th>3</th>\n",
       "      <td>3</td>\n",
       "      <td>29</td>\n",
       "      <td>0.178949</td>\n",
       "      <td>5</td>\n",
       "      <td>1930.556855</td>\n",
       "    </tr>\n",
       "    <tr>\n",
       "      <th>0</th>\n",
       "      <td>0</td>\n",
       "      <td>43</td>\n",
       "      <td>0.455379</td>\n",
       "      <td>5</td>\n",
       "      <td>1949.494151</td>\n",
       "    </tr>\n",
       "    <tr>\n",
       "      <th>4</th>\n",
       "      <td>4</td>\n",
       "      <td>81</td>\n",
       "      <td>0.647808</td>\n",
       "      <td>5</td>\n",
       "      <td>1956.990892</td>\n",
       "    </tr>\n",
       "    <tr>\n",
       "      <th>2</th>\n",
       "      <td>2</td>\n",
       "      <td>64</td>\n",
       "      <td>0.579597</td>\n",
       "      <td>5</td>\n",
       "      <td>1958.873557</td>\n",
       "    </tr>\n",
       "  </tbody>\n",
       "</table>\n",
       "</div>"
      ],
      "text/plain": [
       "   epoch  max_depth  max_features  n_estimators        score\n",
       "1      1          9      0.800802             5  1892.127059\n",
       "3      3         29      0.178949             5  1930.556855\n",
       "0      0         43      0.455379             5  1949.494151\n",
       "4      4         81      0.647808             5  1956.990892\n",
       "2      2         64      0.579597             5  1958.873557"
      ]
     },
     "execution_count": 16,
     "metadata": {},
     "output_type": "execute_result"
    }
   ],
   "source": [
    "# Coarse\n",
    "from sklearn.model_selection import cross_val_score\n",
    "\n",
    "# n_estimators= 트리갯수\n",
    "# 보통은 높을수록 좋지만, 그만큼 실행 속도가 오래 걸리기 때문에 적당한 값을 설정 (5 개)\n",
    "# 나머지 하이퍼패리미터가 전부 튜닝되면, 그 다음에는 n_estimators를 최대한 높이 주면 되기때문\n",
    "n_estimators = 5\n",
    "\n",
    "# 랜덤 서치를 반복할 횟수(보통 100으로 알고있으나 일단 5)\n",
    "num_epoch = 5\n",
    "\n",
    "#criterion= ['gini', 'entropy'] 보통 지니쓰면 될꺼 같아서 안함\n",
    "\n",
    "# hyperparameter 탐색 결과를 리스트로 저장\n",
    "coarse_hyperparameters_list = []\n",
    "\n",
    "# num_epoch 횟수만큼 랜덤 서치를 반복\n",
    "for epoch in range(num_epoch):\n",
    "    # 2에서 100 사이의 정수 값을 랜덤하게 생성해서 max_depth 변수에 할당\n",
    "    max_depth = np.random.randint(low=2, high=100)\n",
    "\n",
    "    # 0.1에서 1.0 사이의 실수 값을 랜덤하게 생성하여  max_features 변수에 할당\n",
    "    max_features = np.random.uniform(low=0.1, high=1.0)\n",
    "\n",
    "    # Random Forest를 생성\n",
    "    # 1) n_estimators. 트리의 갯수\n",
    "    # 2) max_depth. 트리의 깊이\n",
    "    # 3) max_features. Feature Sampling 0.0 ~ 1.0 사이의 값 트리를 생성할 때 전체 feature에서 지정한 비율만큼만 feature를 사용\n",
    "    \n",
    "    model = RandomForestRegressor(n_estimators=n_estimators,\n",
    "                                  max_depth=max_depth,\n",
    "                                  max_features=max_features,\n",
    "                                  n_jobs=-1,\n",
    "                                  random_state=100)\n",
    "\n",
    "    # cross_val_score를 실행\n",
    "    # 정확도 평균스코어를 스코어로 할당\n",
    "    score = cross_val_score(model, X_train, y_train, cv=20, scoring=rmse_score).mean()\n",
    "    \n",
    "    # hyperparameter 탐색 결과 딕셔너리화 \n",
    "    hyperparameters = {\n",
    "        'epoch': epoch,\n",
    "        'score': score,\n",
    "        'n_estimators': n_estimators,\n",
    "        'max_depth': max_depth,\n",
    "        'max_features': max_features,\n",
    "    }\n",
    "\n",
    "    # hyperparameter 탐색 결과 리스트에 저장\n",
    "    coarse_hyperparameters_list.append(hyperparameters)\n",
    "\n",
    "    # hyperparameter 탐색 결과 출력\n",
    "    print(f\"{epoch:2} n_estimators = {n_estimators}, max_depth = {max_depth:2}, max_features = {max_features:.6f}, Score = {score:.5f}\")\n",
    "\n",
    "# coarse_hyperparameters_list를 PDataFrame으로 변환\n",
    "coarse_hyperparameters_list = pd.DataFrame.from_dict(coarse_hyperparameters_list)\n",
    "\n",
    "# score가 높은 순으로 정렬 - 낮을수록 정확한거(RMSE)\n",
    "coarse_hyperparameters_list = coarse_hyperparameters_list.sort_values(by=\"score\")\n",
    "\n",
    "print(coarse_hyperparameters_list.shape)\n",
    "\n",
    "# coarse_hyperparameters_list의 상위 10개를 출력\n",
    "coarse_hyperparameters_list.head(10)"
   ]
  },
  {
   "cell_type": "code",
   "execution_count": 17,
   "metadata": {
    "scrolled": true
   },
   "outputs": [
    {
     "name": "stdout",
     "output_type": "stream",
     "text": [
      " 0 n_estimators = 5, max_depth =  6, max_features = 0.670819, Score = 1876.15986\n",
      " 1 n_estimators = 5, max_depth =  7, max_features = 0.292345, Score = 1858.39683\n",
      " 2 n_estimators = 5, max_depth =  9, max_features = 0.629709, Score = 1873.35181\n",
      " 3 n_estimators = 5, max_depth =  4, max_features = 0.223151, Score = 1825.57236\n",
      " 4 n_estimators = 5, max_depth =  4, max_features = 0.209190, Score = 1825.57236\n",
      "(5, 5)\n"
     ]
    },
    {
     "data": {
      "text/html": [
       "<div>\n",
       "<style scoped>\n",
       "    .dataframe tbody tr th:only-of-type {\n",
       "        vertical-align: middle;\n",
       "    }\n",
       "\n",
       "    .dataframe tbody tr th {\n",
       "        vertical-align: top;\n",
       "    }\n",
       "\n",
       "    .dataframe thead th {\n",
       "        text-align: right;\n",
       "    }\n",
       "</style>\n",
       "<table border=\"1\" class=\"dataframe\">\n",
       "  <thead>\n",
       "    <tr style=\"text-align: right;\">\n",
       "      <th></th>\n",
       "      <th>epoch</th>\n",
       "      <th>max_depth</th>\n",
       "      <th>max_features</th>\n",
       "      <th>n_estimators</th>\n",
       "      <th>score</th>\n",
       "    </tr>\n",
       "  </thead>\n",
       "  <tbody>\n",
       "    <tr>\n",
       "      <th>3</th>\n",
       "      <td>3</td>\n",
       "      <td>4</td>\n",
       "      <td>0.223151</td>\n",
       "      <td>5</td>\n",
       "      <td>1825.572359</td>\n",
       "    </tr>\n",
       "    <tr>\n",
       "      <th>4</th>\n",
       "      <td>4</td>\n",
       "      <td>4</td>\n",
       "      <td>0.209190</td>\n",
       "      <td>5</td>\n",
       "      <td>1825.572359</td>\n",
       "    </tr>\n",
       "    <tr>\n",
       "      <th>1</th>\n",
       "      <td>1</td>\n",
       "      <td>7</td>\n",
       "      <td>0.292345</td>\n",
       "      <td>5</td>\n",
       "      <td>1858.396835</td>\n",
       "    </tr>\n",
       "    <tr>\n",
       "      <th>2</th>\n",
       "      <td>2</td>\n",
       "      <td>9</td>\n",
       "      <td>0.629709</td>\n",
       "      <td>5</td>\n",
       "      <td>1873.351808</td>\n",
       "    </tr>\n",
       "    <tr>\n",
       "      <th>0</th>\n",
       "      <td>0</td>\n",
       "      <td>6</td>\n",
       "      <td>0.670819</td>\n",
       "      <td>5</td>\n",
       "      <td>1876.159865</td>\n",
       "    </tr>\n",
       "  </tbody>\n",
       "</table>\n",
       "</div>"
      ],
      "text/plain": [
       "   epoch  max_depth  max_features  n_estimators        score\n",
       "3      3          4      0.223151             5  1825.572359\n",
       "4      4          4      0.209190             5  1825.572359\n",
       "1      1          7      0.292345             5  1858.396835\n",
       "2      2          9      0.629709             5  1873.351808\n",
       "0      0          6      0.670819             5  1876.159865"
      ]
     },
     "execution_count": 17,
     "metadata": {},
     "output_type": "execute_result"
    }
   ],
   "source": [
    "#Finer\n",
    "n_estimators = 5\n",
    "\n",
    "num_epoch = 5\n",
    "\n",
    "\n",
    "finer_hyperparameters_list = []\n",
    "\n",
    "\n",
    "for epoch in range(num_epoch):\n",
    "    \n",
    "    max_depth = np.random.randint(low=1, high=10) # coarse 에서 참고\n",
    "\n",
    "    \n",
    "    max_features = np.random.uniform(low=0.15, high=0.9) # coarse 에서 참고 \n",
    "\n",
    "    model = RandomForestRegressor(n_estimators=n_estimators,\n",
    "                                  max_depth=max_depth,\n",
    "                                  max_features=max_features,\n",
    "                                  n_jobs=-1,\n",
    "                                  random_state=37)\n",
    "\n",
    "    score = cross_val_score(model, X_train, y_train, cv=20, scoring=rmse_score).mean()\n",
    "    \n",
    "    \n",
    "    hyperparameters = {\n",
    "        'epoch': epoch,\n",
    "        'score': score,\n",
    "        'n_estimators': n_estimators,\n",
    "        'max_depth': max_depth,\n",
    "        'max_features': max_features,\n",
    "    }\n",
    "\n",
    "    \n",
    "    finer_hyperparameters_list.append(hyperparameters)\n",
    "\n",
    "   \n",
    "    print(f\"{epoch:2} n_estimators = {n_estimators}, max_depth = {max_depth:2}, max_features = {max_features:.6f}, Score = {score:.5f}\")\n",
    "\n",
    "\n",
    "finer_hyperparameters_list = pd.DataFrame.from_dict(finer_hyperparameters_list)\n",
    "\n",
    "finer_hyperparameters_list = finer_hyperparameters_list.sort_values(by=\"score\")\n",
    "\n",
    "\n",
    "print(finer_hyperparameters_list.shape)\n",
    "\n",
    "finer_hyperparameters_list.head(10)"
   ]
  },
  {
   "cell_type": "code",
   "execution_count": 18,
   "metadata": {},
   "outputs": [
    {
     "name": "stdout",
     "output_type": "stream",
     "text": [
      "max_depth(best) = 4.0, max_features(best) = 0.223151\n"
     ]
    }
   ],
   "source": [
    "# 가장 좋은 정확도가 나온하이퍼패러미터를 가져오기\n",
    "best_hyperparameters = finer_hyperparameters_list.iloc[0] #0\n",
    "\n",
    "best_max_depth = best_hyperparameters[\"max_depth\"]\n",
    "\n",
    "best_max_features = best_hyperparameters[\"max_features\"]\n",
    "\n",
    "# best_max_depth와 best_max_features를 출력\n",
    "print(f\"max_depth(best) = {best_max_depth}, max_features(best) = {best_max_features:.6f}\")"
   ]
  },
  {
   "cell_type": "code",
   "execution_count": 19,
   "metadata": {},
   "outputs": [
    {
     "data": {
      "text/plain": [
       "RandomForestRegressor(bootstrap=True, criterion='mse', max_depth=4.0,\n",
       "                      max_features=0.22315078307074093, max_leaf_nodes=None,\n",
       "                      min_impurity_decrease=0.0, min_impurity_split=None,\n",
       "                      min_samples_leaf=1, min_samples_split=2,\n",
       "                      min_weight_fraction_leaf=0.0, n_estimators=10, n_jobs=-1,\n",
       "                      oob_score=False, random_state=100, verbose=0,\n",
       "                      warm_start=False)"
      ]
     },
     "execution_count": 19,
     "metadata": {},
     "output_type": "execute_result"
    }
   ],
   "source": [
    "# 1) 랜덤포레스트 분류 객체 생성\n",
    "\n",
    "from sklearn.ensemble import RandomForestRegressor\n",
    "RandomForestRegressor()\n",
    "#하이퍼 파라미터튜닝후 n_estimators를 가능한 높은 값주기 (1~5천 천단위..?)\n",
    "best_n_estimators = 10\n",
    "\n",
    "rf_reg = RandomForestRegressor(n_estimators=best_n_estimators,\n",
    "                              max_depth=best_max_depth,\n",
    "                              max_features=best_max_features,\n",
    "                              random_state=100,\n",
    "                              n_jobs=-1)\n",
    "rf_reg"
   ]
  },
  {
   "cell_type": "code",
   "execution_count": 20,
   "metadata": {},
   "outputs": [],
   "source": [
    "# 2) 학습\n",
    "rf_reg.fit(X_train, y_train)\n",
    "\n",
    "#실제 예측한 결과값\n",
    "rf_pred= rf_reg.predict(X_test)"
   ]
  },
  {
   "cell_type": "code",
   "execution_count": 21,
   "metadata": {},
   "outputs": [
    {
     "data": {
      "text/plain": [
       "0.1899945226557328"
      ]
     },
     "execution_count": 21,
     "metadata": {},
     "output_type": "execute_result"
    }
   ],
   "source": [
    "# 3)평가\n",
    "rf_reg.score(X_test, y_test)"
   ]
  },
  {
   "cell_type": "code",
   "execution_count": 13,
   "metadata": {},
   "outputs": [
    {
     "data": {
      "text/plain": [
       "0.21046856488660937"
      ]
     },
     "execution_count": 13,
     "metadata": {},
     "output_type": "execute_result"
    }
   ],
   "source": [
    "#평가\n",
    "rf_reg.score(X_test, y_test)"
   ]
  },
  {
   "cell_type": "code",
   "execution_count": null,
   "metadata": {},
   "outputs": [],
   "source": []
  },
  {
   "cell_type": "code",
   "execution_count": 22,
   "metadata": {},
   "outputs": [],
   "source": [
    "# Grid search cv\n",
    "from sklearn.model_selection import GridSearchCV"
   ]
  },
  {
   "cell_type": "code",
   "execution_count": 23,
   "metadata": {},
   "outputs": [],
   "source": [
    "params = {\n",
    "    'n_estimators':range(1,10),\n",
    "    'max_depth': range(1,10),\n",
    "    'n_jobs': [-1]\n",
    "}"
   ]
  },
  {
   "cell_type": "code",
   "execution_count": 24,
   "metadata": {},
   "outputs": [],
   "source": [
    "grid_rf = GridSearchCV(rf_reg,\n",
    "                       param_grid = params,\n",
    "                       cv = 5,\n",
    "                       n_jobs = -1\n",
    "                      )"
   ]
  },
  {
   "cell_type": "code",
   "execution_count": 25,
   "metadata": {},
   "outputs": [
    {
     "data": {
      "text/plain": [
       "GridSearchCV(cv=5, error_score='raise-deprecating',\n",
       "             estimator=RandomForestRegressor(bootstrap=True, criterion='mse',\n",
       "                                             max_depth=4.0,\n",
       "                                             max_features=0.22315078307074093,\n",
       "                                             max_leaf_nodes=None,\n",
       "                                             min_impurity_decrease=0.0,\n",
       "                                             min_impurity_split=None,\n",
       "                                             min_samples_leaf=1,\n",
       "                                             min_samples_split=2,\n",
       "                                             min_weight_fraction_leaf=0.0,\n",
       "                                             n_estimators=10, n_jobs=-1,\n",
       "                                             oob_score=False, random_state=100,\n",
       "                                             verbose=0, warm_start=False),\n",
       "             iid='warn', n_jobs=-1,\n",
       "             param_grid={'max_depth': range(1, 10),\n",
       "                         'n_estimators': range(1, 10), 'n_jobs': [-1]},\n",
       "             pre_dispatch='2*n_jobs', refit=True, return_train_score=False,\n",
       "             scoring=None, verbose=0)"
      ]
     },
     "execution_count": 25,
     "metadata": {},
     "output_type": "execute_result"
    }
   ],
   "source": [
    "grid_rf.fit(X_train, y_train)"
   ]
  },
  {
   "cell_type": "code",
   "execution_count": 26,
   "metadata": {},
   "outputs": [
    {
     "data": {
      "text/plain": [
       "0.19373930531571626"
      ]
     },
     "execution_count": 26,
     "metadata": {},
     "output_type": "execute_result"
    }
   ],
   "source": [
    "grid_rf.score(X_test, y_test)"
   ]
  },
  {
   "cell_type": "code",
   "execution_count": 27,
   "metadata": {},
   "outputs": [
    {
     "data": {
      "text/plain": [
       "{'max_depth': 6, 'n_estimators': 7, 'n_jobs': -1}"
      ]
     },
     "execution_count": 27,
     "metadata": {},
     "output_type": "execute_result"
    }
   ],
   "source": [
    "grid_rf.best_params_"
   ]
  },
  {
   "cell_type": "code",
   "execution_count": 28,
   "metadata": {},
   "outputs": [],
   "source": [
    "f_imp = pd.DataFrame(grid_rf.best_estimator_.feature_importances_,\n",
    "            index = X_train.columns,\n",
    "            columns = ['importance'])"
   ]
  },
  {
   "cell_type": "code",
   "execution_count": 31,
   "metadata": {},
   "outputs": [],
   "source": [
    "%matplotlib inline\n",
    "from matplotlib import rc\n",
    "rc('font', family='AppleGothic')"
   ]
  },
  {
   "cell_type": "code",
   "execution_count": 32,
   "metadata": {},
   "outputs": [
    {
     "data": {
      "text/plain": [
       "<matplotlib.axes._subplots.AxesSubplot at 0x1a1b882518>"
      ]
     },
     "execution_count": 32,
     "metadata": {},
     "output_type": "execute_result"
    },
    {
     "data": {
      "image/png": "[encoded data removed]",
      "text/plain": [
       "<Figure size 432x720 with 1 Axes>"
      ]
     },
     "metadata": {
      "needs_background": "light"
     },
     "output_type": "display_data"
    }
   ],
   "source": [
    "f_imp.sort_values(by= 'importance').\\\n",
    "    plot(kind = 'barh', figsize = (6, 10))"
   ]
  },
  {
   "cell_type": "code",
   "execution_count": null,
   "metadata": {},
   "outputs": [],
   "source": []
  }
 ],
 "metadata": {
  "kernelspec": {
   "display_name": "Python 3",
   "language": "python",
   "name": "python3"
  },
  "language_info": {
   "codemirror_mode": {
    "name": "ipython",
    "version": 3
   },
   "file_extension": ".py",
   "mimetype": "text/x-python",
   "name": "python",
   "nbconvert_exporter": "python",
   "pygments_lexer": "ipython3",
   "version": "3.7.3"
  }
 },
 "nbformat": 4,
 "nbformat_minor": 2
}
