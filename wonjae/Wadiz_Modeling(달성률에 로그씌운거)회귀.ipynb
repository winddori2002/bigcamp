{
 "cells": [
  {
   "cell_type": "code",
   "execution_count": 1,
   "metadata": {},
   "outputs": [],
   "source": [
    "#필요한 라이브러리 호출\n",
    "import numpy as np\n",
    "import pandas as pd\n",
    "import datetime as dt\n",
    "import matplotlib.pyplot as plt\n",
    "from matplotlib import rc\n",
    "rc('font', family='AppleGothic')\n",
    "%matplotlib inline\n",
    "import seaborn as sns\n",
    "import pandas_profiling as pp"
   ]
  },
  {
   "cell_type": "code",
   "execution_count": 2,
   "metadata": {},
   "outputs": [],
   "source": [
    "# 엑셀 파일 불러오기\n",
    "# 채원이가 고친 마지막 파이널데이터로 함\n",
    "filename = 'master_data_final.xlsx'\n",
    "data = pd.read_excel(filename)"
   ]
  },
  {
   "cell_type": "code",
   "execution_count": 3,
   "metadata": {},
   "outputs": [],
   "source": [
    "# 데이터 쭉 보고 싶으면 호출\n",
    "#pd.set_option('display.max_rows', 500)\n",
    "pd.set_option('display.max_columns', 500)\n",
    "#pd.set_option('display.width', 1000)"
   ]
  },
  {
   "cell_type": "markdown",
   "metadata": {},
   "source": [
    "## Feature engineering"
   ]
  },
  {
   "cell_type": "code",
   "execution_count": null,
   "metadata": {},
   "outputs": [],
   "source": [
    "# 펀딩시작요일- LabelEncoder으로 숫자 타입으로 변환\n",
    "#from sklearn.preprocessing import LabelEncoder\n",
    "#le= LabelEncoder()\n",
    "#data.펀딩시작요일= le.fit_transform(data.펀딩시작요일)\n",
    "#le.classes_\n",
    "#0:Fri\n",
    "#1:Mon\n",
    "#2:Sat\n",
    "#3:Sun\n",
    "#4:Thu\n",
    "#5:Tue\n",
    "#6:Wed"
   ]
  },
  {
   "cell_type": "code",
   "execution_count": null,
   "metadata": {},
   "outputs": [],
   "source": [
    "# 카테고리- LabelEncoder으로 숫자 타입으로 변환\n",
    "#from sklearn.preprocessing import LabelEncoder\n",
    "#le= LabelEncoder()\n",
    "#data.카테고리= le.fit_transform(data.카테고리)\n",
    "#le.classes_\n",
    "#0:디자인소품\n",
    "#1:반려동물\n",
    "#2:뷰티\n",
    "#3:스포츠·모빌리티\n",
    "#4:여행·레저\n",
    "#5:테크·가전\n",
    "#6:패션·잡화\n",
    "#7:푸드\n",
    "#8:홈리빙"
   ]
  },
  {
   "cell_type": "code",
   "execution_count": null,
   "metadata": {},
   "outputs": [],
   "source": [
    "#데이터타입 카테고리로 바꾸기\n",
    "#categorical_feature_names= ['앵콜펀딩여부','리워드종류수','카테고리','펀딩시작요일']\n",
    "#for var in categorical_feature_names:\n",
    "#    data[var] = data[var].astype(\"category\")"
   ]
  },
  {
   "cell_type": "code",
   "execution_count": 4,
   "metadata": {},
   "outputs": [],
   "source": [
    "# 펀딩시작요일 원핫인코딩\n",
    "# 라벨인코딩후 카테고리타입으로 변환하나 원핫인코딩하나 별반 차이 없어서 원핫인코딩으로감\n",
    "data = pd.concat([data,pd.get_dummies(data['펀딩시작요일'])],axis=1)"
   ]
  },
  {
   "cell_type": "code",
   "execution_count": null,
   "metadata": {
    "scrolled": true
   },
   "outputs": [],
   "source": [
    "plt.scatter(data.과거성공프로젝트수/data.과거프로젝트수, data.달성률)"
   ]
  },
  {
   "cell_type": "code",
   "execution_count": null,
   "metadata": {
    "scrolled": true
   },
   "outputs": [],
   "source": [
    "#data['성공비율'] = data.과거성공프로젝트수/data.과거프로젝트수\n",
    "#data['성공비율']"
   ]
  },
  {
   "cell_type": "code",
   "execution_count": null,
   "metadata": {
    "scrolled": true
   },
   "outputs": [],
   "source": [
    "# 성공비율 잘안나옴 ㅠ\n",
    "# 다른 방법있으면 적용해봐도 될듯\n",
    "#data['과거프로젝트수'] = data.과거프로젝트수 + 1\n",
    "#data = data[(data.과거성공프로젝트수/data.과거프로젝트수)<=1]  \n",
    "\n",
    "#plt.scatter(data.과거성공프로젝트수/data.과거프로젝트수, data.달성률)\n",
    "#data['성공비율'] = data.과거성공프로젝트수/data.과거프로젝트수"
   ]
  },
  {
   "cell_type": "code",
   "execution_count": 5,
   "metadata": {},
   "outputs": [],
   "source": [
    "# 펀딩기간 형성 및 정수로 변환\n",
    "\n",
    "data['펀딩기간'] = (data['펀딩마감날짜'] - data['펀딩시작날짜'])\n",
    "data['펀딩기간'] = data.펀딩기간.dt.days\n",
    "\n",
    "# 사용한 날짜 변수 다시 제거\n",
    "\n",
    "#data = data.drop(columns = ['펀딩시작날짜','펀딩마감날짜'])\n",
    "# 펀딩기간 0인거 제거\n",
    "\n",
    "data = data[data['펀딩기간']!=0]\n",
    "\n",
    "# 일단 하면 성능좋아져서 했음\n"
   ]
  },
  {
   "cell_type": "code",
   "execution_count": 6,
   "metadata": {},
   "outputs": [],
   "source": [
    "# 일펀딩금액과 일글수 파생변수 생성\n",
    "\n",
    "data['일펀딩금액'] = data.목표금액/data.펀딩기간\n",
    "data['일글수'] = data.글업데이트수/data.펀딩기간"
   ]
  },
  {
   "cell_type": "code",
   "execution_count": null,
   "metadata": {},
   "outputs": [],
   "source": [
    "# 일평균 글업데이트수와 중복되는 컬럼이기 때문에 제거 or 지켜보자\n",
    "#['글업데이트수','과거성공프로젝트수','목표금액'])"
   ]
  },
  {
   "cell_type": "code",
   "execution_count": 7,
   "metadata": {},
   "outputs": [],
   "source": [
    "# 파생변수\n",
    "\n",
    "data['문장당강조'] = data.Strong/data.문장수\n",
    "data['문장당밑줄']= data.Under/data.문장수"
   ]
  },
  {
   "cell_type": "code",
   "execution_count": null,
   "metadata": {},
   "outputs": [],
   "source": [
    "# 파생변수\n",
    "#= (data.목표금액/data.리워드종류수)"
   ]
  },
  {
   "cell_type": "code",
   "execution_count": 9,
   "metadata": {},
   "outputs": [
    {
     "data": {
      "text/plain": [
       "<matplotlib.axes._subplots.AxesSubplot at 0x1a1c3f9860>"
      ]
     },
     "execution_count": 9,
     "metadata": {},
     "output_type": "execute_result"
    },
    {
     "data": {
      "image/png": "[encoded data removed]",
      "text/plain": [
       "<Figure size 432x288 with 1 Axes>"
      ]
     },
     "metadata": {
      "needs_background": "light"
     },
     "output_type": "display_data"
    }
   ],
   "source": [
    "rc('font', family='AppleGothic')\n",
    "sns.distplot(data[\"달성률\"])"
   ]
  },
  {
   "cell_type": "code",
   "execution_count": 10,
   "metadata": {},
   "outputs": [
    {
     "name": "stdout",
     "output_type": "stream",
     "text": [
      "(5282, 70)\n"
     ]
    },
    {
     "data": {
      "text/html": [
       "<div>\n",
       "<style scoped>\n",
       "    .dataframe tbody tr th:only-of-type {\n",
       "        vertical-align: middle;\n",
       "    }\n",
       "\n",
       "    .dataframe tbody tr th {\n",
       "        vertical-align: top;\n",
       "    }\n",
       "\n",
       "    .dataframe thead th {\n",
       "        text-align: right;\n",
       "    }\n",
       "</style>\n",
       "<table border=\"1\" class=\"dataframe\">\n",
       "  <thead>\n",
       "    <tr style=\"text-align: right;\">\n",
       "      <th></th>\n",
       "      <th>달성률</th>\n",
       "      <th>log_count</th>\n",
       "    </tr>\n",
       "  </thead>\n",
       "  <tbody>\n",
       "    <tr>\n",
       "      <th>0</th>\n",
       "      <td>2116</td>\n",
       "      <td>7.657755</td>\n",
       "    </tr>\n",
       "    <tr>\n",
       "      <th>1</th>\n",
       "      <td>151</td>\n",
       "      <td>5.023881</td>\n",
       "    </tr>\n",
       "    <tr>\n",
       "      <th>2</th>\n",
       "      <td>2588</td>\n",
       "      <td>7.859027</td>\n",
       "    </tr>\n",
       "    <tr>\n",
       "      <th>3</th>\n",
       "      <td>4565</td>\n",
       "      <td>8.426393</td>\n",
       "    </tr>\n",
       "    <tr>\n",
       "      <th>4</th>\n",
       "      <td>21</td>\n",
       "      <td>3.091042</td>\n",
       "    </tr>\n",
       "  </tbody>\n",
       "</table>\n",
       "</div>"
      ],
      "text/plain": [
       "    달성률  log_count\n",
       "0  2116   7.657755\n",
       "1   151   5.023881\n",
       "2  2588   7.859027\n",
       "3  4565   8.426393\n",
       "4    21   3.091042"
      ]
     },
     "execution_count": 10,
     "metadata": {},
     "output_type": "execute_result"
    }
   ],
   "source": [
    "# log transformation\n",
    "data[\"log_count\"] = np.log(data[\"달성률\"] + 1)\n",
    "\n",
    "print(data.shape)\n",
    "data[[\"달성률\", \"log_count\"]].head()"
   ]
  },
  {
   "cell_type": "code",
   "execution_count": 11,
   "metadata": {},
   "outputs": [
    {
     "data": {
      "text/plain": [
       "<matplotlib.axes._subplots.AxesSubplot at 0x1a1ced8f28>"
      ]
     },
     "execution_count": 11,
     "metadata": {},
     "output_type": "execute_result"
    },
    {
     "data": {
      "image/png": "[encoded data removed]",
      "text/plain": [
       "<Figure size 1296x288 with 2 Axes>"
      ]
     },
     "metadata": {
      "needs_background": "light"
     },
     "output_type": "display_data"
    }
   ],
   "source": [
    "figure, (ax1, ax2) = plt.subplots(nrows=1, ncols=2)\n",
    "figure.set_size_inches(18, 4)\n",
    "\n",
    "sns.distplot(data[\"달성률\"], ax=ax1)\n",
    "\n",
    "sns.distplot(data[\"log_count\"], ax=ax2)"
   ]
  },
  {
   "cell_type": "code",
   "execution_count": 12,
   "metadata": {
    "scrolled": true
   },
   "outputs": [
    {
     "name": "stdout",
     "output_type": "stream",
     "text": [
      "(5282, 71)\n"
     ]
    },
    {
     "data": {
      "text/html": [
       "<div>\n",
       "<style scoped>\n",
       "    .dataframe tbody tr th:only-of-type {\n",
       "        vertical-align: middle;\n",
       "    }\n",
       "\n",
       "    .dataframe tbody tr th {\n",
       "        vertical-align: top;\n",
       "    }\n",
       "\n",
       "    .dataframe thead th {\n",
       "        text-align: right;\n",
       "    }\n",
       "</style>\n",
       "<table border=\"1\" class=\"dataframe\">\n",
       "  <thead>\n",
       "    <tr style=\"text-align: right;\">\n",
       "      <th></th>\n",
       "      <th>달성률</th>\n",
       "      <th>log_count</th>\n",
       "      <th>달성률(recover)</th>\n",
       "    </tr>\n",
       "  </thead>\n",
       "  <tbody>\n",
       "    <tr>\n",
       "      <th>0</th>\n",
       "      <td>2116</td>\n",
       "      <td>7.657755</td>\n",
       "      <td>2116.0</td>\n",
       "    </tr>\n",
       "    <tr>\n",
       "      <th>1</th>\n",
       "      <td>151</td>\n",
       "      <td>5.023881</td>\n",
       "      <td>151.0</td>\n",
       "    </tr>\n",
       "    <tr>\n",
       "      <th>2</th>\n",
       "      <td>2588</td>\n",
       "      <td>7.859027</td>\n",
       "      <td>2588.0</td>\n",
       "    </tr>\n",
       "    <tr>\n",
       "      <th>3</th>\n",
       "      <td>4565</td>\n",
       "      <td>8.426393</td>\n",
       "      <td>4565.0</td>\n",
       "    </tr>\n",
       "    <tr>\n",
       "      <th>4</th>\n",
       "      <td>21</td>\n",
       "      <td>3.091042</td>\n",
       "      <td>21.0</td>\n",
       "    </tr>\n",
       "  </tbody>\n",
       "</table>\n",
       "</div>"
      ],
      "text/plain": [
       "    달성률  log_count  달성률(recover)\n",
       "0  2116   7.657755        2116.0\n",
       "1   151   5.023881         151.0\n",
       "2  2588   7.859027        2588.0\n",
       "3  4565   8.426393        4565.0\n",
       "4    21   3.091042          21.0"
      ]
     },
     "execution_count": 12,
     "metadata": {},
     "output_type": "execute_result"
    }
   ],
   "source": [
    "# log transformation한 달성률 다시 exp로 원상복귀 하기위한 참고\n",
    "data[\"달성률(recover)\"] = np.exp(data[\"log_count\"]) - 1\n",
    "\n",
    "print(data.shape)\n",
    "\n",
    "data[[\"달성률\", \"log_count\", \"달성률(recover)\"]].head()"
   ]
  },
  {
   "cell_type": "code",
   "execution_count": 13,
   "metadata": {},
   "outputs": [
    {
     "data": {
      "text/plain": [
       "<matplotlib.axes._subplots.AxesSubplot at 0x1a1cafc780>"
      ]
     },
     "execution_count": 13,
     "metadata": {},
     "output_type": "execute_result"
    },
    {
     "data": {
      "image/png": "[encoded data removed]",
      "text/plain": [
       "<Figure size 1296x288 with 3 Axes>"
      ]
     },
     "metadata": {
      "needs_background": "light"
     },
     "output_type": "display_data"
    }
   ],
   "source": [
    "figure, (ax1, ax2, ax3) = plt.subplots(nrows=1, ncols=3)\n",
    "\n",
    "figure.set_size_inches(18, 4)\n",
    "sns.distplot(data[\"달성률\"], ax=ax1)\n",
    "\n",
    "sns.distplot(data[\"log_count\"], ax=ax2)\n",
    "\n",
    "sns.distplot(data[\"달성률(recover)\"], ax=ax3)"
   ]
  },
  {
   "cell_type": "code",
   "execution_count": 14,
   "metadata": {
    "scrolled": false
   },
   "outputs": [
    {
     "data": {
      "text/plain": [
       "Index(['Unnamed: 0', 'url', '메이커', '펀딩시작날짜', '펀딩마감날짜', '펀딩시작요일', '목표금액',\n",
       "       '서포터수', '좋아요수', '글업데이트수', '댓글수', '리워드종류수', '이미지수', '비디오수', '배송시작날짜',\n",
       "       '마감배송차이', '인스타존재여부', '인스타팔로워수', '와디즈팔로워수', '과거프로젝트수', '과거성공프로젝트수',\n",
       "       '앵콜펀딩여부', '음절수', '단어수', '문장수', 'Strong', 'Under', '가독성', '가독성2',\n",
       "       '제목단어수', '펀딩성공여부', '달성률', '펀딩시작월', '소비자물가', '근원물가', '생활물가', '실질GDP성장률',\n",
       "       '제목', '달성액', '요약글', '카테고리', '디자인소품', '반려동물', '뷰티', '스포츠·모빌리티', '여행·레저',\n",
       "       '테크·가전', '패션·잡화', '푸드', '홈리빙', '분기', '와디즈기사개수', '크라우드펀딩기사개수', 'PER',\n",
       "       'PBR', 'ROE', 'EBIT', 'Fri', 'Mon', 'Sat', 'Sun', 'Thu', 'Tue', 'Wed',\n",
       "       '펀딩기간', '일펀딩금액', '일글수', '문장당강조', '문장당밑줄', 'log_count', '달성률(recover)'],\n",
       "      dtype='object')"
      ]
     },
     "execution_count": 14,
     "metadata": {},
     "output_type": "execute_result"
    }
   ],
   "source": [
    "data.columns"
   ]
  },
  {
   "cell_type": "code",
   "execution_count": 15,
   "metadata": {
    "scrolled": true
   },
   "outputs": [
    {
     "data": {
      "text/html": [
       "<div>\n",
       "<style scoped>\n",
       "    .dataframe tbody tr th:only-of-type {\n",
       "        vertical-align: middle;\n",
       "    }\n",
       "\n",
       "    .dataframe tbody tr th {\n",
       "        vertical-align: top;\n",
       "    }\n",
       "\n",
       "    .dataframe thead th {\n",
       "        text-align: right;\n",
       "    }\n",
       "</style>\n",
       "<table border=\"1\" class=\"dataframe\">\n",
       "  <thead>\n",
       "    <tr style=\"text-align: right;\">\n",
       "      <th></th>\n",
       "      <th>Unnamed: 0</th>\n",
       "      <th>url</th>\n",
       "      <th>메이커</th>\n",
       "      <th>펀딩시작날짜</th>\n",
       "      <th>펀딩마감날짜</th>\n",
       "      <th>펀딩시작요일</th>\n",
       "      <th>목표금액</th>\n",
       "      <th>서포터수</th>\n",
       "      <th>좋아요수</th>\n",
       "      <th>글업데이트수</th>\n",
       "      <th>댓글수</th>\n",
       "      <th>리워드종류수</th>\n",
       "      <th>이미지수</th>\n",
       "      <th>비디오수</th>\n",
       "      <th>배송시작날짜</th>\n",
       "      <th>마감배송차이</th>\n",
       "      <th>인스타존재여부</th>\n",
       "      <th>인스타팔로워수</th>\n",
       "      <th>와디즈팔로워수</th>\n",
       "      <th>과거프로젝트수</th>\n",
       "      <th>과거성공프로젝트수</th>\n",
       "      <th>앵콜펀딩여부</th>\n",
       "      <th>음절수</th>\n",
       "      <th>단어수</th>\n",
       "      <th>문장수</th>\n",
       "      <th>Strong</th>\n",
       "      <th>Under</th>\n",
       "      <th>가독성</th>\n",
       "      <th>가독성2</th>\n",
       "      <th>제목단어수</th>\n",
       "      <th>펀딩성공여부</th>\n",
       "      <th>달성률</th>\n",
       "      <th>펀딩시작월</th>\n",
       "      <th>소비자물가</th>\n",
       "      <th>근원물가</th>\n",
       "      <th>생활물가</th>\n",
       "      <th>실질GDP성장률</th>\n",
       "      <th>제목</th>\n",
       "      <th>달성액</th>\n",
       "      <th>요약글</th>\n",
       "      <th>카테고리</th>\n",
       "      <th>디자인소품</th>\n",
       "      <th>반려동물</th>\n",
       "      <th>뷰티</th>\n",
       "      <th>스포츠·모빌리티</th>\n",
       "      <th>여행·레저</th>\n",
       "      <th>테크·가전</th>\n",
       "      <th>패션·잡화</th>\n",
       "      <th>푸드</th>\n",
       "      <th>홈리빙</th>\n",
       "      <th>분기</th>\n",
       "      <th>와디즈기사개수</th>\n",
       "      <th>크라우드펀딩기사개수</th>\n",
       "      <th>PER</th>\n",
       "      <th>PBR</th>\n",
       "      <th>ROE</th>\n",
       "      <th>EBIT</th>\n",
       "      <th>Fri</th>\n",
       "      <th>Mon</th>\n",
       "      <th>Sat</th>\n",
       "      <th>Sun</th>\n",
       "      <th>Thu</th>\n",
       "      <th>Tue</th>\n",
       "      <th>Wed</th>\n",
       "      <th>펀딩기간</th>\n",
       "      <th>일펀딩금액</th>\n",
       "      <th>일글수</th>\n",
       "      <th>문장당강조</th>\n",
       "      <th>문장당밑줄</th>\n",
       "      <th>log_count</th>\n",
       "      <th>달성률(recover)</th>\n",
       "    </tr>\n",
       "  </thead>\n",
       "  <tbody>\n",
       "    <tr>\n",
       "      <th>0</th>\n",
       "      <td>0</td>\n",
       "      <td>https://www.wadiz.kr/web/campaign/detail/17233</td>\n",
       "      <td>건강한연구소</td>\n",
       "      <td>2018-06-27</td>\n",
       "      <td>2018-08-01</td>\n",
       "      <td>Wed</td>\n",
       "      <td>1000000</td>\n",
       "      <td>318</td>\n",
       "      <td>193</td>\n",
       "      <td>6</td>\n",
       "      <td>73</td>\n",
       "      <td>6</td>\n",
       "      <td>16</td>\n",
       "      <td>0</td>\n",
       "      <td>2018-09-03</td>\n",
       "      <td>33</td>\n",
       "      <td>1</td>\n",
       "      <td>1826</td>\n",
       "      <td>5</td>\n",
       "      <td>5</td>\n",
       "      <td>5</td>\n",
       "      <td>0</td>\n",
       "      <td>2557</td>\n",
       "      <td>1430</td>\n",
       "      <td>88</td>\n",
       "      <td>26</td>\n",
       "      <td>30</td>\n",
       "      <td>39.066984</td>\n",
       "      <td>11.84722</td>\n",
       "      <td>9</td>\n",
       "      <td>1</td>\n",
       "      <td>2116</td>\n",
       "      <td>2018-06</td>\n",
       "      <td>1.5</td>\n",
       "      <td>1.2</td>\n",
       "      <td>1.5</td>\n",
       "      <td>2.9</td>\n",
       "      <td>[3+1추가할인] 하루에 양배추 한 통씩 먹자!! 국내 최대 함량 : )</td>\n",
       "      <td>21164500</td>\n",
       "      <td>'어떻게하면 양배추를 최대한 많이,쉽게 섭취할 수 있을까??' 라는 생각에서 출발!...</td>\n",
       "      <td>푸드</td>\n",
       "      <td>0</td>\n",
       "      <td>0</td>\n",
       "      <td>0</td>\n",
       "      <td>0</td>\n",
       "      <td>0</td>\n",
       "      <td>0</td>\n",
       "      <td>0</td>\n",
       "      <td>1</td>\n",
       "      <td>0</td>\n",
       "      <td>18Q1적용</td>\n",
       "      <td>30</td>\n",
       "      <td>269</td>\n",
       "      <td>23.014</td>\n",
       "      <td>1.318333</td>\n",
       "      <td>9.276333</td>\n",
       "      <td>116.833333</td>\n",
       "      <td>0</td>\n",
       "      <td>0</td>\n",
       "      <td>0</td>\n",
       "      <td>0</td>\n",
       "      <td>0</td>\n",
       "      <td>0</td>\n",
       "      <td>1</td>\n",
       "      <td>35</td>\n",
       "      <td>28571.428571</td>\n",
       "      <td>0.171429</td>\n",
       "      <td>0.295455</td>\n",
       "      <td>0.340909</td>\n",
       "      <td>7.657755</td>\n",
       "      <td>2116.0</td>\n",
       "    </tr>\n",
       "  </tbody>\n",
       "</table>\n",
       "</div>"
      ],
      "text/plain": [
       "   Unnamed: 0                                             url     메이커  \\\n",
       "0           0  https://www.wadiz.kr/web/campaign/detail/17233  건강한연구소   \n",
       "\n",
       "      펀딩시작날짜     펀딩마감날짜 펀딩시작요일     목표금액  서포터수  좋아요수  글업데이트수  댓글수  리워드종류수  \\\n",
       "0 2018-06-27 2018-08-01    Wed  1000000   318   193       6   73       6   \n",
       "\n",
       "   이미지수  비디오수     배송시작날짜  마감배송차이  인스타존재여부  인스타팔로워수  와디즈팔로워수  과거프로젝트수  \\\n",
       "0    16     0 2018-09-03      33        1     1826        5        5   \n",
       "\n",
       "   과거성공프로젝트수  앵콜펀딩여부   음절수   단어수  문장수  Strong  Under        가독성      가독성2  \\\n",
       "0          5       0  2557  1430   88      26     30  39.066984  11.84722   \n",
       "\n",
       "   제목단어수  펀딩성공여부   달성률    펀딩시작월  소비자물가  근원물가  생활물가  실질GDP성장률  \\\n",
       "0      9       1  2116  2018-06    1.5   1.2   1.5       2.9   \n",
       "\n",
       "                                         제목       달성액  \\\n",
       "0  [3+1추가할인] 하루에 양배추 한 통씩 먹자!! 국내 최대 함량 : )  21164500   \n",
       "\n",
       "                                                 요약글 카테고리  디자인소품  반려동물  뷰티  \\\n",
       "0  '어떻게하면 양배추를 최대한 많이,쉽게 섭취할 수 있을까??' 라는 생각에서 출발!...   푸드      0     0   0   \n",
       "\n",
       "   스포츠·모빌리티  여행·레저  테크·가전  패션·잡화  푸드  홈리빙      분기  와디즈기사개수  크라우드펀딩기사개수  \\\n",
       "0         0      0      0      0   1    0  18Q1적용       30         269   \n",
       "\n",
       "      PER       PBR       ROE        EBIT  Fri  Mon  Sat  Sun  Thu  Tue  Wed  \\\n",
       "0  23.014  1.318333  9.276333  116.833333    0    0    0    0    0    0    1   \n",
       "\n",
       "   펀딩기간         일펀딩금액       일글수     문장당강조     문장당밑줄  log_count  달성률(recover)  \n",
       "0    35  28571.428571  0.171429  0.295455  0.340909   7.657755        2116.0  "
      ]
     },
     "execution_count": 15,
     "metadata": {},
     "output_type": "execute_result"
    }
   ],
   "source": [
    "data.head(1)"
   ]
  },
  {
   "cell_type": "markdown",
   "metadata": {},
   "source": [
    "## Feature Selection"
   ]
  },
  {
   "cell_type": "code",
   "execution_count": 16,
   "metadata": {},
   "outputs": [],
   "source": [
    "# 필요한 컬럼만 추출\n",
    "#좋아요/서포터/글업데이트/댓글수x\n",
    "#와디즈,크라우드펀딩기사개수/경제지표x\n",
    "#인스타존재여부/인스타팔로워수x\n",
    "feature_names=['log_count', #정답값\n",
    "               '좋아요수',\n",
    "               '목표금액', \n",
    "               '리워드종류수',\n",
    "               '이미지수',\n",
    "               '비디오수',\n",
    "               '마감배송차이',\n",
    "               '와디즈팔로워수',\n",
    "               '과거프로젝트수',\n",
    "               '과거성공프로젝트수',\n",
    "               '앵콜펀딩여부',\n",
    "               '음절수',\n",
    "               '단어수',\n",
    "               '문장수',\n",
    "               'Strong',\n",
    "               'Under',\n",
    "               '가독성',\n",
    "               '가독성2', \n",
    "               '제목단어수', \n",
    "               '펀딩성공여부',\n",
    "               #'카테고리',\n",
    "               '디자인소품',\n",
    "               '반려동물',\n",
    "               '뷰티',\n",
    "               '스포츠·모빌리티',\n",
    "              '여행·레저',\n",
    "               '테크·가전',\n",
    "               '패션·잡화',\n",
    "               '푸드', \n",
    "               '홈리빙',\n",
    "               'Fri',\n",
    "               'Mon',\n",
    "               'Sat',\n",
    "               'Sun',\n",
    "               'Thu',\n",
    "               'Tue',\n",
    "               'Wed',\n",
    "               #'성공비율',\n",
    "               '펀딩기간',\n",
    "               '일펀딩금액',\n",
    "               '일글수',\n",
    "              '문장당강조',\n",
    "               '문장당밑줄']\n",
    "total = data[feature_names]"
   ]
  },
  {
   "cell_type": "markdown",
   "metadata": {},
   "source": [
    "학습용 데이터 준비"
   ]
  },
  {
   "cell_type": "code",
   "execution_count": 19,
   "metadata": {},
   "outputs": [],
   "source": [
    "X = total.drop(columns=['log_count'])\n",
    "y = total.log_count\n",
    "\n",
    "# 학습용/테스트용 데이터 분리\n",
    "\n",
    "from sklearn.model_selection import train_test_split\n",
    "\n",
    "X_train, X_test, y_train, y_test = train_test_split(X, y, test_size=0.3, random_state=100)"
   ]
  },
  {
   "cell_type": "markdown",
   "metadata": {},
   "source": [
    "## Model Selection and evaluation"
   ]
  },
  {
   "cell_type": "code",
   "execution_count": 20,
   "metadata": {
    "scrolled": true
   },
   "outputs": [
    {
     "name": "stdout",
     "output_type": "stream",
     "text": [
      "0.9803398092897182\n",
      "0.8602245003879445\n",
      "MSE:0.448\n",
      "RMSE: 0.669\n",
      "R2: 0.860\n"
     ]
    },
    {
     "data": {
      "text/html": [
       "<div>\n",
       "<style scoped>\n",
       "    .dataframe tbody tr th:only-of-type {\n",
       "        vertical-align: middle;\n",
       "    }\n",
       "\n",
       "    .dataframe tbody tr th {\n",
       "        vertical-align: top;\n",
       "    }\n",
       "\n",
       "    .dataframe thead th {\n",
       "        text-align: right;\n",
       "    }\n",
       "</style>\n",
       "<table border=\"1\" class=\"dataframe\">\n",
       "  <thead>\n",
       "    <tr style=\"text-align: right;\">\n",
       "      <th></th>\n",
       "      <th>속성명</th>\n",
       "      <th>중요도</th>\n",
       "    </tr>\n",
       "  </thead>\n",
       "  <tbody>\n",
       "    <tr>\n",
       "      <th>18</th>\n",
       "      <td>펀딩성공여부</td>\n",
       "      <td>0.558997</td>\n",
       "    </tr>\n",
       "    <tr>\n",
       "      <th>0</th>\n",
       "      <td>좋아요수</td>\n",
       "      <td>0.245778</td>\n",
       "    </tr>\n",
       "    <tr>\n",
       "      <th>1</th>\n",
       "      <td>목표금액</td>\n",
       "      <td>0.054271</td>\n",
       "    </tr>\n",
       "    <tr>\n",
       "      <th>37</th>\n",
       "      <td>일글수</td>\n",
       "      <td>0.013390</td>\n",
       "    </tr>\n",
       "    <tr>\n",
       "      <th>36</th>\n",
       "      <td>일펀딩금액</td>\n",
       "      <td>0.010034</td>\n",
       "    </tr>\n",
       "    <tr>\n",
       "      <th>3</th>\n",
       "      <td>이미지수</td>\n",
       "      <td>0.009312</td>\n",
       "    </tr>\n",
       "    <tr>\n",
       "      <th>35</th>\n",
       "      <td>펀딩기간</td>\n",
       "      <td>0.008492</td>\n",
       "    </tr>\n",
       "    <tr>\n",
       "      <th>16</th>\n",
       "      <td>가독성2</td>\n",
       "      <td>0.007896</td>\n",
       "    </tr>\n",
       "    <tr>\n",
       "      <th>5</th>\n",
       "      <td>마감배송차이</td>\n",
       "      <td>0.007047</td>\n",
       "    </tr>\n",
       "    <tr>\n",
       "      <th>38</th>\n",
       "      <td>문장당강조</td>\n",
       "      <td>0.006884</td>\n",
       "    </tr>\n",
       "    <tr>\n",
       "      <th>12</th>\n",
       "      <td>문장수</td>\n",
       "      <td>0.006804</td>\n",
       "    </tr>\n",
       "    <tr>\n",
       "      <th>15</th>\n",
       "      <td>가독성</td>\n",
       "      <td>0.006798</td>\n",
       "    </tr>\n",
       "    <tr>\n",
       "      <th>2</th>\n",
       "      <td>리워드종류수</td>\n",
       "      <td>0.006712</td>\n",
       "    </tr>\n",
       "    <tr>\n",
       "      <th>6</th>\n",
       "      <td>와디즈팔로워수</td>\n",
       "      <td>0.005772</td>\n",
       "    </tr>\n",
       "    <tr>\n",
       "      <th>10</th>\n",
       "      <td>음절수</td>\n",
       "      <td>0.005675</td>\n",
       "    </tr>\n",
       "    <tr>\n",
       "      <th>39</th>\n",
       "      <td>문장당밑줄</td>\n",
       "      <td>0.005672</td>\n",
       "    </tr>\n",
       "    <tr>\n",
       "      <th>13</th>\n",
       "      <td>Strong</td>\n",
       "      <td>0.005629</td>\n",
       "    </tr>\n",
       "    <tr>\n",
       "      <th>11</th>\n",
       "      <td>단어수</td>\n",
       "      <td>0.005573</td>\n",
       "    </tr>\n",
       "    <tr>\n",
       "      <th>14</th>\n",
       "      <td>Under</td>\n",
       "      <td>0.004698</td>\n",
       "    </tr>\n",
       "    <tr>\n",
       "      <th>17</th>\n",
       "      <td>제목단어수</td>\n",
       "      <td>0.003958</td>\n",
       "    </tr>\n",
       "    <tr>\n",
       "      <th>7</th>\n",
       "      <td>과거프로젝트수</td>\n",
       "      <td>0.002840</td>\n",
       "    </tr>\n",
       "    <tr>\n",
       "      <th>8</th>\n",
       "      <td>과거성공프로젝트수</td>\n",
       "      <td>0.002485</td>\n",
       "    </tr>\n",
       "    <tr>\n",
       "      <th>26</th>\n",
       "      <td>푸드</td>\n",
       "      <td>0.002288</td>\n",
       "    </tr>\n",
       "    <tr>\n",
       "      <th>4</th>\n",
       "      <td>비디오수</td>\n",
       "      <td>0.002224</td>\n",
       "    </tr>\n",
       "    <tr>\n",
       "      <th>24</th>\n",
       "      <td>테크·가전</td>\n",
       "      <td>0.001346</td>\n",
       "    </tr>\n",
       "    <tr>\n",
       "      <th>19</th>\n",
       "      <td>디자인소품</td>\n",
       "      <td>0.001240</td>\n",
       "    </tr>\n",
       "    <tr>\n",
       "      <th>28</th>\n",
       "      <td>Fri</td>\n",
       "      <td>0.000919</td>\n",
       "    </tr>\n",
       "    <tr>\n",
       "      <th>29</th>\n",
       "      <td>Mon</td>\n",
       "      <td>0.000882</td>\n",
       "    </tr>\n",
       "    <tr>\n",
       "      <th>32</th>\n",
       "      <td>Thu</td>\n",
       "      <td>0.000853</td>\n",
       "    </tr>\n",
       "    <tr>\n",
       "      <th>25</th>\n",
       "      <td>패션·잡화</td>\n",
       "      <td>0.000836</td>\n",
       "    </tr>\n",
       "    <tr>\n",
       "      <th>21</th>\n",
       "      <td>뷰티</td>\n",
       "      <td>0.000775</td>\n",
       "    </tr>\n",
       "    <tr>\n",
       "      <th>34</th>\n",
       "      <td>Wed</td>\n",
       "      <td>0.000764</td>\n",
       "    </tr>\n",
       "    <tr>\n",
       "      <th>9</th>\n",
       "      <td>앵콜펀딩여부</td>\n",
       "      <td>0.000759</td>\n",
       "    </tr>\n",
       "    <tr>\n",
       "      <th>33</th>\n",
       "      <td>Tue</td>\n",
       "      <td>0.000616</td>\n",
       "    </tr>\n",
       "    <tr>\n",
       "      <th>27</th>\n",
       "      <td>홈리빙</td>\n",
       "      <td>0.000615</td>\n",
       "    </tr>\n",
       "    <tr>\n",
       "      <th>20</th>\n",
       "      <td>반려동물</td>\n",
       "      <td>0.000585</td>\n",
       "    </tr>\n",
       "    <tr>\n",
       "      <th>23</th>\n",
       "      <td>여행·레저</td>\n",
       "      <td>0.000316</td>\n",
       "    </tr>\n",
       "    <tr>\n",
       "      <th>22</th>\n",
       "      <td>스포츠·모빌리티</td>\n",
       "      <td>0.000172</td>\n",
       "    </tr>\n",
       "    <tr>\n",
       "      <th>30</th>\n",
       "      <td>Sat</td>\n",
       "      <td>0.000089</td>\n",
       "    </tr>\n",
       "    <tr>\n",
       "      <th>31</th>\n",
       "      <td>Sun</td>\n",
       "      <td>0.000004</td>\n",
       "    </tr>\n",
       "  </tbody>\n",
       "</table>\n",
       "</div>"
      ],
      "text/plain": [
       "          속성명       중요도\n",
       "18     펀딩성공여부  0.558997\n",
       "0        좋아요수  0.245778\n",
       "1        목표금액  0.054271\n",
       "37        일글수  0.013390\n",
       "36      일펀딩금액  0.010034\n",
       "3        이미지수  0.009312\n",
       "35       펀딩기간  0.008492\n",
       "16       가독성2  0.007896\n",
       "5      마감배송차이  0.007047\n",
       "38      문장당강조  0.006884\n",
       "12        문장수  0.006804\n",
       "15        가독성  0.006798\n",
       "2      리워드종류수  0.006712\n",
       "6     와디즈팔로워수  0.005772\n",
       "10        음절수  0.005675\n",
       "39      문장당밑줄  0.005672\n",
       "13     Strong  0.005629\n",
       "11        단어수  0.005573\n",
       "14      Under  0.004698\n",
       "17      제목단어수  0.003958\n",
       "7     과거프로젝트수  0.002840\n",
       "8   과거성공프로젝트수  0.002485\n",
       "26         푸드  0.002288\n",
       "4        비디오수  0.002224\n",
       "24      테크·가전  0.001346\n",
       "19      디자인소품  0.001240\n",
       "28        Fri  0.000919\n",
       "29        Mon  0.000882\n",
       "32        Thu  0.000853\n",
       "25      패션·잡화  0.000836\n",
       "21         뷰티  0.000775\n",
       "34        Wed  0.000764\n",
       "9      앵콜펀딩여부  0.000759\n",
       "33        Tue  0.000616\n",
       "27        홈리빙  0.000615\n",
       "20       반려동물  0.000585\n",
       "23      여행·레저  0.000316\n",
       "22   스포츠·모빌리티  0.000172\n",
       "30        Sat  0.000089\n",
       "31        Sun  0.000004"
      ]
     },
     "execution_count": 20,
     "metadata": {},
     "output_type": "execute_result"
    }
   ],
   "source": [
    "from sklearn.ensemble import RandomForestRegressor\n",
    "\n",
    "rf = RandomForestRegressor(n_estimators = 1000)\n",
    "\n",
    "rf.fit(X_train, y_train)\n",
    "\n",
    "print(rf.score(X_train, y_train))\n",
    "print(rf.score(X_test, y_test))\n",
    "\n",
    "y_pred = rf.predict(X_test)\n",
    "\n",
    "import sklearn.metrics as mt\n",
    "\n",
    "#평가 지표 값들을 계산한다.\n",
    "mse = mt.mean_squared_error(y_test, y_pred)\n",
    "rmse = np.sqrt(mse)\n",
    "r2 = mt.r2_score(y_test, y_pred)\n",
    "\n",
    "print(\"MSE:{:.3f}\\nRMSE: {:.3f}\\nR2: {:.3f}\".format(mse,rmse,r2))\n",
    "#print(mt.accuracy_score( y_pred, y_test))\n",
    "#print(mt.confusion_matrix(y_pred, y_test))\n",
    "\n",
    "pd.DataFrame({'속성명':X.columns, '중요도':rf.feature_importances_}).sort_values('중요도',ascending=False)"
   ]
  },
  {
   "cell_type": "code",
   "execution_count": null,
   "metadata": {},
   "outputs": [],
   "source": [
    "# 로그로 학습한 값을 다시 exp로 원상복귀한뒤 성능 측정을 하면 설명력이 떨어질까?\n",
    "\n",
    "# log transformation한 달성률(log_count)을 예측\n",
    "y_pred = rf.predict(X_test)\n",
    "# log transformation한 달성률(log_count)을 다시 exp로 원상복귀\n",
    "predictions = np.exp(y_pred) - 1"
   ]
  }
 ],
 "metadata": {
  "kernelspec": {
   "display_name": "Python 3",
   "language": "python",
   "name": "python3"
  },
  "language_info": {
   "codemirror_mode": {
    "name": "ipython",
    "version": 3
   },
   "file_extension": ".py",
   "mimetype": "text/x-python",
   "name": "python",
   "nbconvert_exporter": "python",
   "pygments_lexer": "ipython3",
   "version": "3.7.3"
  }
 },
 "nbformat": 4,
 "nbformat_minor": 2
}
