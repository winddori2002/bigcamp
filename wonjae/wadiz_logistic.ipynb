{
 "cells": [
  {
   "cell_type": "code",
   "execution_count": 36,
   "metadata": {},
   "outputs": [],
   "source": [
    "#필요한 라이브러리 호출\n",
    "import numpy as np\n",
    "import pandas as pd\n",
    "import datetime as dt\n",
    "import matplotlib.pyplot as plt\n",
    "from matplotlib import rc\n",
    "rc('font', family='AppleGothic')\n",
    "%matplotlib inline\n",
    "import seaborn as sns\n",
    "import pandas_profiling as pp"
   ]
  },
  {
   "cell_type": "code",
   "execution_count": 37,
   "metadata": {},
   "outputs": [],
   "source": [
    "data = pd.read_excel('마스터.xlsx')\n",
    "\n",
    "# data['시각화지수'] =  data.좋아요수 +(data.이미지수*10) + (100 - data.비디오수*10)"
   ]
  },
  {
   "cell_type": "code",
   "execution_count": 38,
   "metadata": {},
   "outputs": [],
   "source": [
    "# data = data[data['달성률']<15000]\n",
    "data = data[data['이미지수']<80]"
   ]
  },
  {
   "cell_type": "code",
   "execution_count": null,
   "metadata": {},
   "outputs": [],
   "source": []
  },
  {
   "cell_type": "code",
   "execution_count": 39,
   "metadata": {},
   "outputs": [],
   "source": [
    "data.index = list(range(len(data)))\n",
    "\n",
    "label = [0,1,2,3,4,]\n",
    "bins = [0, 15000, 65000, 100000, 500000, 1000000000]\n",
    "cats = pd.cut(data.일펀딩금액, bins, labels = label)\n",
    "\n",
    "data['일펀딩_분류'] = cats"
   ]
  },
  {
   "cell_type": "code",
   "execution_count": 40,
   "metadata": {},
   "outputs": [],
   "source": [
    "# 아래의 데이터들은 하나의 값으로 크게 만든 데이터들이 있음\n",
    "\n",
    "data = data[(data.리워드종류수!=30) & (data.리워드종류수 !=26) & (data.리워드종류수 !=35) & (data.리워드종류수 !=32) & (data.리워드종류수 !=39) &\n",
    "            (data.리워드종류수 !=19) & (data.리워드종류수 !=35) & (data.리워드종류수 !=36) & (data.리워드종류수 !=24)]"
   ]
  },
  {
   "cell_type": "code",
   "execution_count": 41,
   "metadata": {},
   "outputs": [],
   "source": [
    "data.index = list(range(len(data)))\n",
    "\n",
    "label = [0,1,2,3,4]\n",
    "bins = [-1, 1, 4, 16,22,10000]\n",
    "cats = pd.cut(data.리워드종류수, bins, labels = label)\n",
    "\n",
    "data['리워드종류수_분류'] = cats"
   ]
  },
  {
   "cell_type": "code",
   "execution_count": 42,
   "metadata": {},
   "outputs": [
    {
     "data": {
      "text/plain": [
       "Index(['Unnamed: 0', 'Unnamed: 0.1', 'url', '메이커', '펀딩시작날짜', '펀딩마감날짜',\n",
       "       '펀딩시작요일', '목표금액', '서포터수', '좋아요수', '글업데이트수', '댓글수', '리워드종류수', '이미지수',\n",
       "       '비디오수', '배송시작날짜', '마감배송차이', '인스타존재여부', '인스타팔로워수', '와디즈팔로워수', '과거프로젝트수',\n",
       "       '과거성공프로젝트수', '앵콜펀딩여부', '음절수', '단어수', '문장수', 'Strong', 'Under', '가독성',\n",
       "       '가독성2', '제목단어수', '펀딩성공여부', '달성률', '펀딩시작월', '소비자물가', '근원물가', '생활물가',\n",
       "       '실질GDP성장률', '제목', '달성액', '요약글', '카테고리', '디자인소품', '반려동물', '뷰티',\n",
       "       '스포츠·모빌리티', '여행·레저', '테크·가전', '패션·잡화', '푸드', '홈리빙', '분기', '와디즈기사개수',\n",
       "       '크라우드펀딩기사개수', 'PER', 'PBR', 'ROE', 'EBIT', '페이스북팔로워수', 'sns팔로워수', 'Fri',\n",
       "       'Mon', 'Sat', 'Sun', 'Thu', 'Tue', 'Wed', '음절수_제목', '단어수_제목', '문장수_제목',\n",
       "       '가독성_제목', '가독성_제목.1', '펀딩기간', '일펀딩금액', '일글수', '문장당강조', '문장당밑줄', '문장지수',\n",
       "       '성공비율', '일펀딩_분류', '리워드종류수_분류'],\n",
       "      dtype='object')"
      ]
     },
     "execution_count": 42,
     "metadata": {},
     "output_type": "execute_result"
    }
   ],
   "source": [
    "data.columns"
   ]
  },
  {
   "cell_type": "code",
   "execution_count": 43,
   "metadata": {},
   "outputs": [],
   "source": [
    "# 필요한 컬럼만 추출\n",
    "\n",
    "total = data[['목표금액', '리워드종류수', '이미지수', '비디오수', '일펀딩_분류','가독성_제목','가독성_제목.1',\n",
    "       '마감배송차이', '인스타존재여부', '인스타팔로워수', '와디즈팔로워수', '과거프로젝트수','과거성공프로젝트수','리워드종류수_분류',\n",
    "       '앵콜펀딩여부', '음절수', '단어수', '문장수', 'Strong', 'Under', '가독성', '가독성2', 'sns팔로워수','페이스북팔로워수',\n",
    "       '제목단어수', '달성률', '디자인소품', '반려동물', '뷰티', '스포츠·모빌리티', '여행·레저','글업데이트수',\n",
    "       '테크·가전', '패션·잡화', '푸드', '홈리빙', 'Fri', 'Mon', 'Sat', 'Sun', 'Thu', 'Tue', 'Wed',\n",
    "       '음절수_제목', '단어수_제목', '문장수_제목',  '펀딩기간', '일펀딩금액','크라우드펀딩기사개수','소비자물가',\n",
    "       '일글수', '문장당강조', '문장당밑줄', '문장지수', '성공비율']]"
   ]
  },
  {
   "cell_type": "code",
   "execution_count": 44,
   "metadata": {},
   "outputs": [
    {
     "name": "stderr",
     "output_type": "stream",
     "text": [
      "/anaconda3/lib/python3.7/site-packages/pandas/core/generic.py:5096: SettingWithCopyWarning: \n",
      "A value is trying to be set on a copy of a slice from a DataFrame.\n",
      "Try using .loc[row_indexer,col_indexer] = value instead\n",
      "\n",
      "See the caveats in the documentation: http://pandas.pydata.org/pandas-docs/stable/indexing.html#indexing-view-versus-copy\n",
      "  self[name] = value\n"
     ]
    }
   ],
   "source": [
    "from sklearn import preprocessing \n",
    "\n",
    "label_encoder = preprocessing.LabelEncoder()\n",
    "total.리워드종류수_분류 = label_encoder.fit_transform(total.리워드종류수_분류) \n",
    "total.일펀딩_분류 = label_encoder.fit_transform(total.일펀딩_분류) "
   ]
  },
  {
   "cell_type": "code",
   "execution_count": 60,
   "metadata": {},
   "outputs": [
    {
     "name": "stderr",
     "output_type": "stream",
     "text": [
      "/anaconda3/lib/python3.7/site-packages/ipykernel_launcher.py:20: SettingWithCopyWarning: \n",
      "A value is trying to be set on a copy of a slice from a DataFrame.\n",
      "Try using .loc[row_indexer,col_indexer] = value instead\n",
      "\n",
      "See the caveats in the documentation: http://pandas.pydata.org/pandas-docs/stable/indexing.html#indexing-view-versus-copy\n"
     ]
    },
    {
     "data": {
      "text/html": [
       "<div>\n",
       "<style scoped>\n",
       "    .dataframe tbody tr th:only-of-type {\n",
       "        vertical-align: middle;\n",
       "    }\n",
       "\n",
       "    .dataframe tbody tr th {\n",
       "        vertical-align: top;\n",
       "    }\n",
       "\n",
       "    .dataframe thead th {\n",
       "        text-align: right;\n",
       "    }\n",
       "</style>\n",
       "<table border=\"1\" class=\"dataframe\">\n",
       "  <thead>\n",
       "    <tr style=\"text-align: right;\">\n",
       "      <th></th>\n",
       "      <th>달성률</th>\n",
       "    </tr>\n",
       "    <tr>\n",
       "      <th>타겟</th>\n",
       "      <th></th>\n",
       "    </tr>\n",
       "  </thead>\n",
       "  <tbody>\n",
       "    <tr>\n",
       "      <th>0</th>\n",
       "      <td>1098</td>\n",
       "    </tr>\n",
       "    <tr>\n",
       "      <th>1</th>\n",
       "      <td>2726</td>\n",
       "    </tr>\n",
       "    <tr>\n",
       "      <th>2</th>\n",
       "      <td>1244</td>\n",
       "    </tr>\n",
       "  </tbody>\n",
       "</table>\n",
       "</div>"
      ],
      "text/plain": [
       "     달성률\n",
       "타겟      \n",
       "0   1098\n",
       "1   2726\n",
       "2   1244"
      ]
     },
     "execution_count": 60,
     "metadata": {},
     "output_type": "execute_result"
    }
   ],
   "source": [
    "# 달성률 범주생성\n",
    "# 현재 범주는 임의의 범주이며\n",
    "# 여러가지 시도하면서 정확도를 봐야할듯\n",
    "\n",
    "total.index = list(range(len(total)))\n",
    "total_target = total\n",
    "\n",
    "target_list = []\n",
    "\n",
    "for i in range(len(total_target)):\n",
    "    if total_target.달성률[i] < 100:\n",
    "        target_list.append(0)\n",
    "\n",
    "    elif total_target.달성률[i] < 850:\n",
    "        target_list.append(1) \n",
    "    \n",
    "    else:\n",
    "        target_list.append(2)\n",
    "    \n",
    "total_target['타겟'] = target_list\n",
    "total_data = total_target.drop(columns = ['달성률'])\n",
    "total_target.pivot_table(index = '타겟', aggfunc = 'count', values = '달성률')"
   ]
  },
  {
   "cell_type": "code",
   "execution_count": 61,
   "metadata": {},
   "outputs": [],
   "source": [
    "import sklearn.metrics as mt\n",
    "\n",
    "def get_clf_eval(y_test, y_pred):\n",
    "    matrix = mt.confusion_matrix(y_test, y_pred)\n",
    "    accuracy = mt.accuracy_score(y_test, y_pred)\n",
    "    precision = mt.precision_score(y_test, y_pred,average='weighted')\n",
    "    recall = mt.recall_score(y_test, y_pred, average = 'weighted')\n",
    "    f1 = mt.f1_score(y_test,y_pred, average='weighted')\n",
    "\n",
    "    print('오차행렬')\n",
    "    print(matrix)\n",
    "    print('accuracy:',accuracy)\n",
    "    print('precision:',precision)\n",
    "    print('recall:',recall)\n",
    "    print('f1:',f1)   "
   ]
  },
  {
   "cell_type": "code",
   "execution_count": 62,
   "metadata": {},
   "outputs": [],
   "source": [
    "X = total_data.drop(columns=['타겟'])\n",
    "y = total_data.타겟\n",
    "\n",
    "# 학습용/테스트용 데이터 분리\n",
    "\n",
    "from sklearn.model_selection import train_test_split\n",
    "\n",
    "X_train, X_test, y_train, y_test = train_test_split(X, y, test_size=0.3, random_state=33)"
   ]
  },
  {
   "cell_type": "code",
   "execution_count": 64,
   "metadata": {},
   "outputs": [
    {
     "name": "stderr",
     "output_type": "stream",
     "text": [
      "/anaconda3/lib/python3.7/site-packages/sklearn/linear_model/logistic.py:947: ConvergenceWarning: lbfgs failed to converge. Increase the number of iterations.\n",
      "  \"of iterations.\", ConvergenceWarning)\n"
     ]
    }
   ],
   "source": [
    "import sklearn.linear_model as lm\n",
    "\n",
    "logr = lm.LogisticRegression(multi_class=\"multinomial\",solver=\"lbfgs\")\n",
    "\n",
    "reg = logr.fit(X_train, y_train)"
   ]
  },
  {
   "cell_type": "code",
   "execution_count": 65,
   "metadata": {},
   "outputs": [
    {
     "name": "stdout",
     "output_type": "stream",
     "text": [
      "오차행렬\n",
      "[[ 34 273   0]\n",
      " [ 20 815   0]\n",
      " [  2 377   0]]\n",
      "accuracy: 0.5581854043392505\n",
      "precision: 0.42795203250703384\n",
      "recall: 0.5581854043392505\n",
      "f1: 0.42687081619887945\n"
     ]
    },
    {
     "name": "stderr",
     "output_type": "stream",
     "text": [
      "/anaconda3/lib/python3.7/site-packages/sklearn/metrics/classification.py:1437: UndefinedMetricWarning: Precision is ill-defined and being set to 0.0 in labels with no predicted samples.\n",
      "  'precision', 'predicted', average, warn_for)\n",
      "/anaconda3/lib/python3.7/site-packages/sklearn/metrics/classification.py:1437: UndefinedMetricWarning: F-score is ill-defined and being set to 0.0 in labels with no predicted samples.\n",
      "  'precision', 'predicted', average, warn_for)\n"
     ]
    }
   ],
   "source": [
    "train_score = reg.score(X_train, y_train)\n",
    "test_score = reg.score(X_test, y_test)\n",
    "\n",
    "y_pred = reg.predict(X_test)\n",
    "\n",
    "get_clf_eval(y_test, y_pred)"
   ]
  },
  {
   "cell_type": "code",
   "execution_count": null,
   "metadata": {},
   "outputs": [],
   "source": []
  }
 ],
 "metadata": {
  "kernelspec": {
   "display_name": "Python 3",
   "language": "python",
   "name": "python3"
  },
  "language_info": {
   "codemirror_mode": {
    "name": "ipython",
    "version": 3
   },
   "file_extension": ".py",
   "mimetype": "text/x-python",
   "name": "python",
   "nbconvert_exporter": "python",
   "pygments_lexer": "ipython3",
   "version": "3.7.3"
  }
 },
 "nbformat": 4,
 "nbformat_minor": 2
}
