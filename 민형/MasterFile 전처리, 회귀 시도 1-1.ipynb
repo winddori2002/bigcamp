{
 "cells": [
  {
   "cell_type": "code",
   "execution_count": 133,
   "metadata": {},
   "outputs": [],
   "source": [
    "import pandas as pd\n",
    "import pandas_profiling\n",
    "import numpy as np\n",
    "import matplotlib.pyplot as plt\n",
    "\n",
    "master1=pd.read_excel('master_data.xlsx')\n",
    "master=master1\n",
    "#파일에 '펀딩마감날짜' - '펀딩시작날짜'= '펀딩기간(일)' 이라는 컬럼 추가됨."
   ]
  },
  {
   "cell_type": "code",
   "execution_count": 134,
   "metadata": {},
   "outputs": [],
   "source": [
    "#펀딩시작요일 원핫인코딩 필요\n",
    "from sklearn.preprocessing import LabelBinarizer\n",
    "day = pd.get_dummies(master.펀딩시작요일)\n",
    "master=pd.concat([master,day], axis=1)"
   ]
  },
  {
   "cell_type": "code",
   "execution_count": 135,
   "metadata": {
    "scrolled": true
   },
   "outputs": [],
   "source": [
    "# 펀딩시작월 전처리(연도상관없이 월만 인덱싱, 원핫인코딩)\n",
    "month=[]\n",
    "for i in range(len(master.iloc[:,1])):\n",
    "    month.append(master.펀딩시작월[i][-2:])\n"
   ]
  },
  {
   "cell_type": "code",
   "execution_count": 136,
   "metadata": {},
   "outputs": [
    {
     "data": {
      "text/html": [
       "<div>\n",
       "<style scoped>\n",
       "    .dataframe tbody tr th:only-of-type {\n",
       "        vertical-align: middle;\n",
       "    }\n",
       "\n",
       "    .dataframe tbody tr th {\n",
       "        vertical-align: top;\n",
       "    }\n",
       "\n",
       "    .dataframe thead th {\n",
       "        text-align: right;\n",
       "    }\n",
       "</style>\n",
       "<table border=\"1\" class=\"dataframe\">\n",
       "  <thead>\n",
       "    <tr style=\"text-align: right;\">\n",
       "      <th></th>\n",
       "      <th>Unnamed: 0</th>\n",
       "      <th>Unnamed: 0.1</th>\n",
       "      <th>url</th>\n",
       "      <th>메이커</th>\n",
       "      <th>펀딩시작날짜</th>\n",
       "      <th>펀딩마감날짜</th>\n",
       "      <th>펀딩기간(일)</th>\n",
       "      <th>펀딩시작요일</th>\n",
       "      <th>목표금액</th>\n",
       "      <th>서포터수</th>\n",
       "      <th>...</th>\n",
       "      <th>03</th>\n",
       "      <th>04</th>\n",
       "      <th>05</th>\n",
       "      <th>06</th>\n",
       "      <th>07</th>\n",
       "      <th>08</th>\n",
       "      <th>09</th>\n",
       "      <th>10</th>\n",
       "      <th>11</th>\n",
       "      <th>12</th>\n",
       "    </tr>\n",
       "  </thead>\n",
       "  <tbody>\n",
       "    <tr>\n",
       "      <th>0</th>\n",
       "      <td>0</td>\n",
       "      <td>0</td>\n",
       "      <td>https://www.wadiz.kr/web/campaign/detail/38364</td>\n",
       "      <td>해아래천일염(나진솔트)</td>\n",
       "      <td>2019-06-27</td>\n",
       "      <td>2019-07-31</td>\n",
       "      <td>34</td>\n",
       "      <td>Thu</td>\n",
       "      <td>3500000</td>\n",
       "      <td>13</td>\n",
       "      <td>...</td>\n",
       "      <td>0</td>\n",
       "      <td>0</td>\n",
       "      <td>0</td>\n",
       "      <td>1</td>\n",
       "      <td>0</td>\n",
       "      <td>0</td>\n",
       "      <td>0</td>\n",
       "      <td>0</td>\n",
       "      <td>0</td>\n",
       "      <td>0</td>\n",
       "    </tr>\n",
       "    <tr>\n",
       "      <th>1</th>\n",
       "      <td>1</td>\n",
       "      <td>1</td>\n",
       "      <td>https://www.wadiz.kr/web/campaign/detail/35753</td>\n",
       "      <td>케이알엑스 (주)</td>\n",
       "      <td>2019-06-27</td>\n",
       "      <td>2019-07-30</td>\n",
       "      <td>33</td>\n",
       "      <td>Thu</td>\n",
       "      <td>1000000</td>\n",
       "      <td>9</td>\n",
       "      <td>...</td>\n",
       "      <td>0</td>\n",
       "      <td>0</td>\n",
       "      <td>0</td>\n",
       "      <td>1</td>\n",
       "      <td>0</td>\n",
       "      <td>0</td>\n",
       "      <td>0</td>\n",
       "      <td>0</td>\n",
       "      <td>0</td>\n",
       "      <td>0</td>\n",
       "    </tr>\n",
       "    <tr>\n",
       "      <th>2</th>\n",
       "      <td>2</td>\n",
       "      <td>2</td>\n",
       "      <td>https://www.wadiz.kr/web/campaign/detail/38045</td>\n",
       "      <td>인플레오</td>\n",
       "      <td>2019-06-27</td>\n",
       "      <td>2019-07-21</td>\n",
       "      <td>24</td>\n",
       "      <td>Thu</td>\n",
       "      <td>1000000</td>\n",
       "      <td>240</td>\n",
       "      <td>...</td>\n",
       "      <td>0</td>\n",
       "      <td>0</td>\n",
       "      <td>0</td>\n",
       "      <td>1</td>\n",
       "      <td>0</td>\n",
       "      <td>0</td>\n",
       "      <td>0</td>\n",
       "      <td>0</td>\n",
       "      <td>0</td>\n",
       "      <td>0</td>\n",
       "    </tr>\n",
       "    <tr>\n",
       "      <th>3</th>\n",
       "      <td>3</td>\n",
       "      <td>3</td>\n",
       "      <td>https://www.wadiz.kr/web/campaign/detail/37542</td>\n",
       "      <td>생활한방연구소</td>\n",
       "      <td>2019-06-27</td>\n",
       "      <td>2019-07-18</td>\n",
       "      <td>21</td>\n",
       "      <td>Thu</td>\n",
       "      <td>500000</td>\n",
       "      <td>142</td>\n",
       "      <td>...</td>\n",
       "      <td>0</td>\n",
       "      <td>0</td>\n",
       "      <td>0</td>\n",
       "      <td>1</td>\n",
       "      <td>0</td>\n",
       "      <td>0</td>\n",
       "      <td>0</td>\n",
       "      <td>0</td>\n",
       "      <td>0</td>\n",
       "      <td>0</td>\n",
       "    </tr>\n",
       "    <tr>\n",
       "      <th>4</th>\n",
       "      <td>4</td>\n",
       "      <td>4</td>\n",
       "      <td>https://www.wadiz.kr/web/campaign/detail/36971</td>\n",
       "      <td>농업회사법인(주)영덕주조</td>\n",
       "      <td>2019-06-27</td>\n",
       "      <td>2019-07-17</td>\n",
       "      <td>20</td>\n",
       "      <td>Thu</td>\n",
       "      <td>1000000</td>\n",
       "      <td>365</td>\n",
       "      <td>...</td>\n",
       "      <td>0</td>\n",
       "      <td>0</td>\n",
       "      <td>0</td>\n",
       "      <td>1</td>\n",
       "      <td>0</td>\n",
       "      <td>0</td>\n",
       "      <td>0</td>\n",
       "      <td>0</td>\n",
       "      <td>0</td>\n",
       "      <td>0</td>\n",
       "    </tr>\n",
       "  </tbody>\n",
       "</table>\n",
       "<p>5 rows × 78 columns</p>\n",
       "</div>"
      ],
      "text/plain": [
       "   Unnamed: 0  Unnamed: 0.1                                             url  \\\n",
       "0           0             0  https://www.wadiz.kr/web/campaign/detail/38364   \n",
       "1           1             1  https://www.wadiz.kr/web/campaign/detail/35753   \n",
       "2           2             2  https://www.wadiz.kr/web/campaign/detail/38045   \n",
       "3           3             3  https://www.wadiz.kr/web/campaign/detail/37542   \n",
       "4           4             4  https://www.wadiz.kr/web/campaign/detail/36971   \n",
       "\n",
       "             메이커     펀딩시작날짜     펀딩마감날짜  펀딩기간(일) 펀딩시작요일     목표금액  서포터수  ...  \\\n",
       "0   해아래천일염(나진솔트) 2019-06-27 2019-07-31       34    Thu  3500000    13  ...   \n",
       "1      케이알엑스 (주) 2019-06-27 2019-07-30       33    Thu  1000000     9  ...   \n",
       "2           인플레오 2019-06-27 2019-07-21       24    Thu  1000000   240  ...   \n",
       "3        생활한방연구소 2019-06-27 2019-07-18       21    Thu   500000   142  ...   \n",
       "4  농업회사법인(주)영덕주조 2019-06-27 2019-07-17       20    Thu  1000000   365  ...   \n",
       "\n",
       "   03  04  05  06  07  08 09  10  11  12  \n",
       "0   0   0   0   1   0   0  0   0   0   0  \n",
       "1   0   0   0   1   0   0  0   0   0   0  \n",
       "2   0   0   0   1   0   0  0   0   0   0  \n",
       "3   0   0   0   1   0   0  0   0   0   0  \n",
       "4   0   0   0   1   0   0  0   0   0   0  \n",
       "\n",
       "[5 rows x 78 columns]"
      ]
     },
     "execution_count": 136,
     "metadata": {},
     "output_type": "execute_result"
    }
   ],
   "source": [
    "months = pd.get_dummies(pd.Series(month))\n",
    "master=pd.concat([master,months], axis=1)\n",
    "master.head()"
   ]
  },
  {
   "cell_type": "code",
   "execution_count": 137,
   "metadata": {},
   "outputs": [
    {
     "data": {
      "text/plain": [
       "Index(['Unnamed: 0', 'Unnamed: 0.1', 'url', '메이커', '펀딩시작날짜', '펀딩마감날짜',\n",
       "       '펀딩기간(일)', '펀딩시작요일', '목표금액', '서포터수', '좋아요수', '글업데이트수', '댓글수', '리워드종류수',\n",
       "       '이미지수', '비디오수', '배송시작날짜', '마감배송차이', '인스타존재여부', '인스타팔로워수', '와디즈팔로워수',\n",
       "       '과거프로젝트수', '과거성공프로젝트수', '앵콜펀딩여부', '음절수', '단어수', '문장수', 'Strong',\n",
       "       'Under', '가독성', '가독성2', '제목단어수', '펀딩성공여부', '달성률', '펀딩시작월', '소비자물가',\n",
       "       '근원물가', '생활물가', '실질GDP성장률', '제목', '달성액', '요약글', '카테고리', '디자인소품', '반려동물',\n",
       "       '뷰티', '스포츠·모빌리티', '여행·레저', '테크·가전', '패션·잡화', '푸드', '홈리빙', '분기',\n",
       "       '와디즈기사개수', '크라우드펀딩기사개수', 'PER', 'PBR', 'ROE', 'EBIT', 'Fri', 'Mon',\n",
       "       'Sat', 'Sun', 'Thu', 'Tue', 'Wed', '01', '02', '03', '04', '05', '06',\n",
       "       '07', '08', '09', '10', '11', '12'],\n",
       "      dtype='object')"
      ]
     },
     "execution_count": 137,
     "metadata": {},
     "output_type": "execute_result"
    }
   ],
   "source": [
    "master.columns"
   ]
  },
  {
   "cell_type": "code",
   "execution_count": 243,
   "metadata": {},
   "outputs": [],
   "source": [
    "features_=master.drop(['펀딩시작월','펀딩시작요일','과거프로젝트수','단어수','소비자물가',\\\n",
    "                       '음절수','펀딩시작날짜','펀딩마감날짜','제목','요약글',\\\n",
    "                       'Unnamed: 0','Unnamed: 0.1','url', '메이커', '좋아요수',\\\n",
    "                       '댓글수', '서포터수','카테고리', '분기','배송시작날짜',\\\n",
    "                       '달성액'], axis=1)"
   ]
  },
  {
   "cell_type": "code",
   "execution_count": 144,
   "metadata": {},
   "outputs": [],
   "source": [
    "features_=features_.drop(['달성률'],axis=1)"
   ]
  },
  {
   "cell_type": "code",
   "execution_count": 145,
   "metadata": {},
   "outputs": [],
   "source": [
    "target_=master['달성률']"
   ]
  },
  {
   "cell_type": "markdown",
   "metadata": {},
   "source": [
    "# 스케일링과 분석모형 다양화(LR, L1 , L2,엘라스틱) 시도\n",
    "## 1. 데이터 보존\n",
    "1) Robust Scaler (정규분포화, 이상치영향감소)\n",
    "2) np.log(x) +1 변형 실시(왜도 감소, 정규분포화, 이상치영향감소)\n",
    "\n",
    "## 2. 데이터 삭제 - '달성률' 이상치 (0과 iqr>\\5\\, std>\\3\\)\n",
    "1) 시각화 및 바로 회귀분석\n",
    "2) Robust Scaler\n",
    "3) np.log(x) +1 변형 실시\n",
    "\n",
    "## 3. Feature 이상치 제거(문제발생 가능성 0)"
   ]
  },
  {
   "cell_type": "markdown",
   "metadata": {},
   "source": [
    "# 1-1) Robust Scale화 실시, 회귀분석."
   ]
  },
  {
   "cell_type": "code",
   "execution_count": 212,
   "metadata": {},
   "outputs": [],
   "source": [
    "import sklearn.model_selection as ms\n",
    "from sklearn.preprocessing import RobustScaler\n",
    "\n",
    "X_train, X_test, y_train, y_test = \\\n",
    "ms.train_test_split(features_, target_, test_size=0.3, random_state=42)\n",
    "\n",
    "# feature 데이터(masterf)에 robust scaling 실시\n",
    "from sklearn.preprocessing import RobustScaler\n",
    "Rs_Xtrain=RobustScaler().fit_transform(X_train)\n",
    "Rs_Xtest=RobustScaler().fit_transform(X_test)\n",
    "Rs_ytrain=np.squeeze(RobustScaler().fit_transform(y_train.values.reshape(-1,1)))\n",
    "Rs_ytest=np.squeeze(RobustScaler().fit_transform(y_test.values.reshape(-1,1)))\n",
    "\n",
    "\n",
    "#Rs_Xtrain_cleaned=Rs_Xtrain[Rs_Xtrain<5]\n",
    "#Rs_Xtest_cleaned=Rs_Xtest[Rs_Xtest<5]\n",
    "#Rs_ytrain_cleaned=Rs_ytrain[Rs_ytrain<5]\n",
    "#Rs_ytest_cleaned=Rs_ytest[Rs_ytest<5]\n",
    "\n",
    "%matplotlib inline\n",
    "import matplotlib.pyplot as plt\n",
    "\n",
    "plt.hist(Rs_Xtrain)\n",
    "plt.show()"
   ]
  },
  {
   "cell_type": "code",
   "execution_count": 225,
   "metadata": {},
   "outputs": [
    {
     "name": "stdout",
     "output_type": "stream",
     "text": [
      "MSE: 2923006.636101\n",
      "RMSE: 1709.680\n",
      "R2: 0.251\n",
      "----------\n",
      "Adjusted R2: 0.2398\n",
      "Scaled_Adjusted R2: 0.2311\n",
      "----------\n",
      "Scale데이터모형 향상도: -0.0087\n"
     ]
    }
   ],
   "source": [
    "#다중선형회귀 실시\n",
    "import sklearn.linear_model as lm\n",
    "import sklearn.metrics as mt\n",
    "import numpy as np\n",
    "\n",
    "reg=lm.LinearRegression().fit(X_train,y_train)\n",
    "y_pred = reg.predict(X_test)\n",
    "\n",
    "reg_scaled=lm.LinearRegression().fit(Rs_Xtrain ,Rs_ytrain)\n",
    "y_pred_scaled = reg_scaled.predict(Rs_Xtest)\n",
    "r2_scaled = mt.r2_score(Rs_ytest, y_pred_scaled)\n",
    "\n",
    "#오차 및 결정계수\n",
    "mse = mt.mean_squared_error(y_test, y_pred) # 테스트예측값\n",
    "rmse = np.sqrt(mse)\n",
    "r2 = mt.r2_score(y_test, y_pred)\n",
    "\n",
    "print('MSE: {:3f}\\nRMSE: {:.3f}\\nR2: {:.3f}'.format(mse, rmse, r2))\n",
    "#수정결정계수\n",
    "n = len(X_train)\n",
    "k = len(X_train.columns)\n",
    "\n",
    "adj_r2 = 1 - ((1-r2)*(n-1) / (n-k-1))\n",
    "adj_r2_scaled = 1 - ((1-r2_scaled)*(n-1) / (n-k-1))\n",
    "print('-'*10)\n",
    "print('선형회귀 Adjusted R2: {:.4f}'.format(adj_r2))\n",
    "print('선형회귀 Scaled_Adjusted R2: {:.4f}'.format(adj_r2_scaled))\n",
    "print('-'*10)\n",
    "print('선형회귀 Scale데이터모형 향상도: {:.4f}'.format(adj_r2_scaled-adj_r2))\n",
    "#coefs = pd.Series(data=np.round(reg.coef_,3),index=features_.columns)\n",
    "#coefs_sort = coefs.sort_values(ascending=False)\n",
    "#print(coefs_sort)\n",
    "#print('절편:', round(reg.intercept_, 3))\n",
    "#np.set_printoptions(suppress=False)"
   ]
  },
  {
   "cell_type": "code",
   "execution_count": 227,
   "metadata": {},
   "outputs": [
    {
     "data": {
      "image/png": "[encoded data removed]",
      "text/plain": [
       "<Figure size 432x288 with 1 Axes>"
      ]
     },
     "metadata": {
      "needs_background": "light"
     },
     "output_type": "display_data"
    }
   ],
   "source": [
    "%matplotlib inline\n",
    "import matplotlib.pyplot as plt\n",
    "\n",
    "plt.scatter(y_test,y_pred, color ='b')\n",
    "plt.xlabel('Actual Progression',fontsize=14)\n",
    "plt.ylabel('Predicted Progression',fontsize=14)\n",
    "plt.title('Comparision',fontsize=18)\n",
    "plt.show() "
   ]
  },
  {
   "cell_type": "code",
   "execution_count": 226,
   "metadata": {},
   "outputs": [
    {
     "name": "stdout",
     "output_type": "stream",
     "text": [
      "릿지회귀 R2: 0.2513\n",
      "릿지회귀 Adjusted R2: 0.2398\n",
      "릿지회귀 Scaled_Adjusted R2: 0.2311\n",
      "릿지회귀 Scale데이터모형 향상도: -0.0087\n"
     ]
    },
    {
     "name": "stderr",
     "output_type": "stream",
     "text": [
      "C:\\ProgramData\\Anaconda3\\lib\\site-packages\\sklearn\\linear_model\\ridge.py:125: LinAlgWarning: Ill-conditioned matrix (rcond=2.45552e-19): result may not be accurate.\n",
      "  overwrite_a=True).T\n"
     ]
    }
   ],
   "source": [
    "#릿지 회귀 실시\n",
    "ridge=lm.Ridge(alpha = 0.01)\n",
    "reg=ridge.fit(X_train,y_train)\n",
    "y_pred = reg.predict(X_test)\n",
    "\n",
    "ridge=lm.Ridge(alpha = 0.01)\n",
    "reg_scaled=ridge.fit(Rs_Xtrain ,Rs_ytrain)\n",
    "y_pred_scaled = reg_scaled.predict(Rs_Xtest)\n",
    "\n",
    "r2=mt.r2_score(y_test,y_pred)\n",
    "r2_scaled = mt.r2_score(Rs_ytest, y_pred_scaled) #정답, 예측값 순서\n",
    "print('릿지회귀 R2: {:.4f}'.format(r2))\n",
    "print('릿지회귀 Adjusted R2: {:.4f}'.format(adj_r2))\n",
    "print('릿지회귀 Scaled_Adjusted R2: {:.4f}'.format(adj_r2_scaled))\n",
    "print('릿지회귀 Scale데이터모형 향상도: {:.4f}'.format(adj_r2_scaled-adj_r2))\n"
   ]
  },
  {
   "cell_type": "code",
   "execution_count": 228,
   "metadata": {},
   "outputs": [
    {
     "data": {
      "image/png": "[encoded data removed]",
      "text/plain": [
       "<Figure size 432x288 with 1 Axes>"
      ]
     },
     "metadata": {
      "needs_background": "light"
     },
     "output_type": "display_data"
    }
   ],
   "source": [
    "%matplotlib inline\n",
    "import matplotlib.pyplot as plt\n",
    "\n",
    "plt.scatter(y_test,y_pred, color ='b')\n",
    "plt.xlabel('Actual Progression',fontsize=14)\n",
    "plt.ylabel('Predicted Progression',fontsize=14)\n",
    "plt.title('Comparision',fontsize=18)\n",
    "plt.show() "
   ]
  },
  {
   "cell_type": "code",
   "execution_count": 234,
   "metadata": {},
   "outputs": [
    {
     "name": "stdout",
     "output_type": "stream",
     "text": [
      "릿지회귀 R2: 0.2513\n",
      "릿지회귀 Adjusted R2: 0.2398\n",
      "릿지회귀 Scaled_Adjusted R2: 0.2311\n",
      "릿지회귀 Scale데이터모형 향상도: -0.0087\n"
     ]
    },
    {
     "name": "stderr",
     "output_type": "stream",
     "text": [
      "C:\\ProgramData\\Anaconda3\\lib\\site-packages\\sklearn\\linear_model\\ridge.py:125: LinAlgWarning: Ill-conditioned matrix (rcond=2.45552e-19): result may not be accurate.\n",
      "  overwrite_a=True).T\n"
     ]
    }
   ],
   "source": [
    "#라쏘 회귀 실시\n",
    "lasso=lm.Lasso(alpha = 0.1)\n",
    "reg=ridge.fit(X_train,y_train)\n",
    "y_pred = reg.predict(X_test)\n",
    "\n",
    "lasso_scaled=lm.Lasso(alpha = 0.01)\n",
    "reg_scaled=ridge.fit(Rs_Xtrain ,Rs_ytrain)\n",
    "y_pred_scaled = reg_scaled.predict(Rs_Xtest)\n",
    "\n",
    "r2=mt.r2_score(y_test,y_pred)\n",
    "r2_scaled = mt.r2_score(Rs_ytest, y_pred_scaled) #정답, 예측값 순서\n",
    "print('릿지회귀 R2: {:.4f}'.format(r2))\n",
    "print('릿지회귀 Adjusted R2: {:.4f}'.format(adj_r2))\n",
    "print('릿지회귀 Scaled_Adjusted R2: {:.4f}'.format(adj_r2_scaled))\n",
    "print('릿지회귀 Scale데이터모형 향상도: {:.4f}'.format(adj_r2_scaled-adj_r2))\n"
   ]
  },
  {
   "cell_type": "code",
   "execution_count": 242,
   "metadata": {},
   "outputs": [
    {
     "name": "stdout",
     "output_type": "stream",
     "text": [
      "릿지회귀 R2: 0.2513\n",
      "릿지회귀 Adjusted R2: 0.2398\n",
      "릿지회귀 Scaled_Adjusted R2: 0.2311\n",
      "릿지회귀 Scale데이터모형 향상도: -0.0087\n"
     ]
    },
    {
     "name": "stderr",
     "output_type": "stream",
     "text": [
      "C:\\ProgramData\\Anaconda3\\lib\\site-packages\\sklearn\\linear_model\\ridge.py:125: LinAlgWarning: Ill-conditioned matrix (rcond=2.45552e-19): result may not be accurate.\n",
      "  overwrite_a=True).T\n"
     ]
    }
   ],
   "source": [
    "#엘라스틱 회귀 실시\n",
    "elastic = lm.ElasticNet(alpha = 0.01, l1_ratio=0.5)\n",
    "reg=ridge.fit(X_train,y_train)\n",
    "y_pred = reg.predict(X_test)\n",
    "\n",
    "elastic_scaled = lm.ElasticNet(alpha = 0.01, l1_ratio=0.5)\n",
    "reg_scaled=ridge.fit(Rs_Xtrain ,Rs_ytrain)\n",
    "y_pred_scaled = reg_scaled.predict(Rs_Xtest)\n",
    "\n",
    "r2=mt.r2_score(y_test,y_pred)\n",
    "r2_scaled = mt.r2_score(Rs_ytest, y_pred_scaled) #정답, 예측값 순서\n",
    "print('릿지회귀 R2: {:.4f}'.format(r2))\n",
    "print('릿지회귀 Adjusted R2: {:.4f}'.format(adj_r2))\n",
    "print('릿지회귀 Scaled_Adjusted R2: {:.4f}'.format(adj_r2_scaled))\n",
    "print('릿지회귀 Scale데이터모형 향상도: {:.4f}'.format(adj_r2_scaled-adj_r2))\n"
   ]
  },
  {
   "cell_type": "markdown",
   "metadata": {},
   "source": [
    "# 1-1)결론: Robust Scale 시도했으나, 여전히 모형, 변수 변화에도 심폐소생불가"
   ]
  },
  {
   "cell_type": "markdown",
   "metadata": {},
   "source": [
    "# 그런데 원핫인코딩을 Robust해도될까..? 원핫인코딩컬럼 제외하고 다시해보자"
   ]
  },
  {
   "cell_type": "code",
   "execution_count": 253,
   "metadata": {},
   "outputs": [],
   "source": [
    "ohe제거=features_.drop(['디자인소품', '반려동물', '뷰티', '스포츠·모빌리티', '여행·레저', '테크·가전',\n",
    "       '패션·잡화', '푸드', '홈리빙','Fri', 'Mon', 'Sat', 'Sun', 'Thu', 'Tue', 'Wed', '01', '02',\n",
    "       '03', '04', '05', '06', '07', '08', '09', '10', '11', '12'], axis=1)"
   ]
  },
  {
   "cell_type": "code",
   "execution_count": 254,
   "metadata": {},
   "outputs": [
    {
     "name": "stdout",
     "output_type": "stream",
     "text": [
      "(5302, 29)\n",
      "(5302,)\n"
     ]
    }
   ],
   "source": [
    "print(ohe제거.shape)\n",
    "print(target_.shape)"
   ]
  },
  {
   "cell_type": "code",
   "execution_count": 260,
   "metadata": {
    "scrolled": true
   },
   "outputs": [
    {
     "data": {
      "image/png": "[encoded data removed]",
      "text/plain": [
       "<Figure size 432x288 with 1 Axes>"
      ]
     },
     "metadata": {
      "needs_background": "light"
     },
     "output_type": "display_data"
    }
   ],
   "source": [
    "import sklearn.model_selection as ms\n",
    "from sklearn.preprocessing import RobustScaler\n",
    "\n",
    "X_train, X_test, y_train, y_test = \\\n",
    "ms.train_test_split(ohe제거, target_, test_size=0.3, random_state=42)\n",
    "\n",
    "# feature 데이터(masterf)에 robust scaling 실시\n",
    "from sklearn.preprocessing import RobustScaler\n",
    "Rs_Xtrain=RobustScaler().fit_transform(X_train)\n",
    "Rs_Xtest=RobustScaler().fit_transform(X_test)\n",
    "Rs_ytrain=np.squeeze(RobustScaler().fit_transform(y_train.values.reshape(-1,1)))\n",
    "Rs_ytest=np.squeeze(RobustScaler().fit_transform(y_test.values.reshape(-1,1)))\n",
    "\n",
    "\n",
    "#Rs_Xtrain_cleaned=Rs_Xtrain[Rs_Xtrain<5]\n",
    "#Rs_Xtest_cleaned=Rs_Xtest[Rs_Xtest<5]\n",
    "#Rs_ytrain_cleaned=Rs_ytrain[Rs_ytrain<5]\n",
    "#Rs_ytest_cleaned=Rs_ytest[Rs_ytest<5]\n",
    "\n",
    "%matplotlib inline\n",
    "import matplotlib.pyplot as plt\n",
    "\n",
    "plt.hist(Rs_Xtrain)\n",
    "plt.show()"
   ]
  },
  {
   "cell_type": "code",
   "execution_count": 261,
   "metadata": {
    "scrolled": true
   },
   "outputs": [
    {
     "name": "stdout",
     "output_type": "stream",
     "text": [
      "MSE: 0.000000\n",
      "RMSE: 0.000\n",
      "R2: 1.000\n",
      "----------\n",
      "선형회귀 Adjusted R2: 1.0000\n",
      "선형회귀 Scaled_Adjusted R2: 1.0000\n",
      "----------\n",
      "선형회귀 Scale데이터모형 향상도: 0.0000\n"
     ]
    }
   ],
   "source": [
    "#다중선형회귀 실시\n",
    "import sklearn.linear_model as lm\n",
    "import sklearn.metrics as mt\n",
    "import numpy as np\n",
    "\n",
    "reg=lm.LinearRegression().fit(X_train,y_train)\n",
    "y_pred = reg.predict(X_test)\n",
    "\n",
    "reg_scaled=lm.LinearRegression().fit(Rs_Xtrain ,Rs_ytrain)\n",
    "y_pred_scaled = reg_scaled.predict(Rs_Xtest)\n",
    "r2_scaled = mt.r2_score(Rs_ytest, y_pred_scaled)\n",
    "\n",
    "#오차 및 결정계수\n",
    "mse = mt.mean_squared_error(y_test, y_pred) # 테스트예측값\n",
    "rmse = np.sqrt(mse)\n",
    "r2 = mt.r2_score(y_test, y_pred)\n",
    "\n",
    "print('MSE: {:3f}\\nRMSE: {:.3f}\\nR2: {:.3f}'.format(mse, rmse, r2))\n",
    "#수정결정계수\n",
    "n = len(X_train)\n",
    "k = len(X_train.columns)\n",
    "\n",
    "adj_r2 = 1 - ((1-r2)*(n-1) / (n-k-1))\n",
    "adj_r2_scaled = 1 - ((1-r2_scaled)*(n-1) / (n-k-1))\n",
    "print('-'*10)\n",
    "print('선형회귀 Adjusted R2: {:.4f}'.format(adj_r2))\n",
    "print('선형회귀 Scaled_Adjusted R2: {:.4f}'.format(adj_r2_scaled))\n",
    "print('-'*10)\n",
    "print('선형회귀 Scale데이터모형 향상도: {:.4f}'.format(adj_r2_scaled-adj_r2))\n",
    "#coefs = pd.Series(data=np.round(reg.coef_,3),index=features_.columns)\n",
    "#coefs_sort = coefs.sort_values(ascending=False)\n",
    "#print(coefs_sort)\n",
    "#print('절편:', round(reg.intercept_, 3))\n",
    "#np.set_printoptions(suppress=False)"
   ]
  },
  {
   "cell_type": "code",
   "execution_count": 262,
   "metadata": {},
   "outputs": [
    {
     "name": "stdout",
     "output_type": "stream",
     "text": [
      "릿지회귀 R2: 1.0000\n",
      "릿지회귀 Adjusted R2: 1.0000\n",
      "릿지회귀 Scaled_Adjusted R2: 1.0000\n",
      "릿지회귀 Scale데이터모형 향상도: 0.0000\n"
     ]
    }
   ],
   "source": [
    "#릿지 회귀 실시\n",
    "ridge=lm.Ridge(alpha = 0.01)\n",
    "reg=ridge.fit(X_train,y_train)\n",
    "y_pred = reg.predict(X_test)\n",
    "\n",
    "ridge=lm.Ridge(alpha = 0.01)\n",
    "reg_scaled=ridge.fit(Rs_Xtrain ,Rs_ytrain)\n",
    "y_pred_scaled = reg_scaled.predict(Rs_Xtest)\n",
    "\n",
    "r2=mt.r2_score(y_test,y_pred)\n",
    "r2_scaled = mt.r2_score(Rs_ytest, y_pred_scaled) #정답, 예측값 순서\n",
    "print('릿지회귀 R2: {:.4f}'.format(r2))\n",
    "print('릿지회귀 Adjusted R2: {:.4f}'.format(adj_r2))\n",
    "print('릿지회귀 Scaled_Adjusted R2: {:.4f}'.format(adj_r2_scaled))\n",
    "print('릿지회귀 Scale데이터모형 향상도: {:.4f}'.format(adj_r2_scaled-adj_r2))\n"
   ]
  },
  {
   "cell_type": "code",
   "execution_count": 263,
   "metadata": {},
   "outputs": [
    {
     "name": "stdout",
     "output_type": "stream",
     "text": [
      "릿지회귀 R2: 1.0000\n",
      "릿지회귀 Adjusted R2: 1.0000\n",
      "릿지회귀 Scaled_Adjusted R2: 1.0000\n",
      "릿지회귀 Scale데이터모형 향상도: 0.0000\n"
     ]
    }
   ],
   "source": [
    "#라쏘 회귀 실시\n",
    "lasso=lm.Lasso(alpha = 0.1)\n",
    "reg=ridge.fit(X_train,y_train)\n",
    "y_pred = reg.predict(X_test)\n",
    "\n",
    "lasso_scaled=lm.Lasso(alpha = 0.01)\n",
    "reg_scaled=ridge.fit(Rs_Xtrain ,Rs_ytrain)\n",
    "y_pred_scaled = reg_scaled.predict(Rs_Xtest)\n",
    "\n",
    "r2=mt.r2_score(y_test,y_pred)\n",
    "r2_scaled = mt.r2_score(Rs_ytest, y_pred_scaled) #정답, 예측값 순서\n",
    "print('릿지회귀 R2: {:.4f}'.format(r2))\n",
    "print('릿지회귀 Adjusted R2: {:.4f}'.format(adj_r2))\n",
    "print('릿지회귀 Scaled_Adjusted R2: {:.4f}'.format(adj_r2_scaled))\n",
    "print('릿지회귀 Scale데이터모형 향상도: {:.4f}'.format(adj_r2_scaled-adj_r2))\n"
   ]
  },
  {
   "cell_type": "code",
   "execution_count": 264,
   "metadata": {},
   "outputs": [
    {
     "name": "stdout",
     "output_type": "stream",
     "text": [
      "릿지회귀 R2: 1.0000\n",
      "릿지회귀 Adjusted R2: 1.0000\n",
      "릿지회귀 Scaled_Adjusted R2: 1.0000\n",
      "릿지회귀 Scale데이터모형 향상도: 0.0000\n"
     ]
    }
   ],
   "source": [
    "#엘라스틱 회귀 실시\n",
    "elastic = lm.ElasticNet(alpha = 0.01, l1_ratio=0.5)\n",
    "reg=ridge.fit(X_train,y_train)\n",
    "y_pred = reg.predict(X_test)\n",
    "\n",
    "elastic_scaled = lm.ElasticNet(alpha = 0.01, l1_ratio=0.5)\n",
    "reg_scaled=ridge.fit(Rs_Xtrain ,Rs_ytrain)\n",
    "y_pred_scaled = reg_scaled.predict(Rs_Xtest)\n",
    "\n",
    "r2=mt.r2_score(y_test,y_pred)\n",
    "r2_scaled = mt.r2_score(Rs_ytest, y_pred_scaled) #정답, 예측값 순서\n",
    "print('릿지회귀 R2: {:.4f}'.format(r2))\n",
    "print('릿지회귀 Adjusted R2: {:.4f}'.format(adj_r2))\n",
    "print('릿지회귀 Scaled_Adjusted R2: {:.4f}'.format(adj_r2_scaled))\n",
    "print('릿지회귀 Scale데이터모형 향상도: {:.4f}'.format(adj_r2_scaled-adj_r2))\n"
   ]
  },
  {
   "cell_type": "markdown",
   "metadata": {},
   "source": [
    "# 100%.. 문제점이 무엇일까."
   ]
  },
  {
   "cell_type": "code",
   "execution_count": null,
   "metadata": {},
   "outputs": [],
   "source": [
    "def outliers_iqr(ys):\n",
    "    quartile_1, quartile_3 = np.percentile(ys, [25, 75])\n",
    "    iqr = quartile_3 - quartile_1\n",
    "    lower_bound = quartile_1 - (iqr * 1.5)\n",
    "    upper_bound = quartile_3 + (iqr * 1.5)\n",
    "    return np.where((ys > upper_bound) | (ys < lower_bound))"
   ]
  },
  {
   "cell_type": "code",
   "execution_count": null,
   "metadata": {},
   "outputs": [],
   "source": [
    "\n",
    "달성률_scaled=RobustScaler().fit_transform(features_.달성률)\n",
    "\n",
    "#Rs_Xtrain_cleaned=Rs_Xtrain[Rs_Xtrain<5]\n",
    "#Rs_Xtest_cleaned=Rs_Xtest[Rs_Xtest<5]\n",
    "#Rs_ytrain_cleaned=Rs_ytrain[Rs_ytrain<5]\n",
    "#Rs_ytest_cleaned=Rs_ytest[Rs_ytest<5]"
   ]
  }
 ],
 "metadata": {
  "kernelspec": {
   "display_name": "Python 3",
   "language": "python",
   "name": "python3"
  },
  "language_info": {
   "codemirror_mode": {
    "name": "ipython",
    "version": 3
   },
   "file_extension": ".py",
   "mimetype": "text/x-python",
   "name": "python",
   "nbconvert_exporter": "python",
   "pygments_lexer": "ipython3",
   "version": "3.7.3"
  }
 },
 "nbformat": 4,
 "nbformat_minor": 2
}
