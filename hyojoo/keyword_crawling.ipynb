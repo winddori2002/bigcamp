{
 "cells": [
  {
   "cell_type": "code",
   "execution_count": null,
   "metadata": {},
   "outputs": [],
   "source": [
    "import requests\n",
    "from bs4 import BeautifulSoup\n",
    "import openpyxl\n",
    "import re\n",
    "\n",
    "wb = openpyxl.Workbook()\n",
    "sheet = wb.active\n",
    "\n",
    "max = 100\n",
    "keyword = input(\"검색하실 키워드는?:\")\n",
    "\n",
    "for n in range(1, max, 10):  \n",
    "    raw = requests.get(\"https://search.naver.com/search.naver?where=news&sm=tab_jum&query=\" + keyword + \"&start=\" + str(n),\n",
    "                       headers={'User-Agent':'Mozilla/5.0'})\n",
    "\n",
    "    html = BeautifulSoup(raw.text, \"html.parser\")\n",
    "\n",
    "    articles = html.select(\"ul.type01>li\")\n",
    "\n",
    "    for a in articles:\n",
    "        title = a.select_one(\"a._sp_each_title\").text\n",
    "        print(title)\n",
    "        source = a.select_one(\"span._sp_each_source\").text\n",
    "        search = keyword\n",
    "        date = a.select_one(\"dd.txt_inline\").text\n",
    "        print(date)\n",
    "        \n",
    "    #1.  if 관련 뉴스 더보기 있으면, 그 탭 클릭 후 안에 들어가서  전체 목록의 title 및 date 뽑아오기\n",
    "    #2.  elif 더보기가 아닌 아래에 바로 관련 뉴스가 있으면, 그 title 및 date 그대로 뽑기\n",
    "    #3. else continue\n",
    "\n",
    "    #이런식으로 해야 할 것 같은데 어렵당....  \n",
    "    \n",
    "        sheet.append([keyword, date, title])\n",
    "\n",
    "wb.save(\"네이버뉴스키워드.xlsx\")"
   ]
  }
 ],
 "metadata": {
  "kernelspec": {
   "display_name": "Python 3",
   "language": "python",
   "name": "python3"
  },
  "language_info": {
   "codemirror_mode": {
    "name": "ipython",
    "version": 3
   },
   "file_extension": ".py",
   "mimetype": "text/x-python",
   "name": "python",
   "nbconvert_exporter": "python",
   "pygments_lexer": "ipython3",
   "version": "3.7.3"
  }
 },
 "nbformat": 4,
 "nbformat_minor": 2
}
